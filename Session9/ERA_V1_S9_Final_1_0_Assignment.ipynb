{
  "cells": [
    {
      "cell_type": "code",
      "source": [
        "!pip install -U git+https://github.com/albu/albumentations > /dev/null && echo \"All libraries are successfully installed!\"\n"
      ],
      "metadata": {
        "colab": {
          "base_uri": "https://localhost:8080/"
        },
        "id": "pYAcmFGOpVey",
        "outputId": "7921b164-0324-4b28-db87-9c9efa891c6c"
      },
      "execution_count": 1,
      "outputs": [
        {
          "output_type": "stream",
          "name": "stdout",
          "text": [
            "  Running command git clone --filter=blob:none --quiet https://github.com/albu/albumentations /tmp/pip-req-build-nc2n45t_\n",
            "All libraries are successfully installed!\n"
          ]
        }
      ]
    },
    {
      "cell_type": "code",
      "source": [
        "import warnings\n",
        "warnings.filterwarnings(\"ignore\")"
      ],
      "metadata": {
        "id": "4gCH4aY7hbIe"
      },
      "execution_count": 2,
      "outputs": []
    },
    {
      "cell_type": "code",
      "execution_count": 3,
      "metadata": {
        "id": "vwfz7esYN-g-"
      },
      "outputs": [],
      "source": [
        "from IPython.core.interactiveshell import InteractiveShell\n",
        "InteractiveShell.ast_node_interactivity = 'all'"
      ]
    },
    {
      "cell_type": "code",
      "metadata": {
        "id": "_xG3EaAAHGIQ",
        "colab": {
          "base_uri": "https://localhost:8080/"
        },
        "outputId": "ff0c0f31-4eff-4caa-ec87-4f0e08ec98f7"
      },
      "source": [
        "!ls -ltr\n",
        "!hostname -i"
      ],
      "execution_count": 4,
      "outputs": [
        {
          "output_type": "stream",
          "name": "stdout",
          "text": [
            "total 4\n",
            "drwxr-xr-x 1 root root 4096 Jun 28 13:38 sample_data\n",
            "172.28.0.12\n"
          ]
        }
      ]
    },
    {
      "cell_type": "code",
      "source": [
        "!git clone https://github.com/amitkml/ERA-V1"
      ],
      "metadata": {
        "colab": {
          "base_uri": "https://localhost:8080/"
        },
        "id": "eRYCM-9hR9Vv",
        "outputId": "1d104ca6-70d1-42a0-9183-73ecc621ada2"
      },
      "execution_count": 5,
      "outputs": [
        {
          "output_type": "stream",
          "name": "stdout",
          "text": [
            "Cloning into 'ERA-V1'...\n",
            "remote: Enumerating objects: 218, done.\u001b[K\n",
            "remote: Counting objects: 100% (192/192), done.\u001b[K\n",
            "remote: Compressing objects: 100% (155/155), done.\u001b[K\n",
            "remote: Total 218 (delta 64), reused 155 (delta 31), pack-reused 26\u001b[K\n",
            "Receiving objects: 100% (218/218), 88.79 MiB | 6.99 MiB/s, done.\n",
            "Resolving deltas: 100% (65/65), done.\n",
            "Updating files: 100% (112/112), done.\n"
          ]
        }
      ]
    },
    {
      "cell_type": "code",
      "source": [
        "cd \"/content/ERA-V1/Session9\""
      ],
      "metadata": {
        "colab": {
          "base_uri": "https://localhost:8080/"
        },
        "id": "EN3klWaMSJUv",
        "outputId": "9f130920-7340-4552-9b6b-6116f5448c87"
      },
      "execution_count": 6,
      "outputs": [
        {
          "output_type": "stream",
          "name": "stdout",
          "text": [
            "/content/ERA-V1/Session9\n"
          ]
        }
      ]
    },
    {
      "cell_type": "markdown",
      "metadata": {
        "id": "_kXPnIqUqhwH"
      },
      "source": [
        "# Loading UD modules"
      ]
    },
    {
      "cell_type": "code",
      "execution_count": 7,
      "metadata": {
        "id": "2iOPffRgHGhF"
      },
      "outputs": [],
      "source": [
        "import pandas as pd\n",
        "import numpy as np\n",
        "\n",
        "import torch\n",
        "import data_utils as dutils\n",
        "import model_utils as mutils\n",
        "import plot_utils as putils\n",
        "import regularization\n",
        "import model_cifar as mod_cifar\n",
        "# import model_cifar_gnorm as model_gcifar\n",
        "# import model_cifar_lnorm as model_cifar_lnorm\n",
        "import matplotlib.pyplot as plt\n",
        "import seaborn as sns\n",
        "import models as mod\n",
        "# import albumentations as A\n",
        "from torchvision import datasets, transforms\n",
        "import os"
      ]
    },
    {
      "cell_type": "markdown",
      "metadata": {
        "id": "Wik2-FtyqnDH"
      },
      "source": [
        "# Check GPU avaiability"
      ]
    },
    {
      "cell_type": "code",
      "execution_count": 8,
      "metadata": {
        "colab": {
          "base_uri": "https://localhost:8080/"
        },
        "id": "FJ0f14SWHHPg",
        "outputId": "bafe44b2-1be1-4a11-fd1b-b861f65616da"
      },
      "outputs": [
        {
          "output_type": "stream",
          "name": "stdout",
          "text": [
            "CUDA Available? True\n",
            "Device is cuda:0\n"
          ]
        }
      ],
      "source": [
        "device = dutils.get_device()"
      ]
    },
    {
      "cell_type": "code",
      "execution_count": 9,
      "metadata": {
        "id": "VJNAh9n_N-hK",
        "outputId": "93bb561a-15a4-44cf-9c13-8854878fff73",
        "colab": {
          "base_uri": "https://localhost:8080/",
          "height": 35
        }
      },
      "outputs": [
        {
          "output_type": "execute_result",
          "data": {
            "text/plain": [
              "'cuda'"
            ],
            "application/vnd.google.colaboratory.intrinsic+json": {
              "type": "string"
            }
          },
          "metadata": {},
          "execution_count": 9
        }
      ],
      "source": [
        "device.type"
      ]
    },
    {
      "cell_type": "code",
      "execution_count": 10,
      "metadata": {
        "id": "CvY0GK1cN-hL"
      },
      "outputs": [],
      "source": [
        "cuda = torch.cuda.is_available()"
      ]
    },
    {
      "cell_type": "code",
      "execution_count": 11,
      "metadata": {
        "id": "RlIMeA54N-hN",
        "outputId": "66448f94-1f6c-486d-ddcf-fde9364dbfe1",
        "colab": {
          "base_uri": "https://localhost:8080/"
        }
      },
      "outputs": [
        {
          "output_type": "execute_result",
          "data": {
            "text/plain": [
              "True"
            ]
          },
          "metadata": {},
          "execution_count": 11
        }
      ],
      "source": [
        "cuda"
      ]
    },
    {
      "cell_type": "markdown",
      "metadata": {
        "id": "TJ-pAGuzqxz9"
      },
      "source": [
        "# CIFAR10 Basics"
      ]
    },
    {
      "cell_type": "code",
      "execution_count": 12,
      "metadata": {
        "id": "V548eThGVWxb"
      },
      "outputs": [],
      "source": [
        "classes = ('plane', 'car', 'bird', 'cat', 'deer', 'dog', 'frog', 'horse', 'ship', 'truck')\n",
        "\n",
        "SEED = 1\n",
        "batch_size=64\n",
        "\n",
        "# CUDA?\n",
        "if device.type == 'cuda':\n",
        "    torch.cuda.manual_seed(SEED)\n",
        "else:\n",
        "    torch.manual_seed(SEED)"
      ]
    },
    {
      "cell_type": "markdown",
      "metadata": {
        "id": "PZFlFr2Qq7wz"
      },
      "source": [
        "# Load CIFAR10 dataset"
      ]
    },
    {
      "cell_type": "code",
      "execution_count": 13,
      "metadata": {
        "id": "6QNwC6lrN-hS",
        "outputId": "4fe92d81-718b-41e4-eb71-73f136a8d7f6",
        "colab": {
          "base_uri": "https://localhost:8080/",
          "height": 35
        }
      },
      "outputs": [
        {
          "output_type": "execute_result",
          "data": {
            "text/plain": [
              "'/content/ERA-V1/Session9'"
            ],
            "application/vnd.google.colaboratory.intrinsic+json": {
              "type": "string"
            }
          },
          "metadata": {},
          "execution_count": 13
        }
      ],
      "source": [
        "os.getcwd()"
      ]
    },
    {
      "cell_type": "code",
      "source": [
        "# path = os.getcwd()\n",
        "# path\n",
        "# # Load the CIFAR-10 training dataset\n",
        "# train_dataset = datasets.CIFAR10(root=path, train=True, download=True)\n",
        "\n",
        "# # Calculate the mean value of the dataset\n",
        "# mean_value_of_dataset = train_dataset.data.mean(axis=(0, 1, 2)) / 255\n",
        "\n",
        "# # Print the mean value\n",
        "# print(\"Mean value of the dataset:\", mean_value_of_dataset)"
      ],
      "metadata": {
        "id": "8OWkeoWqYTT1"
      },
      "execution_count": 14,
      "outputs": []
    },
    {
      "cell_type": "code",
      "source": [
        "import torch\n",
        "import torch.nn as nn\n",
        "import torch.optim as optim\n",
        "import torch.nn.functional as F\n",
        "from torch.utils.data import DataLoader\n",
        "import torchvision.transforms as transforms\n",
        "import torchvision.datasets as datasets\n",
        "import albumentations as A\n",
        "from albumentations.pytorch import ToTensorV2\n",
        "# from Albumentationtransform import AlbumentationTransforms\n",
        "from albumentations.pytorch import ToTensorV2\n"
      ],
      "metadata": {
        "id": "7l-rClmwaCzD"
      },
      "execution_count": 15,
      "outputs": []
    },
    {
      "cell_type": "code",
      "source": [
        "from torchvision import transforms\n",
        "import albumentations as A\n",
        "import albumentations.pytorch as AP\n",
        "import random\n",
        "import numpy as np\n",
        "\n",
        "class AlbumentationTransforms:\n",
        "  \"\"\"\n",
        "  Helper class to create test and train transforms using Albumentations\n",
        "  \"\"\"\n",
        "  def __init__(self, transforms_list=[]):\n",
        "    transforms_list.append(AP.ToTensorV2())\n",
        "\n",
        "    self.transforms = A.Compose(transforms_list)\n",
        "\n",
        "\n",
        "  def __call__(self, img):\n",
        "    img = np.array(img)\n",
        "    #print(img)\n",
        "    return self.transforms(image=img)['image']\n"
      ],
      "metadata": {
        "id": "aqqHY0sllb9k"
      },
      "execution_count": 16,
      "outputs": []
    },
    {
      "cell_type": "code",
      "source": [
        "channel_means = (0.5, 0.5, 0.5)\n",
        "channel_stdevs = (0.5, 0.5, 0.5)\n",
        "train_transform = AlbumentationTransforms([\n",
        "                                       A.Rotate((-28.0, 28.0)),\n",
        "                                       A.HorizontalFlip(),\n",
        "                                       A.RGBShift(r_shift_limit=50, g_shift_limit=50, b_shift_limit=50, p=0.5),\n",
        "                                       A.Normalize(mean=channel_means, std=channel_stdevs),\n",
        "                                       A.Cutout(num_holes=3, max_h_size=4,max_w_size = 4,p=0.)\n",
        "                                       ])\n",
        "# Test Phase transformations\n",
        "test_transform = AlbumentationTransforms([A.Normalize(mean=channel_means, std=channel_stdevs)])"
      ],
      "metadata": {
        "id": "gKShRnjCk20a"
      },
      "execution_count": 17,
      "outputs": []
    },
    {
      "cell_type": "code",
      "execution_count": 18,
      "metadata": {
        "colab": {
          "base_uri": "https://localhost:8080/"
        },
        "id": "sOJiNOrWHHgx",
        "outputId": "308c31b9-c6d2-4340-89fa-b5d5807fc18f"
      },
      "outputs": [
        {
          "output_type": "stream",
          "name": "stdout",
          "text": [
            "Downloading https://www.cs.toronto.edu/~kriz/cifar-10-python.tar.gz to ./data/cifar-10-python.tar.gz\n"
          ]
        },
        {
          "output_type": "stream",
          "name": "stderr",
          "text": [
            "100%|██████████| 170498071/170498071 [00:03<00:00, 48811816.63it/s]\n"
          ]
        },
        {
          "output_type": "stream",
          "name": "stdout",
          "text": [
            "Extracting ./data/cifar-10-python.tar.gz to ./data\n",
            "Files already downloaded and verified\n"
          ]
        }
      ],
      "source": [
        "# load CIFAR10 dataset\n",
        "# train_loader, test_loader = dutils.get_dataloader(batch_size=batch_size, num_workers=4, cuda = True,path = path )\n",
        "\n",
        "# Define the Albumentations transformations\n",
        "# # Define augmentation transformations\n",
        "# transform = A.Compose([\n",
        "#     A.HorizontalFlip(),\n",
        "#     A.ShiftScaleRotate(),\n",
        "#     A.CoarseDropout(max_holes=1, max_height=16, max_width=16, min_holes=1, min_height=16, min_width=16, fill_value=mean_value_of_dataset, mask_fill_value=None),\n",
        "#     ToTensorV2(),\n",
        "# ])\n",
        "\n",
        "# Create train and test datasets\n",
        "train_dataset = datasets.CIFAR10(root=\"./data\", train=True, download=True, transform=train_transform)\n",
        "test_dataset = datasets.CIFAR10(root=\"./data\", train=False, download=True, transform=test_transform)\n",
        "\n",
        "# Create data loaders\n",
        "batch_size = batch_size\n",
        "train_loader = DataLoader(train_dataset, batch_size=batch_size, shuffle=True, num_workers=1)\n",
        "test_loader = DataLoader(test_dataset, batch_size=batch_size, shuffle=False, num_workers=1)\n"
      ]
    },
    {
      "cell_type": "markdown",
      "metadata": {
        "id": "Uzk3Su4wrBV0"
      },
      "source": [
        "# Data mage Visualization"
      ]
    },
    {
      "cell_type": "code",
      "source": [
        "# plot_dataset_images_cifar(device, classes, train_loader)"
      ],
      "metadata": {
        "id": "_zU7XWwiZFtP"
      },
      "execution_count": 19,
      "outputs": []
    },
    {
      "cell_type": "markdown",
      "source": [],
      "metadata": {
        "id": "GimwrrlwK0Xb"
      }
    },
    {
      "cell_type": "markdown",
      "source": [
        "# Model with BN - From github"
      ],
      "metadata": {
        "id": "hoW5WhQNK0-W"
      }
    },
    {
      "cell_type": "markdown",
      "metadata": {
        "id": "aWZLLJzKK0-X"
      },
      "source": [
        "### Model structure"
      ]
    },
    {
      "cell_type": "code",
      "source": [
        "# class Net(nn.Module):\n",
        "#     def __init__(self, dropout_value = 0.0015, num_classes=10):\n",
        "#         super(Net, self).__init__()\n",
        "\n",
        "#         # Convolution Block 1\n",
        "#         self.conv1 = nn.Conv2d(3, 16, kernel_size=3, stride=1, padding=1)\n",
        "#         self.bn1 = nn.BatchNorm2d(16)\n",
        "#         self.dropout = nn.Dropout(dropout_value)\n",
        "#         # Convolution Block 2\n",
        "#         self.conv2 = nn.Conv2d(16, 32, kernel_size=3, stride=2, padding=1)\n",
        "#         self.bn2 = nn.BatchNorm2d(32)\n",
        "\n",
        "#         # Convolution Block 3\n",
        "#         self.conv3 = nn.Conv2d(32, 64, kernel_size=3, stride=2, padding=1)\n",
        "#         self.bn3 = nn.BatchNorm2d(64)\n",
        "\n",
        "#         # Depthwise Separable Convolution Block\n",
        "#         self.depthwise_conv = nn.Conv2d(64, 64, kernel_size=3, stride=1, padding=1, groups=64)\n",
        "#         self.pointwise_conv = nn.Conv2d(64, 128, kernel_size=1, stride=1)\n",
        "#         self.bn4 = nn.BatchNorm2d(128)\n",
        "\n",
        "#         # Dilated Convolution Block\n",
        "#         self.dilated_conv = nn.Conv2d(128, 128, kernel_size=3, stride=1, padding=2, dilation=2)\n",
        "#         self.bn5 = nn.BatchNorm2d(128)\n",
        "\n",
        "#         # Global Average Pooling\n",
        "#         self.global_avg_pool = nn.AdaptiveAvgPool2d(1)\n",
        "\n",
        "#         # Fully Connected Layer\n",
        "\n",
        "#         self.fc1 = nn.Linear(128, 32)\n",
        "#         self.fc = nn.Linear(32, num_classes)\n",
        "\n",
        "#     def forward(self, x):\n",
        "#         # Convolution Block 1\n",
        "#         x = F.relu(self.dropout(self.bn1(self.conv1(x))))\n",
        "\n",
        "#         # Convolution Block 2\n",
        "#         x = F.relu(self.dropout(self.bn2(self.conv2(x))))\n",
        "\n",
        "#         # Convolution Block 3\n",
        "#         x = F.relu(self.dropout(self.bn3(self.conv3(x))))\n",
        "\n",
        "#         # Depthwise Separable Convolution Block\n",
        "#         x = F.relu(self.dropout(self.bn4(self.pointwise_conv(self.depthwise_conv(x)))))\n",
        "\n",
        "#         # Dilated Convolution Block\n",
        "#         x = F.relu(self.dropout(self.bn5(self.dilated_conv(x))))\n",
        "\n",
        "#         # Global Average Pooling\n",
        "#         x = self.global_avg_pool(x)\n",
        "#         x = x.view(x.size(0), -1)\n",
        "\n",
        "#         # Fully Connected Layer\n",
        "#         x = self.fc(self.fc1(x))\n",
        "\n",
        "#         return F.log_softmax(x, dim=-1)\n",
        "\n"
      ],
      "metadata": {
        "id": "0oOmuebmYFsO"
      },
      "execution_count": 20,
      "outputs": []
    },
    {
      "cell_type": "code",
      "execution_count": 21,
      "metadata": {
        "id": "lx980uANK0-Y"
      },
      "outputs": [],
      "source": [
        "# model = mod.ResNet18()\n",
        "# model = Net() ##\n",
        "model = mod_cifar.model()"
      ]
    },
    {
      "cell_type": "code",
      "execution_count": 22,
      "metadata": {
        "outputId": "2635dc9c-802c-4d1f-b754-e0500826f293",
        "colab": {
          "base_uri": "https://localhost:8080/"
        },
        "id": "uTMjUHUqK0-Z"
      },
      "outputs": [
        {
          "output_type": "stream",
          "name": "stdout",
          "text": [
            "----------------------------------------------------------------\n",
            "        Layer (type)               Output Shape         Param #\n",
            "================================================================\n",
            "            Conv2d-1           [-1, 16, 32, 32]             448\n",
            "       BatchNorm2d-2           [-1, 16, 32, 32]              32\n",
            "           Dropout-3           [-1, 16, 32, 32]               0\n",
            "            Conv2d-4           [-1, 32, 16, 16]           4,640\n",
            "       BatchNorm2d-5           [-1, 32, 16, 16]              64\n",
            "           Dropout-6           [-1, 32, 16, 16]               0\n",
            "            Conv2d-7             [-1, 64, 8, 8]          18,496\n",
            "       BatchNorm2d-8             [-1, 64, 8, 8]             128\n",
            "           Dropout-9             [-1, 64, 8, 8]               0\n",
            "           Conv2d-10             [-1, 64, 8, 8]             640\n",
            "           Conv2d-11            [-1, 128, 8, 8]           8,320\n",
            "      BatchNorm2d-12            [-1, 128, 8, 8]             256\n",
            "          Dropout-13            [-1, 128, 8, 8]               0\n",
            "           Conv2d-14            [-1, 128, 8, 8]         147,584\n",
            "      BatchNorm2d-15            [-1, 128, 8, 8]             256\n",
            "          Dropout-16            [-1, 128, 8, 8]               0\n",
            "AdaptiveAvgPool2d-17            [-1, 128, 1, 1]               0\n",
            "           Linear-18                   [-1, 32]           4,128\n",
            "           Linear-19                   [-1, 10]             330\n",
            "================================================================\n",
            "Total params: 185,322\n",
            "Trainable params: 185,322\n",
            "Non-trainable params: 0\n",
            "----------------------------------------------------------------\n",
            "Input size (MB): 0.01\n",
            "Forward/backward pass size (MB): 1.06\n",
            "Params size (MB): 0.71\n",
            "Estimated Total Size (MB): 1.78\n",
            "----------------------------------------------------------------\n"
          ]
        }
      ],
      "source": [
        "mutils.model_summary(model, device, input_size=(3, 32, 32))"
      ]
    },
    {
      "cell_type": "code",
      "execution_count": 23,
      "metadata": {
        "id": "KJ9V7Hy0K0-Z"
      },
      "outputs": [],
      "source": [
        "# Create CIFAR10 network\n",
        "# model = model_cifar.Net(dropout_value = 0.05)\n",
        "# mutils.model_summary(model, device, input_size=(3, 32, 32))"
      ]
    },
    {
      "cell_type": "markdown",
      "metadata": {
        "id": "5_sSLrhDK0-Z"
      },
      "source": [
        "## Build and train model"
      ]
    },
    {
      "cell_type": "code",
      "execution_count": 24,
      "metadata": {
        "outputId": "7e171d5f-096c-4bd9-c377-40d59577e3da",
        "colab": {
          "base_uri": "https://localhost:8080/"
        },
        "id": "9mGY4cvLK0-a"
      },
      "outputs": [
        {
          "output_type": "execute_result",
          "data": {
            "text/plain": [
              "<torch.utils.data.dataloader.DataLoader at 0x7fe28247eda0>"
            ]
          },
          "metadata": {},
          "execution_count": 24
        }
      ],
      "source": [
        "test_loader"
      ]
    },
    {
      "cell_type": "code",
      "execution_count": 25,
      "metadata": {
        "colab": {
          "base_uri": "https://localhost:8080/"
        },
        "outputId": "b6ce624b-f2e5-433a-f1bb-9c0c70625aea",
        "id": "8tVTalrbK0-b"
      },
      "outputs": [
        {
          "output_type": "stream",
          "name": "stdout",
          "text": [
            "EPOCH: 0\n"
          ]
        },
        {
          "output_type": "stream",
          "name": "stderr",
          "text": [
            "Loss=1.677807 Batch_id=781 Accuracy=39.58: 100%|██████████| 782/782 [00:27<00:00, 28.31it/s]\n"
          ]
        },
        {
          "output_type": "stream",
          "name": "stdout",
          "text": [
            "\n",
            "Test set: Average loss: 1.452081, Accuracy: 4855/10000 (48.55%)\n",
            "\n",
            "EPOCH: 1\n"
          ]
        },
        {
          "output_type": "stream",
          "name": "stderr",
          "text": [
            "Loss=1.373978 Batch_id=781 Accuracy=51.99: 100%|██████████| 782/782 [00:27<00:00, 28.48it/s]\n"
          ]
        },
        {
          "output_type": "stream",
          "name": "stdout",
          "text": [
            "\n",
            "Test set: Average loss: 1.433155, Accuracy: 5233/10000 (52.33%)\n",
            "\n",
            "EPOCH: 2\n"
          ]
        },
        {
          "output_type": "stream",
          "name": "stderr",
          "text": [
            "Loss=1.257984 Batch_id=781 Accuracy=56.80: 100%|██████████| 782/782 [00:30<00:00, 25.30it/s]\n"
          ]
        },
        {
          "output_type": "stream",
          "name": "stdout",
          "text": [
            "\n",
            "Test set: Average loss: 1.275765, Accuracy: 5669/10000 (56.69%)\n",
            "\n",
            "EPOCH: 3\n"
          ]
        },
        {
          "output_type": "stream",
          "name": "stderr",
          "text": [
            "Loss=1.188131 Batch_id=781 Accuracy=59.95: 100%|██████████| 782/782 [00:26<00:00, 29.11it/s]\n"
          ]
        },
        {
          "output_type": "stream",
          "name": "stdout",
          "text": [
            "\n",
            "Test set: Average loss: 1.316092, Accuracy: 5365/10000 (53.65%)\n",
            "\n",
            "EPOCH: 4\n"
          ]
        },
        {
          "output_type": "stream",
          "name": "stderr",
          "text": [
            "Loss=1.142434 Batch_id=781 Accuracy=61.66: 100%|██████████| 782/782 [00:27<00:00, 28.53it/s]\n"
          ]
        },
        {
          "output_type": "stream",
          "name": "stdout",
          "text": [
            "\n",
            "Test set: Average loss: 1.389805, Accuracy: 5348/10000 (53.48%)\n",
            "\n",
            "EPOCH: 5\n"
          ]
        },
        {
          "output_type": "stream",
          "name": "stderr",
          "text": [
            "Loss=1.119128 Batch_id=781 Accuracy=62.69: 100%|██████████| 782/782 [00:27<00:00, 28.52it/s]\n"
          ]
        },
        {
          "output_type": "stream",
          "name": "stdout",
          "text": [
            "\n",
            "Test set: Average loss: 1.035552, Accuracy: 6359/10000 (63.59%)\n",
            "\n",
            "EPOCH: 6\n"
          ]
        },
        {
          "output_type": "stream",
          "name": "stderr",
          "text": [
            "Loss=1.094044 Batch_id=781 Accuracy=63.63: 100%|██████████| 782/782 [00:27<00:00, 28.67it/s]\n"
          ]
        },
        {
          "output_type": "stream",
          "name": "stdout",
          "text": [
            "\n",
            "Test set: Average loss: 1.140600, Accuracy: 6019/10000 (60.19%)\n",
            "\n",
            "EPOCH: 7\n"
          ]
        },
        {
          "output_type": "stream",
          "name": "stderr",
          "text": [
            "Loss=1.099709 Batch_id=781 Accuracy=63.23: 100%|██████████| 782/782 [00:27<00:00, 28.12it/s]\n"
          ]
        },
        {
          "output_type": "stream",
          "name": "stdout",
          "text": [
            "\n",
            "Test set: Average loss: 1.086906, Accuracy: 6189/10000 (61.89%)\n",
            "\n",
            "EPOCH: 8\n"
          ]
        },
        {
          "output_type": "stream",
          "name": "stderr",
          "text": [
            "Loss=0.837624 Batch_id=781 Accuracy=72.60: 100%|██████████| 782/782 [00:27<00:00, 28.35it/s]\n"
          ]
        },
        {
          "output_type": "stream",
          "name": "stdout",
          "text": [
            "\n",
            "Test set: Average loss: 0.656834, Accuracy: 7772/10000 (77.72%)\n",
            "\n",
            "EPOCH: 9\n"
          ]
        },
        {
          "output_type": "stream",
          "name": "stderr",
          "text": [
            "Loss=0.765967 Batch_id=781 Accuracy=75.07: 100%|██████████| 782/782 [00:27<00:00, 28.56it/s]\n"
          ]
        },
        {
          "output_type": "stream",
          "name": "stdout",
          "text": [
            "\n",
            "Test set: Average loss: 0.629960, Accuracy: 7852/10000 (78.52%)\n",
            "\n",
            "EPOCH: 10\n"
          ]
        },
        {
          "output_type": "stream",
          "name": "stderr",
          "text": [
            "Loss=0.738866 Batch_id=781 Accuracy=75.96: 100%|██████████| 782/782 [00:29<00:00, 26.96it/s]\n"
          ]
        },
        {
          "output_type": "stream",
          "name": "stdout",
          "text": [
            "\n",
            "Test set: Average loss: 0.611220, Accuracy: 7923/10000 (79.23%)\n",
            "\n",
            "EPOCH: 11\n"
          ]
        },
        {
          "output_type": "stream",
          "name": "stderr",
          "text": [
            "Loss=0.723745 Batch_id=781 Accuracy=76.34: 100%|██████████| 782/782 [00:27<00:00, 28.51it/s]\n"
          ]
        },
        {
          "output_type": "stream",
          "name": "stdout",
          "text": [
            "\n",
            "Test set: Average loss: 0.618842, Accuracy: 7927/10000 (79.27%)\n",
            "\n",
            "EPOCH: 12\n"
          ]
        },
        {
          "output_type": "stream",
          "name": "stderr",
          "text": [
            "Loss=0.714022 Batch_id=781 Accuracy=76.67: 100%|██████████| 782/782 [00:27<00:00, 28.38it/s]\n"
          ]
        },
        {
          "output_type": "stream",
          "name": "stdout",
          "text": [
            "\n",
            "Test set: Average loss: 0.627567, Accuracy: 7856/10000 (78.56%)\n",
            "\n",
            "EPOCH: 13\n"
          ]
        },
        {
          "output_type": "stream",
          "name": "stderr",
          "text": [
            "Loss=0.708053 Batch_id=781 Accuracy=76.95: 100%|██████████| 782/782 [00:27<00:00, 28.50it/s]\n"
          ]
        },
        {
          "output_type": "stream",
          "name": "stdout",
          "text": [
            "\n",
            "Test set: Average loss: 0.624698, Accuracy: 7873/10000 (78.73%)\n",
            "\n",
            "EPOCH: 14\n"
          ]
        },
        {
          "output_type": "stream",
          "name": "stderr",
          "text": [
            "Loss=0.702532 Batch_id=781 Accuracy=77.16: 100%|██████████| 782/782 [00:27<00:00, 28.14it/s]\n"
          ]
        },
        {
          "output_type": "stream",
          "name": "stdout",
          "text": [
            "\n",
            "Test set: Average loss: 0.663345, Accuracy: 7744/10000 (77.44%)\n",
            "\n",
            "EPOCH: 15\n"
          ]
        },
        {
          "output_type": "stream",
          "name": "stderr",
          "text": [
            "Loss=0.695897 Batch_id=781 Accuracy=77.24: 100%|██████████| 782/782 [00:27<00:00, 28.29it/s]\n"
          ]
        },
        {
          "output_type": "stream",
          "name": "stdout",
          "text": [
            "\n",
            "Test set: Average loss: 0.635905, Accuracy: 7810/10000 (78.10%)\n",
            "\n",
            "EPOCH: 16\n"
          ]
        },
        {
          "output_type": "stream",
          "name": "stderr",
          "text": [
            "Loss=0.619747 Batch_id=781 Accuracy=80.09: 100%|██████████| 782/782 [00:27<00:00, 28.30it/s]\n"
          ]
        },
        {
          "output_type": "stream",
          "name": "stdout",
          "text": [
            "\n",
            "Test set: Average loss: 0.522761, Accuracy: 8256/10000 (82.56%)\n",
            "\n",
            "EPOCH: 17\n"
          ]
        },
        {
          "output_type": "stream",
          "name": "stderr",
          "text": [
            "Loss=0.593796 Batch_id=781 Accuracy=80.91: 100%|██████████| 782/782 [00:27<00:00, 28.54it/s]\n"
          ]
        },
        {
          "output_type": "stream",
          "name": "stdout",
          "text": [
            "\n",
            "Test set: Average loss: 0.513735, Accuracy: 8261/10000 (82.61%)\n",
            "\n",
            "EPOCH: 18\n"
          ]
        },
        {
          "output_type": "stream",
          "name": "stderr",
          "text": [
            "Loss=0.579228 Batch_id=781 Accuracy=81.44: 100%|██████████| 782/782 [00:27<00:00, 28.10it/s]\n"
          ]
        },
        {
          "output_type": "stream",
          "name": "stdout",
          "text": [
            "\n",
            "Test set: Average loss: 0.511299, Accuracy: 8284/10000 (82.84%)\n",
            "\n",
            "EPOCH: 19\n"
          ]
        },
        {
          "output_type": "stream",
          "name": "stderr",
          "text": [
            "Loss=0.575770 Batch_id=781 Accuracy=81.54: 100%|██████████| 782/782 [00:27<00:00, 28.90it/s]\n"
          ]
        },
        {
          "output_type": "stream",
          "name": "stdout",
          "text": [
            "\n",
            "Test set: Average loss: 0.506169, Accuracy: 8320/10000 (83.20%)\n",
            "\n",
            "EPOCH: 20\n"
          ]
        },
        {
          "output_type": "stream",
          "name": "stderr",
          "text": [
            "Loss=0.562197 Batch_id=781 Accuracy=81.98: 100%|██████████| 782/782 [00:27<00:00, 28.66it/s]\n"
          ]
        },
        {
          "output_type": "stream",
          "name": "stdout",
          "text": [
            "\n",
            "Test set: Average loss: 0.501643, Accuracy: 8332/10000 (83.32%)\n",
            "\n",
            "EPOCH: 21\n"
          ]
        },
        {
          "output_type": "stream",
          "name": "stderr",
          "text": [
            "Loss=0.559835 Batch_id=781 Accuracy=82.17: 100%|██████████| 782/782 [00:28<00:00, 27.04it/s]\n"
          ]
        },
        {
          "output_type": "stream",
          "name": "stdout",
          "text": [
            "\n",
            "Test set: Average loss: 0.498730, Accuracy: 8303/10000 (83.03%)\n",
            "\n",
            "EPOCH: 22\n"
          ]
        },
        {
          "output_type": "stream",
          "name": "stderr",
          "text": [
            "Loss=0.556779 Batch_id=781 Accuracy=82.27: 100%|██████████| 782/782 [00:27<00:00, 28.91it/s]\n"
          ]
        },
        {
          "output_type": "stream",
          "name": "stdout",
          "text": [
            "\n",
            "Test set: Average loss: 0.496612, Accuracy: 8346/10000 (83.46%)\n",
            "\n",
            "EPOCH: 23\n"
          ]
        },
        {
          "output_type": "stream",
          "name": "stderr",
          "text": [
            "Loss=0.548411 Batch_id=781 Accuracy=82.53: 100%|██████████| 782/782 [00:27<00:00, 28.78it/s]\n"
          ]
        },
        {
          "output_type": "stream",
          "name": "stdout",
          "text": [
            "\n",
            "Test set: Average loss: 0.496720, Accuracy: 8341/10000 (83.41%)\n",
            "\n",
            "EPOCH: 24\n"
          ]
        },
        {
          "output_type": "stream",
          "name": "stderr",
          "text": [
            "Loss=0.536852 Batch_id=781 Accuracy=82.74: 100%|██████████| 782/782 [00:27<00:00, 28.36it/s]\n"
          ]
        },
        {
          "output_type": "stream",
          "name": "stdout",
          "text": [
            "\n",
            "Test set: Average loss: 0.488951, Accuracy: 8367/10000 (83.67%)\n",
            "\n",
            "EPOCH: 25\n"
          ]
        },
        {
          "output_type": "stream",
          "name": "stderr",
          "text": [
            "Loss=0.533458 Batch_id=781 Accuracy=83.08: 100%|██████████| 782/782 [00:27<00:00, 28.78it/s]\n"
          ]
        },
        {
          "output_type": "stream",
          "name": "stdout",
          "text": [
            "\n",
            "Test set: Average loss: 0.485890, Accuracy: 8377/10000 (83.77%)\n",
            "\n",
            "EPOCH: 26\n"
          ]
        },
        {
          "output_type": "stream",
          "name": "stderr",
          "text": [
            "Loss=0.533682 Batch_id=781 Accuracy=83.06: 100%|██████████| 782/782 [00:27<00:00, 28.86it/s]\n"
          ]
        },
        {
          "output_type": "stream",
          "name": "stdout",
          "text": [
            "\n",
            "Test set: Average loss: 0.484943, Accuracy: 8372/10000 (83.72%)\n",
            "\n",
            "EPOCH: 27\n"
          ]
        },
        {
          "output_type": "stream",
          "name": "stderr",
          "text": [
            "Loss=0.533032 Batch_id=781 Accuracy=83.03: 100%|██████████| 782/782 [00:27<00:00, 28.93it/s]\n"
          ]
        },
        {
          "output_type": "stream",
          "name": "stdout",
          "text": [
            "\n",
            "Test set: Average loss: 0.484291, Accuracy: 8376/10000 (83.76%)\n",
            "\n",
            "EPOCH: 28\n"
          ]
        },
        {
          "output_type": "stream",
          "name": "stderr",
          "text": [
            "Loss=0.528383 Batch_id=781 Accuracy=83.19: 100%|██████████| 782/782 [00:27<00:00, 28.64it/s]\n"
          ]
        },
        {
          "output_type": "stream",
          "name": "stdout",
          "text": [
            "\n",
            "Test set: Average loss: 0.482283, Accuracy: 8395/10000 (83.95%)\n",
            "\n",
            "EPOCH: 29\n"
          ]
        },
        {
          "output_type": "stream",
          "name": "stderr",
          "text": [
            "Loss=0.531875 Batch_id=781 Accuracy=83.17: 100%|██████████| 782/782 [00:26<00:00, 29.37it/s]\n"
          ]
        },
        {
          "output_type": "stream",
          "name": "stdout",
          "text": [
            "\n",
            "Test set: Average loss: 0.482447, Accuracy: 8376/10000 (83.76%)\n",
            "\n",
            "EPOCH: 30\n"
          ]
        },
        {
          "output_type": "stream",
          "name": "stderr",
          "text": [
            "Loss=0.528366 Batch_id=781 Accuracy=83.16: 100%|██████████| 782/782 [00:27<00:00, 28.89it/s]\n"
          ]
        },
        {
          "output_type": "stream",
          "name": "stdout",
          "text": [
            "\n",
            "Test set: Average loss: 0.484322, Accuracy: 8386/10000 (83.86%)\n",
            "\n",
            "EPOCH: 31\n"
          ]
        },
        {
          "output_type": "stream",
          "name": "stderr",
          "text": [
            "Loss=0.526963 Batch_id=781 Accuracy=83.21: 100%|██████████| 782/782 [00:27<00:00, 28.88it/s]\n"
          ]
        },
        {
          "output_type": "stream",
          "name": "stdout",
          "text": [
            "\n",
            "Test set: Average loss: 0.484086, Accuracy: 8385/10000 (83.85%)\n",
            "\n",
            "EPOCH: 32\n"
          ]
        },
        {
          "output_type": "stream",
          "name": "stderr",
          "text": [
            "Loss=0.527970 Batch_id=781 Accuracy=83.25: 100%|██████████| 782/782 [00:28<00:00, 27.49it/s]\n"
          ]
        },
        {
          "output_type": "stream",
          "name": "stdout",
          "text": [
            "\n",
            "Test set: Average loss: 0.481478, Accuracy: 8375/10000 (83.75%)\n",
            "\n",
            "EPOCH: 33\n"
          ]
        },
        {
          "output_type": "stream",
          "name": "stderr",
          "text": [
            "Loss=0.528955 Batch_id=781 Accuracy=83.11: 100%|██████████| 782/782 [00:27<00:00, 28.02it/s]\n"
          ]
        },
        {
          "output_type": "stream",
          "name": "stdout",
          "text": [
            "\n",
            "Test set: Average loss: 0.482359, Accuracy: 8373/10000 (83.73%)\n",
            "\n",
            "EPOCH: 34\n"
          ]
        },
        {
          "output_type": "stream",
          "name": "stderr",
          "text": [
            "Loss=0.525023 Batch_id=781 Accuracy=83.31: 100%|██████████| 782/782 [00:27<00:00, 28.44it/s]\n"
          ]
        },
        {
          "output_type": "stream",
          "name": "stdout",
          "text": [
            "\n",
            "Test set: Average loss: 0.485650, Accuracy: 8344/10000 (83.44%)\n",
            "\n",
            "EPOCH: 35\n"
          ]
        },
        {
          "output_type": "stream",
          "name": "stderr",
          "text": [
            "Loss=0.527676 Batch_id=781 Accuracy=83.22: 100%|██████████| 782/782 [00:27<00:00, 28.62it/s]\n"
          ]
        },
        {
          "output_type": "stream",
          "name": "stdout",
          "text": [
            "\n",
            "Test set: Average loss: 0.483400, Accuracy: 8373/10000 (83.73%)\n",
            "\n",
            "EPOCH: 36\n"
          ]
        },
        {
          "output_type": "stream",
          "name": "stderr",
          "text": [
            "Loss=0.523739 Batch_id=781 Accuracy=83.36: 100%|██████████| 782/782 [00:27<00:00, 27.94it/s]\n"
          ]
        },
        {
          "output_type": "stream",
          "name": "stdout",
          "text": [
            "\n",
            "Test set: Average loss: 0.482905, Accuracy: 8387/10000 (83.87%)\n",
            "\n",
            "EPOCH: 37\n"
          ]
        },
        {
          "output_type": "stream",
          "name": "stderr",
          "text": [
            "Loss=0.522509 Batch_id=781 Accuracy=83.44: 100%|██████████| 782/782 [00:27<00:00, 28.46it/s]\n"
          ]
        },
        {
          "output_type": "stream",
          "name": "stdout",
          "text": [
            "\n",
            "Test set: Average loss: 0.478488, Accuracy: 8397/10000 (83.97%)\n",
            "\n",
            "EPOCH: 38\n"
          ]
        },
        {
          "output_type": "stream",
          "name": "stderr",
          "text": [
            "Loss=0.530883 Batch_id=781 Accuracy=83.15: 100%|██████████| 782/782 [00:27<00:00, 28.32it/s]\n"
          ]
        },
        {
          "output_type": "stream",
          "name": "stdout",
          "text": [
            "\n",
            "Test set: Average loss: 0.488999, Accuracy: 8356/10000 (83.56%)\n",
            "\n",
            "EPOCH: 39\n"
          ]
        },
        {
          "output_type": "stream",
          "name": "stderr",
          "text": [
            "Loss=0.526588 Batch_id=781 Accuracy=83.13: 100%|██████████| 782/782 [00:27<00:00, 28.94it/s]\n"
          ]
        },
        {
          "output_type": "stream",
          "name": "stdout",
          "text": [
            "\n",
            "Test set: Average loss: 0.481584, Accuracy: 8375/10000 (83.75%)\n",
            "\n"
          ]
        }
      ],
      "source": [
        "# build and train the model\n",
        "model_name = \"Model CIFAR10\"\n",
        "EPOCHS = 40\n",
        "model =  model.to(device) # use GPU\n",
        "\n",
        "# using L1 and L2 regularization\n",
        "train_acc, train_losses, test_acc, test_losses = mutils.build_model(model,\n",
        "                                                            device,\n",
        "                                                            trainloader=train_loader,\n",
        "                                                            testloader=test_loader,\n",
        "                                                            epochs=EPOCHS,\n",
        "                                                            L1_loss_flag=True,\n",
        "                                                            L2_penalty_val=0.001)"
      ]
    },
    {
      "cell_type": "markdown",
      "metadata": {
        "id": "XCBCMvOpK0-e"
      },
      "source": [
        "## Test Accuracy"
      ]
    },
    {
      "cell_type": "code",
      "execution_count": 26,
      "metadata": {
        "id": "OM2e4tiqK0-f",
        "colab": {
          "base_uri": "https://localhost:8080/"
        },
        "outputId": "62930121-98ac-42cd-b814-23850acb9b1c"
      },
      "outputs": [
        {
          "output_type": "stream",
          "name": "stdout",
          "text": [
            "\n",
            "Accuracy of the network on the 10000 test images: 83.75%\n",
            "\n"
          ]
        }
      ],
      "source": [
        "mutils.get_test_accuracy(model, device, test_loader)"
      ]
    },
    {
      "cell_type": "markdown",
      "metadata": {
        "id": "Gyx71Ab1K0-f"
      },
      "source": [
        "### Class level Accuracy"
      ]
    },
    {
      "cell_type": "code",
      "execution_count": 27,
      "metadata": {
        "id": "HiQRxT_2K0-f",
        "colab": {
          "base_uri": "https://localhost:8080/"
        },
        "outputId": "24523eb3-181a-47e8-f4d9-313ee2e6510f"
      },
      "outputs": [
        {
          "output_type": "stream",
          "name": "stdout",
          "text": [
            "Accuracy of plane : 91 %\n",
            "Accuracy of   car : 90 %\n",
            "Accuracy of  bird : 73 %\n",
            "Accuracy of   cat : 68 %\n",
            "Accuracy of  deer : 80 %\n",
            "Accuracy of   dog : 72 %\n",
            "Accuracy of  frog : 89 %\n",
            "Accuracy of horse : 89 %\n",
            "Accuracy of  ship : 91 %\n",
            "Accuracy of truck : 92 %\n"
          ]
        }
      ],
      "source": [
        "mutils.class_based_accuracy(model, device, classes, test_loader)"
      ]
    },
    {
      "cell_type": "markdown",
      "metadata": {
        "id": "5treADSjK0-g"
      },
      "source": [
        "## Visualization"
      ]
    },
    {
      "cell_type": "code",
      "execution_count": 28,
      "metadata": {
        "id": "Zdbd3PFrK0-g",
        "colab": {
          "base_uri": "https://localhost:8080/",
          "height": 902
        },
        "outputId": "cfa4abd8-484f-4d66-d701-1235addef055"
      },
      "outputs": [
        {
          "output_type": "stream",
          "name": "stdout",
          "text": [
            "\n",
            "Ploting Accuracy and Loss history: Model CIFAR10\n",
            "\n"
          ]
        },
        {
          "output_type": "error",
          "ename": "TypeError",
          "evalue": "ignored",
          "traceback": [
            "\u001b[0;31m---------------------------------------------------------------------------\u001b[0m",
            "\u001b[0;31mTypeError\u001b[0m                                 Traceback (most recent call last)",
            "\u001b[0;32m<ipython-input-28-9ca4b1b0f18c>\u001b[0m in \u001b[0;36m<cell line: 2>\u001b[0;34m()\u001b[0m\n\u001b[1;32m      1\u001b[0m \u001b[0mprint\u001b[0m\u001b[0;34m(\u001b[0m\u001b[0;34m\"\\nPloting Accuracy and Loss history: {}\\n\"\u001b[0m\u001b[0;34m.\u001b[0m\u001b[0mformat\u001b[0m\u001b[0;34m(\u001b[0m\u001b[0mmodel_name\u001b[0m\u001b[0;34m)\u001b[0m\u001b[0;34m)\u001b[0m\u001b[0;34m\u001b[0m\u001b[0;34m\u001b[0m\u001b[0m\n\u001b[0;32m----> 2\u001b[0;31m putils.plot_model_history(model_name,\n\u001b[0m\u001b[1;32m      3\u001b[0m                    \u001b[0mtrain_acc\u001b[0m\u001b[0;34m,\u001b[0m\u001b[0mtest_acc\u001b[0m\u001b[0;34m,\u001b[0m\u001b[0;34m\u001b[0m\u001b[0;34m\u001b[0m\u001b[0m\n\u001b[1;32m      4\u001b[0m                    \u001b[0mtrain_losses\u001b[0m\u001b[0;34m,\u001b[0m\u001b[0mtest_losses\u001b[0m\u001b[0;34m,\u001b[0m\u001b[0;34m\u001b[0m\u001b[0;34m\u001b[0m\u001b[0m\n\u001b[1;32m      5\u001b[0m                    save_filename = \"model_history\")\n",
            "\u001b[0;32m/content/ERA-V1/Session9/plot_utils.py\u001b[0m in \u001b[0;36mplot_model_history\u001b[0;34m(title_name, train_acc_hist, test_acc_hist, train_loss_hist, test_loss_hist, save_filename)\u001b[0m\n\u001b[1;32m     32\u001b[0m     \u001b[0maxs\u001b[0m\u001b[0;34m[\u001b[0m\u001b[0;36m0\u001b[0m\u001b[0;34m]\u001b[0m\u001b[0;34m.\u001b[0m\u001b[0mset_ylabel\u001b[0m\u001b[0;34m(\u001b[0m\u001b[0;34m'Accuracy'\u001b[0m\u001b[0;34m)\u001b[0m\u001b[0;34m\u001b[0m\u001b[0;34m\u001b[0m\u001b[0m\n\u001b[1;32m     33\u001b[0m     \u001b[0maxs\u001b[0m\u001b[0;34m[\u001b[0m\u001b[0;36m0\u001b[0m\u001b[0;34m]\u001b[0m\u001b[0;34m.\u001b[0m\u001b[0mset_xlabel\u001b[0m\u001b[0;34m(\u001b[0m\u001b[0;34m'Epoch'\u001b[0m\u001b[0;34m)\u001b[0m\u001b[0;34m\u001b[0m\u001b[0;34m\u001b[0m\u001b[0m\n\u001b[0;32m---> 34\u001b[0;31m     \u001b[0maxs\u001b[0m\u001b[0;34m[\u001b[0m\u001b[0;36m0\u001b[0m\u001b[0;34m]\u001b[0m\u001b[0;34m.\u001b[0m\u001b[0mset_xticks\u001b[0m\u001b[0;34m(\u001b[0m\u001b[0mnp\u001b[0m\u001b[0;34m.\u001b[0m\u001b[0marange\u001b[0m\u001b[0;34m(\u001b[0m\u001b[0;36m1\u001b[0m\u001b[0;34m,\u001b[0m\u001b[0mx_size\u001b[0m\u001b[0;34m+\u001b[0m\u001b[0;36m1\u001b[0m\u001b[0;34m)\u001b[0m\u001b[0;34m,\u001b[0m\u001b[0mx_size\u001b[0m\u001b[0;34m/\u001b[0m\u001b[0;36m10\u001b[0m\u001b[0;34m)\u001b[0m\u001b[0;34m\u001b[0m\u001b[0;34m\u001b[0m\u001b[0m\n\u001b[0m\u001b[1;32m     35\u001b[0m     \u001b[0maxs\u001b[0m\u001b[0;34m[\u001b[0m\u001b[0;36m0\u001b[0m\u001b[0;34m]\u001b[0m\u001b[0;34m.\u001b[0m\u001b[0mlegend\u001b[0m\u001b[0;34m(\u001b[0m\u001b[0mlegend_list\u001b[0m\u001b[0;34m,\u001b[0m \u001b[0mloc\u001b[0m\u001b[0;34m=\u001b[0m\u001b[0;34m'best'\u001b[0m\u001b[0;34m)\u001b[0m\u001b[0;34m\u001b[0m\u001b[0;34m\u001b[0m\u001b[0m\n\u001b[1;32m     36\u001b[0m \u001b[0;34m\u001b[0m\u001b[0m\n",
            "\u001b[0;32m/usr/local/lib/python3.10/dist-packages/matplotlib/axes/_base.py\u001b[0m in \u001b[0;36mwrapper\u001b[0;34m(self, *args, **kwargs)\u001b[0m\n\u001b[1;32m     72\u001b[0m \u001b[0;34m\u001b[0m\u001b[0m\n\u001b[1;32m     73\u001b[0m         \u001b[0;32mdef\u001b[0m \u001b[0mwrapper\u001b[0m\u001b[0;34m(\u001b[0m\u001b[0mself\u001b[0m\u001b[0;34m,\u001b[0m \u001b[0;34m*\u001b[0m\u001b[0margs\u001b[0m\u001b[0;34m,\u001b[0m \u001b[0;34m**\u001b[0m\u001b[0mkwargs\u001b[0m\u001b[0;34m)\u001b[0m\u001b[0;34m:\u001b[0m\u001b[0;34m\u001b[0m\u001b[0;34m\u001b[0m\u001b[0m\n\u001b[0;32m---> 74\u001b[0;31m             \u001b[0;32mreturn\u001b[0m \u001b[0mget_method\u001b[0m\u001b[0;34m(\u001b[0m\u001b[0mself\u001b[0m\u001b[0;34m)\u001b[0m\u001b[0;34m(\u001b[0m\u001b[0;34m*\u001b[0m\u001b[0margs\u001b[0m\u001b[0;34m,\u001b[0m \u001b[0;34m**\u001b[0m\u001b[0mkwargs\u001b[0m\u001b[0;34m)\u001b[0m\u001b[0;34m\u001b[0m\u001b[0;34m\u001b[0m\u001b[0m\n\u001b[0m\u001b[1;32m     75\u001b[0m \u001b[0;34m\u001b[0m\u001b[0m\n\u001b[1;32m     76\u001b[0m         \u001b[0mwrapper\u001b[0m\u001b[0;34m.\u001b[0m\u001b[0m__module__\u001b[0m \u001b[0;34m=\u001b[0m \u001b[0mowner\u001b[0m\u001b[0;34m.\u001b[0m\u001b[0m__module__\u001b[0m\u001b[0;34m\u001b[0m\u001b[0;34m\u001b[0m\u001b[0m\n",
            "\u001b[0;32m/usr/local/lib/python3.10/dist-packages/matplotlib/axis.py\u001b[0m in \u001b[0;36mset_ticks\u001b[0;34m(self, ticks, labels, minor, **kwargs)\u001b[0m\n\u001b[1;32m   2074\u001b[0m         \u001b[0mresult\u001b[0m \u001b[0;34m=\u001b[0m \u001b[0mself\u001b[0m\u001b[0;34m.\u001b[0m\u001b[0m_set_tick_locations\u001b[0m\u001b[0;34m(\u001b[0m\u001b[0mticks\u001b[0m\u001b[0;34m,\u001b[0m \u001b[0mminor\u001b[0m\u001b[0;34m=\u001b[0m\u001b[0mminor\u001b[0m\u001b[0;34m)\u001b[0m\u001b[0;34m\u001b[0m\u001b[0;34m\u001b[0m\u001b[0m\n\u001b[1;32m   2075\u001b[0m         \u001b[0;32mif\u001b[0m \u001b[0mlabels\u001b[0m \u001b[0;32mis\u001b[0m \u001b[0;32mnot\u001b[0m \u001b[0;32mNone\u001b[0m\u001b[0;34m:\u001b[0m\u001b[0;34m\u001b[0m\u001b[0;34m\u001b[0m\u001b[0m\n\u001b[0;32m-> 2076\u001b[0;31m             \u001b[0mself\u001b[0m\u001b[0;34m.\u001b[0m\u001b[0mset_ticklabels\u001b[0m\u001b[0;34m(\u001b[0m\u001b[0mlabels\u001b[0m\u001b[0;34m,\u001b[0m \u001b[0mminor\u001b[0m\u001b[0;34m=\u001b[0m\u001b[0mminor\u001b[0m\u001b[0;34m,\u001b[0m \u001b[0;34m**\u001b[0m\u001b[0mkwargs\u001b[0m\u001b[0;34m)\u001b[0m\u001b[0;34m\u001b[0m\u001b[0;34m\u001b[0m\u001b[0m\n\u001b[0m\u001b[1;32m   2077\u001b[0m         \u001b[0;32mreturn\u001b[0m \u001b[0mresult\u001b[0m\u001b[0;34m\u001b[0m\u001b[0;34m\u001b[0m\u001b[0m\n\u001b[1;32m   2078\u001b[0m \u001b[0;34m\u001b[0m\u001b[0m\n",
            "\u001b[0;32m/usr/local/lib/python3.10/dist-packages/matplotlib/_api/deprecation.py\u001b[0m in \u001b[0;36mwrapper\u001b[0;34m(*args, **kwargs)\u001b[0m\n\u001b[1;32m    295\u001b[0m                 f\"for the old name will be dropped %(removal)s.\")\n\u001b[1;32m    296\u001b[0m             \u001b[0mkwargs\u001b[0m\u001b[0;34m[\u001b[0m\u001b[0mnew\u001b[0m\u001b[0;34m]\u001b[0m \u001b[0;34m=\u001b[0m \u001b[0mkwargs\u001b[0m\u001b[0;34m.\u001b[0m\u001b[0mpop\u001b[0m\u001b[0;34m(\u001b[0m\u001b[0mold\u001b[0m\u001b[0;34m)\u001b[0m\u001b[0;34m\u001b[0m\u001b[0;34m\u001b[0m\u001b[0m\n\u001b[0;32m--> 297\u001b[0;31m         \u001b[0;32mreturn\u001b[0m \u001b[0mfunc\u001b[0m\u001b[0;34m(\u001b[0m\u001b[0;34m*\u001b[0m\u001b[0margs\u001b[0m\u001b[0;34m,\u001b[0m \u001b[0;34m**\u001b[0m\u001b[0mkwargs\u001b[0m\u001b[0;34m)\u001b[0m\u001b[0;34m\u001b[0m\u001b[0;34m\u001b[0m\u001b[0m\n\u001b[0m\u001b[1;32m    298\u001b[0m \u001b[0;34m\u001b[0m\u001b[0m\n\u001b[1;32m    299\u001b[0m     \u001b[0;31m# wrapper() must keep the same documented signature as func(): if we\u001b[0m\u001b[0;34m\u001b[0m\u001b[0;34m\u001b[0m\u001b[0m\n",
            "\u001b[0;32m/usr/local/lib/python3.10/dist-packages/matplotlib/axis.py\u001b[0m in \u001b[0;36mset_ticklabels\u001b[0;34m(self, labels, minor, fontdict, **kwargs)\u001b[0m\n\u001b[1;32m   1960\u001b[0m                       for t in labels]\n\u001b[1;32m   1961\u001b[0m         \u001b[0;32mexcept\u001b[0m \u001b[0mTypeError\u001b[0m\u001b[0;34m:\u001b[0m\u001b[0;34m\u001b[0m\u001b[0;34m\u001b[0m\u001b[0m\n\u001b[0;32m-> 1962\u001b[0;31m             \u001b[0;32mraise\u001b[0m \u001b[0mTypeError\u001b[0m\u001b[0;34m(\u001b[0m\u001b[0;34mf\"{labels:=} must be a sequence\"\u001b[0m\u001b[0;34m)\u001b[0m \u001b[0;32mfrom\u001b[0m \u001b[0;32mNone\u001b[0m\u001b[0;34m\u001b[0m\u001b[0;34m\u001b[0m\u001b[0m\n\u001b[0m\u001b[1;32m   1963\u001b[0m         locator = (self.get_minor_locator() if minor\n\u001b[1;32m   1964\u001b[0m                    else self.get_major_locator())\n",
            "\u001b[0;31mTypeError\u001b[0m: 4.0 must be a sequence"
          ]
        },
        {
          "output_type": "display_data",
          "data": {
            "text/plain": [
              "<Figure size 2000x500 with 2 Axes>"
            ],
            "image/png": "[encoded data removed]"
          },
          "metadata": {}
        }
      ],
      "source": [
        "print(\"\\nPloting Accuracy and Loss history: {}\\n\".format(model_name))\n",
        "putils.plot_model_history(model_name,\n",
        "                   train_acc,test_acc,\n",
        "                   train_losses,test_losses,\n",
        "                   save_filename = \"model_history\")"
      ]
    },
    {
      "cell_type": "markdown",
      "metadata": {
        "id": "eGj7Cq15K0-i"
      },
      "source": [
        "## Misclassified images"
      ]
    },
    {
      "cell_type": "code",
      "execution_count": 29,
      "metadata": {
        "id": "tW-iBpw8K0-i",
        "colab": {
          "base_uri": "https://localhost:8080/",
          "height": 787
        },
        "outputId": "a778dc37-d58e-4bbd-ac4c-cedad080b8d6"
      },
      "outputs": [
        {
          "output_type": "stream",
          "name": "stdout",
          "text": [
            "\n",
            "Ploting misclassified images: Model CIFAR10\n",
            "\n"
          ]
        },
        {
          "output_type": "display_data",
          "data": {
            "text/plain": [
              "<Figure size 1000x900 with 20 Axes>"
            ],
            "image/png": "[encoded data removed]"
          },
          "metadata": {}
        }
      ],
      "source": [
        "print (\"\\nPloting misclassified images: {}\\n\".format(model_name))\n",
        "\n",
        "putils.miss_classification('Test',model,\n",
        "                          device,\n",
        "                          classes,\n",
        "                          testloader=test_loader,\n",
        "                          num_of_images = 20,\n",
        "                          save_filename=\"model_misclassified\")"
      ]
    }
  ],
  "metadata": {
    "accelerator": "GPU",
    "colab": {
      "provenance": []
    },
    "kernelspec": {
      "display_name": "Python 3",
      "language": "python",
      "name": "python3"
    },
    "language_info": {
      "codemirror_mode": {
        "name": "ipython",
        "version": 3
      },
      "file_extension": ".py",
      "mimetype": "text/x-python",
      "name": "python",
      "nbconvert_exporter": "python",
      "pygments_lexer": "ipython3",
      "version": "3.8.5"
    }
  },
  "nbformat": 4,
  "nbformat_minor": 0
}