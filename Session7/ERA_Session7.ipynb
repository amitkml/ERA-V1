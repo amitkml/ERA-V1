{
  "cells": [
    {
      "attachments": {},
      "cell_type": "markdown",
      "metadata": {
        "id": "uIrbfPnDOWc4"
      },
      "source": [
        "# Import libraries"
      ]
    },
    {
      "cell_type": "code",
      "execution_count": 1,
      "metadata": {
        "colab": {
          "base_uri": "https://localhost:8080/"
        },
        "id": "CHZm8-_t-baq",
        "outputId": "6fc524ba-8d66-4f6f-dffc-c282e7e3a84b"
      },
      "outputs": [
        {
          "name": "stdout",
          "output_type": "stream",
          "text": [
            "Requirement already satisfied: torchsummary in c:\\users\\amitk\\.conda\\envs\\langchain-llm\\lib\\site-packages (1.5.1)\n"
          ]
        }
      ],
      "source": [
        "from __future__ import print_function\n",
        "# BASE_DIR='/content/drive/MyDrive/regularization'\n",
        "# %cd $BASE_DIR\n",
        "from utils import train, test, model,plot_metrics,helper,data_loader \n",
        "import torch\n",
        "\n",
        "# Let's visualize some of the images\n",
        "%matplotlib inline\n",
        "import matplotlib.pyplot as plt\n",
        "# import torchsummary\n",
        "\n",
        "!pip install torchsummary"
      ]
    },
    {
      "cell_type": "code",
      "execution_count": 2,
      "metadata": {},
      "outputs": [
        {
          "name": "stdout",
          "output_type": "stream",
          "text": [
            "Requirement already satisfied: torch-summary in c:\\users\\amitk\\.conda\\envs\\langchain-llm\\lib\\site-packages (1.4.5)\n"
          ]
        }
      ],
      "source": [
        "!pip install torch-summary"
      ]
    },
    {
      "cell_type": "code",
      "execution_count": 3,
      "metadata": {},
      "outputs": [],
      "source": [
        "from torchsummary import summary\n"
      ]
    },
    {
      "attachments": {},
      "cell_type": "markdown",
      "metadata": {
        "id": "Z4X8_v_ZOc30"
      },
      "source": [
        "## Set the seed for reproducibility"
      ]
    },
    {
      "cell_type": "code",
      "execution_count": 4,
      "metadata": {
        "id": "XzDipZkuCpwd"
      },
      "outputs": [],
      "source": [
        "# Set Seed for reproducibility\n",
        "SEED = 1\n",
        "torch.manual_seed(SEED)\n",
        "\n",
        "cuda = torch.cuda.is_available()\n",
        "if cuda:\n",
        "    torch.cuda.manual_seed(SEED)\n",
        "\n",
        "device = torch.device(\"cuda\" if cuda else \"cpu\")\n"
      ]
    },
    {
      "attachments": {},
      "cell_type": "markdown",
      "metadata": {
        "id": "w03O_mLoOkjK"
      },
      "source": [
        "## Download data"
      ]
    },
    {
      "cell_type": "code",
      "execution_count": 5,
      "metadata": {
        "id": "b1wNOWH5AHeo"
      },
      "outputs": [],
      "source": [
        "train_transforms, test_transforms = data_loader.data_augmentation()\n",
        "train,test = data_loader.download_mnist_data(train_transforms, test_transforms)"
      ]
    },
    {
      "attachments": {},
      "cell_type": "markdown",
      "metadata": {
        "id": "KASYo-OiOnXt"
      },
      "source": [
        "## Dataloader"
      ]
    },
    {
      "cell_type": "code",
      "execution_count": 6,
      "metadata": {
        "id": "vpKauEMEMeb4"
      },
      "outputs": [],
      "source": [
        "BATCH_SIZE_GPU = 64\n",
        "BATCH_SIZE_CPU = 64\n",
        "\n",
        "dataloader_args = dict(shuffle=True, batch_size=BATCH_SIZE_GPU, num_workers=2, pin_memory=True) if cuda else dict(shuffle=True, batch_size=BATCH_SIZE_CPU)\n",
        "train_loader, test_loader = data_loader.dataloader(train, test,dataloader_args)"
      ]
    },
    {
      "attachments": {},
      "cell_type": "markdown",
      "metadata": {
        "id": "eBQM8xBKND6S"
      },
      "source": [
        "## Variable Initialization"
      ]
    },
    {
      "cell_type": "code",
      "execution_count": 7,
      "metadata": {
        "id": "o3mdsKJpM8Ji"
      },
      "outputs": [],
      "source": [
        "exp_metrics={}\n",
        "EPOCH=20\n",
        "dropout=0.03"
      ]
    },
    {
      "attachments": {},
      "cell_type": "markdown",
      "metadata": {
        "id": "Z-4gAaGVMJcF"
      },
      "source": [
        "## Exp1 : LayerNorm with no regularization"
      ]
    },
    {
      "cell_type": "code",
      "execution_count": 8,
      "metadata": {
        "colab": {
          "base_uri": "https://localhost:8080/"
        },
        "id": "Lo6WnkfeFj5C",
        "outputId": "c8770f09-b1fa-49d5-c69c-e9d28178228e"
      },
      "outputs": [
        {
          "name": "stdout",
          "output_type": "stream",
          "text": [
            "Epoch 1:\n"
          ]
        },
        {
          "name": "stderr",
          "output_type": "stream",
          "text": [
            "Loss=0.31585967540740967 Batch_id=937 Accuracy=76.85: 100%|██████████| 938/938 [03:15<00:00,  4.79it/s]\n"
          ]
        },
        {
          "name": "stdout",
          "output_type": "stream",
          "text": [
            "\n",
            "Test set: Average loss: 0.1300, Accuracy: 9710/10000 (97.10%)\n",
            "\n",
            "Epoch 2:\n"
          ]
        },
        {
          "name": "stderr",
          "output_type": "stream",
          "text": [
            "Loss=0.1547098308801651 Batch_id=937 Accuracy=94.88: 100%|██████████| 938/938 [03:50<00:00,  4.06it/s]  \n"
          ]
        },
        {
          "name": "stdout",
          "output_type": "stream",
          "text": [
            "\n",
            "Test set: Average loss: 0.0535, Accuracy: 9851/10000 (98.51%)\n",
            "\n",
            "Epoch 3:\n"
          ]
        },
        {
          "name": "stderr",
          "output_type": "stream",
          "text": [
            "Loss=0.1858765184879303 Batch_id=937 Accuracy=96.34: 100%|██████████| 938/938 [04:29<00:00,  3.48it/s]  \n"
          ]
        },
        {
          "name": "stdout",
          "output_type": "stream",
          "text": [
            "\n",
            "Test set: Average loss: 0.0474, Accuracy: 9871/10000 (98.71%)\n",
            "\n",
            "Epoch 4:\n"
          ]
        },
        {
          "name": "stderr",
          "output_type": "stream",
          "text": [
            "Loss=0.01526462659239769 Batch_id=937 Accuracy=96.97: 100%|██████████| 938/938 [04:22<00:00,  3.57it/s] \n"
          ]
        },
        {
          "name": "stdout",
          "output_type": "stream",
          "text": [
            "\n",
            "Test set: Average loss: 0.0381, Accuracy: 9879/10000 (98.79%)\n",
            "\n",
            "Epoch 5:\n"
          ]
        },
        {
          "name": "stderr",
          "output_type": "stream",
          "text": [
            "Loss=0.032676033675670624 Batch_id=937 Accuracy=97.26: 100%|██████████| 938/938 [03:37<00:00,  4.32it/s]\n"
          ]
        },
        {
          "name": "stdout",
          "output_type": "stream",
          "text": [
            "\n",
            "Test set: Average loss: 0.0331, Accuracy: 9902/10000 (99.02%)\n",
            "\n",
            "Epoch 6:\n"
          ]
        },
        {
          "name": "stderr",
          "output_type": "stream",
          "text": [
            "Loss=0.05180177465081215 Batch_id=937 Accuracy=97.48: 100%|██████████| 938/938 [03:42<00:00,  4.22it/s]  \n"
          ]
        },
        {
          "name": "stdout",
          "output_type": "stream",
          "text": [
            "\n",
            "Test set: Average loss: 0.0297, Accuracy: 9909/10000 (99.09%)\n",
            "\n",
            "Epoch 7:\n"
          ]
        },
        {
          "name": "stderr",
          "output_type": "stream",
          "text": [
            "Loss=0.023091372102499008 Batch_id=937 Accuracy=97.84: 100%|██████████| 938/938 [03:21<00:00,  4.67it/s] \n"
          ]
        },
        {
          "name": "stdout",
          "output_type": "stream",
          "text": [
            "\n",
            "Test set: Average loss: 0.0291, Accuracy: 9912/10000 (99.12%)\n",
            "\n",
            "Epoch 8:\n"
          ]
        },
        {
          "name": "stderr",
          "output_type": "stream",
          "text": [
            "Loss=0.041528694331645966 Batch_id=937 Accuracy=97.84: 100%|██████████| 938/938 [03:48<00:00,  4.11it/s] \n"
          ]
        },
        {
          "name": "stdout",
          "output_type": "stream",
          "text": [
            "\n",
            "Test set: Average loss: 0.0295, Accuracy: 9906/10000 (99.06%)\n",
            "\n",
            "Epoch 9:\n"
          ]
        },
        {
          "name": "stderr",
          "output_type": "stream",
          "text": [
            "Loss=0.007892118766903877 Batch_id=937 Accuracy=98.11: 100%|██████████| 938/938 [03:44<00:00,  4.17it/s] \n"
          ]
        },
        {
          "name": "stdout",
          "output_type": "stream",
          "text": [
            "\n",
            "Test set: Average loss: 0.0245, Accuracy: 9918/10000 (99.18%)\n",
            "\n",
            "Epoch 10:\n"
          ]
        },
        {
          "name": "stderr",
          "output_type": "stream",
          "text": [
            "Loss=0.015328154899179935 Batch_id=937 Accuracy=98.18: 100%|██████████| 938/938 [03:55<00:00,  3.98it/s] \n"
          ]
        },
        {
          "name": "stdout",
          "output_type": "stream",
          "text": [
            "\n",
            "Test set: Average loss: 0.0270, Accuracy: 9915/10000 (99.15%)\n",
            "\n",
            "Epoch 11:\n"
          ]
        },
        {
          "name": "stderr",
          "output_type": "stream",
          "text": [
            "Loss=0.010124021209776402 Batch_id=937 Accuracy=98.37: 100%|██████████| 938/938 [03:26<00:00,  4.53it/s] \n"
          ]
        },
        {
          "name": "stdout",
          "output_type": "stream",
          "text": [
            "\n",
            "Test set: Average loss: 0.0216, Accuracy: 9939/10000 (99.39%)\n",
            "\n",
            "Epoch 12:\n"
          ]
        },
        {
          "name": "stderr",
          "output_type": "stream",
          "text": [
            "Loss=0.13167446851730347 Batch_id=937 Accuracy=98.34: 100%|██████████| 938/938 [04:06<00:00,  3.81it/s]  \n"
          ]
        },
        {
          "name": "stdout",
          "output_type": "stream",
          "text": [
            "\n",
            "Test set: Average loss: 0.0254, Accuracy: 9925/10000 (99.25%)\n",
            "\n",
            "Epoch 13:\n"
          ]
        },
        {
          "name": "stderr",
          "output_type": "stream",
          "text": [
            "Loss=0.09407266974449158 Batch_id=937 Accuracy=98.42: 100%|██████████| 938/938 [04:06<00:00,  3.80it/s]  \n"
          ]
        },
        {
          "name": "stdout",
          "output_type": "stream",
          "text": [
            "\n",
            "Test set: Average loss: 0.0206, Accuracy: 9933/10000 (99.33%)\n",
            "\n",
            "Epoch 14:\n"
          ]
        },
        {
          "name": "stderr",
          "output_type": "stream",
          "text": [
            "Loss=0.004805116914212704 Batch_id=937 Accuracy=98.52: 100%|██████████| 938/938 [04:30<00:00,  3.47it/s] \n"
          ]
        },
        {
          "name": "stdout",
          "output_type": "stream",
          "text": [
            "\n",
            "Test set: Average loss: 0.0218, Accuracy: 9935/10000 (99.35%)\n",
            "\n",
            "Epoch 15:\n"
          ]
        },
        {
          "name": "stderr",
          "output_type": "stream",
          "text": [
            "Loss=0.0027023975271731615 Batch_id=937 Accuracy=98.59: 100%|██████████| 938/938 [03:56<00:00,  3.97it/s]\n"
          ]
        },
        {
          "name": "stdout",
          "output_type": "stream",
          "text": [
            "\n",
            "Test set: Average loss: 0.0188, Accuracy: 9946/10000 (99.46%)\n",
            "\n",
            "Epoch 16:\n"
          ]
        },
        {
          "name": "stderr",
          "output_type": "stream",
          "text": [
            "Loss=0.0028922169003635645 Batch_id=937 Accuracy=98.66: 100%|██████████| 938/938 [04:30<00:00,  3.47it/s]\n"
          ]
        },
        {
          "name": "stdout",
          "output_type": "stream",
          "text": [
            "\n",
            "Test set: Average loss: 0.0194, Accuracy: 9941/10000 (99.41%)\n",
            "\n",
            "Epoch 17:\n"
          ]
        },
        {
          "name": "stderr",
          "output_type": "stream",
          "text": [
            "Loss=0.02506330981850624 Batch_id=937 Accuracy=98.69: 100%|██████████| 938/938 [03:19<00:00,  4.71it/s]  \n"
          ]
        },
        {
          "name": "stdout",
          "output_type": "stream",
          "text": [
            "\n",
            "Test set: Average loss: 0.0178, Accuracy: 9950/10000 (99.50%)\n",
            "\n",
            "Epoch 18:\n"
          ]
        },
        {
          "name": "stderr",
          "output_type": "stream",
          "text": [
            "Loss=0.014525164850056171 Batch_id=937 Accuracy=98.82: 100%|██████████| 938/938 [03:23<00:00,  4.62it/s] \n"
          ]
        },
        {
          "name": "stdout",
          "output_type": "stream",
          "text": [
            "\n",
            "Test set: Average loss: 0.0169, Accuracy: 9949/10000 (99.49%)\n",
            "\n",
            "Epoch 19:\n"
          ]
        },
        {
          "name": "stderr",
          "output_type": "stream",
          "text": [
            "Loss=0.010191098786890507 Batch_id=937 Accuracy=98.92: 100%|██████████| 938/938 [04:28<00:00,  3.50it/s] \n"
          ]
        },
        {
          "name": "stdout",
          "output_type": "stream",
          "text": [
            "\n",
            "Test set: Average loss: 0.0155, Accuracy: 9947/10000 (99.47%)\n",
            "\n",
            "Epoch 20:\n"
          ]
        },
        {
          "name": "stderr",
          "output_type": "stream",
          "text": [
            "Loss=0.03007301315665245 Batch_id=937 Accuracy=98.86: 100%|██████████| 938/938 [03:35<00:00,  4.36it/s]  \n"
          ]
        },
        {
          "name": "stdout",
          "output_type": "stream",
          "text": [
            "\n",
            "Test set: Average loss: 0.0158, Accuracy: 9948/10000 (99.48%)\n",
            "\n"
          ]
        }
      ],
      "source": [
        "experiment_name='LayerNorm'\n",
        "norm_type='LN'\n",
        "l1_factor=0\n",
        "l2_factor=0\n",
        "(exp_metrics[experiment_name]),model = helper.experiments(train_loader, test_loader,'LN',l1_factor,l2_factor,dropout,EPOCH)\n",
        "torch.save(model, './models/{}.pt'.format(experiment_name))"
      ]
    },
    {
      "attachments": {},
      "cell_type": "markdown",
      "metadata": {
        "id": "dCFWb_HKNSyb"
      },
      "source": [
        "## Missclassified Images for Exp1"
      ]
    },
    {
      "cell_type": "code",
      "execution_count": 9,
      "metadata": {
        "colab": {
          "base_uri": "https://localhost:8080/",
          "height": 629
        },
        "id": "7-vAsrcuLlwu",
        "outputId": "6c7d8686-3cfa-48bb-cff4-491962919319"
      },
      "outputs": [
        {
          "name": "stdout",
          "output_type": "stream",
          "text": [
            "Total wrong predictions are 52\n"
          ]
        },
        {
          "data": {
            "image/png": "[encoded data removed]",
            "text/plain": [
              "<Figure size 800x1000 with 10 Axes>"
            ]
          },
          "metadata": {},
          "output_type": "display_data"
        }
      ],
      "source": [
        "model = torch.load(f'./models/{experiment_name}.pt')\n",
        "model.eval()\n",
        "helper.wrong_predictions(test_loader,model,device)"
      ]
    },
    {
      "attachments": {},
      "cell_type": "markdown",
      "metadata": {
        "id": "U5KAVurvNd1i"
      },
      "source": [
        "## Exp2 : GroupNorm with no regularization"
      ]
    },
    {
      "cell_type": "code",
      "execution_count": 10,
      "metadata": {
        "colab": {
          "base_uri": "https://localhost:8080/"
        },
        "id": "qIoMUIFWNd1j",
        "outputId": "8fc5f48c-282d-40c5-c409-d004de2ee8d3"
      },
      "outputs": [
        {
          "name": "stdout",
          "output_type": "stream",
          "text": [
            "Epoch 1:\n"
          ]
        },
        {
          "name": "stderr",
          "output_type": "stream",
          "text": [
            "Loss=0.7047999501228333 Batch_id=937 Accuracy=73.39: 100%|██████████| 938/938 [03:42<00:00,  4.21it/s] \n"
          ]
        },
        {
          "name": "stdout",
          "output_type": "stream",
          "text": [
            "\n",
            "Test set: Average loss: 0.1477, Accuracy: 9720/10000 (97.20%)\n",
            "\n",
            "Epoch 2:\n"
          ]
        },
        {
          "name": "stderr",
          "output_type": "stream",
          "text": [
            "Loss=0.13231916725635529 Batch_id=937 Accuracy=93.48: 100%|██████████| 938/938 [03:11<00:00,  4.89it/s] \n"
          ]
        },
        {
          "name": "stdout",
          "output_type": "stream",
          "text": [
            "\n",
            "Test set: Average loss: 0.0712, Accuracy: 9815/10000 (98.15%)\n",
            "\n",
            "Epoch 3:\n"
          ]
        },
        {
          "name": "stderr",
          "output_type": "stream",
          "text": [
            "Loss=0.06935402005910873 Batch_id=937 Accuracy=95.47: 100%|██████████| 938/938 [04:25<00:00,  3.53it/s] \n"
          ]
        },
        {
          "name": "stdout",
          "output_type": "stream",
          "text": [
            "\n",
            "Test set: Average loss: 0.0428, Accuracy: 9879/10000 (98.79%)\n",
            "\n",
            "Epoch 4:\n"
          ]
        },
        {
          "name": "stderr",
          "output_type": "stream",
          "text": [
            "Loss=0.0454806350171566 Batch_id=937 Accuracy=96.53: 100%|██████████| 938/938 [03:19<00:00,  4.70it/s]  \n"
          ]
        },
        {
          "name": "stdout",
          "output_type": "stream",
          "text": [
            "\n",
            "Test set: Average loss: 0.0495, Accuracy: 9868/10000 (98.68%)\n",
            "\n",
            "Epoch 5:\n"
          ]
        },
        {
          "name": "stderr",
          "output_type": "stream",
          "text": [
            "Loss=0.09062895178794861 Batch_id=937 Accuracy=97.00: 100%|██████████| 938/938 [03:56<00:00,  3.96it/s]  \n"
          ]
        },
        {
          "name": "stdout",
          "output_type": "stream",
          "text": [
            "\n",
            "Test set: Average loss: 0.0416, Accuracy: 9878/10000 (98.78%)\n",
            "\n",
            "Epoch 6:\n"
          ]
        },
        {
          "name": "stderr",
          "output_type": "stream",
          "text": [
            "Loss=0.31344074010849 Batch_id=937 Accuracy=97.29: 100%|██████████| 938/938 [03:22<00:00,  4.63it/s]    \n"
          ]
        },
        {
          "name": "stdout",
          "output_type": "stream",
          "text": [
            "\n",
            "Test set: Average loss: 0.0292, Accuracy: 9907/10000 (99.07%)\n",
            "\n",
            "Epoch 7:\n"
          ]
        },
        {
          "name": "stderr",
          "output_type": "stream",
          "text": [
            "Loss=0.1621631681919098 Batch_id=937 Accuracy=97.57: 100%|██████████| 938/938 [05:17<00:00,  2.95it/s]   \n"
          ]
        },
        {
          "name": "stdout",
          "output_type": "stream",
          "text": [
            "\n",
            "Test set: Average loss: 0.0353, Accuracy: 9897/10000 (98.97%)\n",
            "\n",
            "Epoch 8:\n"
          ]
        },
        {
          "name": "stderr",
          "output_type": "stream",
          "text": [
            "Loss=0.09828799962997437 Batch_id=937 Accuracy=97.76: 100%|██████████| 938/938 [04:20<00:00,  3.61it/s]  \n"
          ]
        },
        {
          "name": "stdout",
          "output_type": "stream",
          "text": [
            "\n",
            "Test set: Average loss: 0.0247, Accuracy: 9929/10000 (99.29%)\n",
            "\n",
            "Epoch 9:\n"
          ]
        },
        {
          "name": "stderr",
          "output_type": "stream",
          "text": [
            "Loss=0.004283261951059103 Batch_id=937 Accuracy=97.84: 100%|██████████| 938/938 [10:33<00:00,  1.48it/s] \n"
          ]
        },
        {
          "name": "stdout",
          "output_type": "stream",
          "text": [
            "\n",
            "Test set: Average loss: 0.0286, Accuracy: 9914/10000 (99.14%)\n",
            "\n",
            "Epoch 10:\n"
          ]
        },
        {
          "name": "stderr",
          "output_type": "stream",
          "text": [
            "Loss=0.16646260023117065 Batch_id=937 Accuracy=98.02: 100%|██████████| 938/938 [05:39<00:00,  2.76it/s]  \n"
          ]
        },
        {
          "name": "stdout",
          "output_type": "stream",
          "text": [
            "\n",
            "Test set: Average loss: 0.0308, Accuracy: 9904/10000 (99.04%)\n",
            "\n",
            "Epoch 11:\n"
          ]
        },
        {
          "name": "stderr",
          "output_type": "stream",
          "text": [
            "Loss=0.01697574183344841 Batch_id=937 Accuracy=98.05: 100%|██████████| 938/938 [05:39<00:00,  2.76it/s]  \n"
          ]
        },
        {
          "name": "stdout",
          "output_type": "stream",
          "text": [
            "\n",
            "Test set: Average loss: 0.0264, Accuracy: 9920/10000 (99.20%)\n",
            "\n",
            "Epoch 12:\n"
          ]
        },
        {
          "name": "stderr",
          "output_type": "stream",
          "text": [
            "Loss=0.005000459495931864 Batch_id=937 Accuracy=98.10: 100%|██████████| 938/938 [05:27<00:00,  2.87it/s] \n"
          ]
        },
        {
          "name": "stdout",
          "output_type": "stream",
          "text": [
            "\n",
            "Test set: Average loss: 0.0256, Accuracy: 9921/10000 (99.21%)\n",
            "\n",
            "Epoch 13:\n"
          ]
        },
        {
          "name": "stderr",
          "output_type": "stream",
          "text": [
            "Loss=0.19093503057956696 Batch_id=937 Accuracy=98.25: 100%|██████████| 938/938 [03:56<00:00,  3.97it/s]  \n"
          ]
        },
        {
          "name": "stdout",
          "output_type": "stream",
          "text": [
            "\n",
            "Test set: Average loss: 0.0204, Accuracy: 9945/10000 (99.45%)\n",
            "\n",
            "Epoch 14:\n"
          ]
        },
        {
          "name": "stderr",
          "output_type": "stream",
          "text": [
            "Loss=0.017169609665870667 Batch_id=937 Accuracy=98.30: 100%|██████████| 938/938 [03:42<00:00,  4.22it/s] \n"
          ]
        },
        {
          "name": "stdout",
          "output_type": "stream",
          "text": [
            "\n",
            "Test set: Average loss: 0.0188, Accuracy: 9942/10000 (99.42%)\n",
            "\n",
            "Epoch 15:\n"
          ]
        },
        {
          "name": "stderr",
          "output_type": "stream",
          "text": [
            "Loss=0.10435536503791809 Batch_id=937 Accuracy=98.52: 100%|██████████| 938/938 [03:41<00:00,  4.24it/s]  \n"
          ]
        },
        {
          "name": "stdout",
          "output_type": "stream",
          "text": [
            "\n",
            "Test set: Average loss: 0.0220, Accuracy: 9936/10000 (99.36%)\n",
            "\n",
            "Epoch 16:\n"
          ]
        },
        {
          "name": "stderr",
          "output_type": "stream",
          "text": [
            "Loss=0.1594017893075943 Batch_id=937 Accuracy=98.50: 100%|██████████| 938/938 [03:35<00:00,  4.35it/s]   \n"
          ]
        },
        {
          "name": "stdout",
          "output_type": "stream",
          "text": [
            "\n",
            "Test set: Average loss: 0.0177, Accuracy: 9946/10000 (99.46%)\n",
            "\n",
            "Epoch 17:\n"
          ]
        },
        {
          "name": "stderr",
          "output_type": "stream",
          "text": [
            "Loss=0.01067301630973816 Batch_id=937 Accuracy=98.70: 100%|██████████| 938/938 [03:40<00:00,  4.25it/s]  \n"
          ]
        },
        {
          "name": "stdout",
          "output_type": "stream",
          "text": [
            "\n",
            "Test set: Average loss: 0.0178, Accuracy: 9943/10000 (99.43%)\n",
            "\n",
            "Epoch 18:\n"
          ]
        },
        {
          "name": "stderr",
          "output_type": "stream",
          "text": [
            "Loss=0.006785212084650993 Batch_id=937 Accuracy=98.69: 100%|██████████| 938/938 [03:37<00:00,  4.31it/s] \n"
          ]
        },
        {
          "name": "stdout",
          "output_type": "stream",
          "text": [
            "\n",
            "Test set: Average loss: 0.0175, Accuracy: 9944/10000 (99.44%)\n",
            "\n",
            "Epoch 19:\n"
          ]
        },
        {
          "name": "stderr",
          "output_type": "stream",
          "text": [
            "Loss=0.003471420146524906 Batch_id=937 Accuracy=98.76: 100%|██████████| 938/938 [7:05:03<00:00, 27.19s/it]      \n"
          ]
        },
        {
          "name": "stdout",
          "output_type": "stream",
          "text": [
            "\n",
            "Test set: Average loss: 0.0161, Accuracy: 9953/10000 (99.53%)\n",
            "\n",
            "Epoch 20:\n"
          ]
        },
        {
          "name": "stderr",
          "output_type": "stream",
          "text": [
            "Loss=0.027798905968666077 Batch_id=937 Accuracy=98.80: 100%|██████████| 938/938 [03:15<00:00,  4.81it/s] \n"
          ]
        },
        {
          "name": "stdout",
          "output_type": "stream",
          "text": [
            "\n",
            "Test set: Average loss: 0.0163, Accuracy: 9948/10000 (99.48%)\n",
            "\n"
          ]
        }
      ],
      "source": [
        "experiment_name='GroupNorm'\n",
        "norm_type='GN'\n",
        "l1_factor=0\n",
        "l2_factor=0\n",
        "(exp_metrics[experiment_name]),model = helper.experiments(train_loader, test_loader,norm_type,l1_factor,l2_factor,dropout,EPOCH)\n",
        "torch.save(model, './models/{}.pt'.format(experiment_name))"
      ]
    },
    {
      "attachments": {},
      "cell_type": "markdown",
      "metadata": {
        "id": "57oJUREQTBNt"
      },
      "source": [
        "## Model Summary"
      ]
    },
    {
      "cell_type": "code",
      "execution_count": 11,
      "metadata": {
        "colab": {
          "base_uri": "https://localhost:8080/"
        },
        "id": "QzuUafZ9TAgs",
        "outputId": "51e5b251-287c-46e1-a449-de25c8178b74"
      },
      "outputs": [
        {
          "name": "stdout",
          "output_type": "stream",
          "text": [
            "=================================================================\n",
            "Layer (type:depth-idx)                   Param #\n",
            "=================================================================\n",
            "├─Sequential: 1-1                        --\n",
            "|    └─Conv2d: 2-1                       72\n",
            "|    └─ReLU: 2-2                         --\n",
            "|    └─GroupNorm: 2-3                    16\n",
            "|    └─Dropout: 2-4                      --\n",
            "├─Sequential: 1-2                        --\n",
            "|    └─Conv2d: 2-5                       1,152\n",
            "|    └─ReLU: 2-6                         --\n",
            "|    └─GroupNorm: 2-7                    32\n",
            "|    └─Dropout: 2-8                      --\n",
            "├─Sequential: 1-3                        --\n",
            "|    └─MaxPool2d: 2-9                    --\n",
            "|    └─Conv2d: 2-10                      128\n",
            "├─Sequential: 1-4                        --\n",
            "|    └─Conv2d: 2-11                      1,152\n",
            "|    └─ReLU: 2-12                        --\n",
            "|    └─GroupNorm: 2-13                   32\n",
            "|    └─Dropout: 2-14                     --\n",
            "├─Sequential: 1-5                        --\n",
            "|    └─Conv2d: 2-15                      2,304\n",
            "|    └─ReLU: 2-16                        --\n",
            "|    └─GroupNorm: 2-17                   32\n",
            "|    └─Dropout: 2-18                     --\n",
            "├─Sequential: 1-6                        --\n",
            "|    └─Conv2d: 2-19                      2,304\n",
            "|    └─ReLU: 2-20                        --\n",
            "|    └─GroupNorm: 2-21                   32\n",
            "|    └─Dropout: 2-22                     --\n",
            "├─AvgPool2d: 1-7                         --\n",
            "├─Sequential: 1-8                        --\n",
            "|    └─Conv2d: 2-23                      256\n",
            "|    └─ReLU: 2-24                        --\n",
            "|    └─GroupNorm: 2-25                   32\n",
            "|    └─Dropout: 2-26                     --\n",
            "├─Conv2d: 1-9                            160\n",
            "=================================================================\n",
            "Total params: 7,704\n",
            "Trainable params: 7,704\n",
            "Non-trainable params: 0\n",
            "=================================================================\n",
            "=================================================================\n",
            "Layer (type:depth-idx)                   Param #\n",
            "=================================================================\n",
            "├─Sequential: 1-1                        --\n",
            "|    └─Conv2d: 2-1                       72\n",
            "|    └─ReLU: 2-2                         --\n",
            "|    └─GroupNorm: 2-3                    16\n",
            "|    └─Dropout: 2-4                      --\n",
            "├─Sequential: 1-2                        --\n",
            "|    └─Conv2d: 2-5                       1,152\n",
            "|    └─ReLU: 2-6                         --\n",
            "|    └─GroupNorm: 2-7                    32\n",
            "|    └─Dropout: 2-8                      --\n",
            "├─Sequential: 1-3                        --\n",
            "|    └─MaxPool2d: 2-9                    --\n",
            "|    └─Conv2d: 2-10                      128\n",
            "├─Sequential: 1-4                        --\n",
            "|    └─Conv2d: 2-11                      1,152\n",
            "|    └─ReLU: 2-12                        --\n",
            "|    └─GroupNorm: 2-13                   32\n",
            "|    └─Dropout: 2-14                     --\n",
            "├─Sequential: 1-5                        --\n",
            "|    └─Conv2d: 2-15                      2,304\n",
            "|    └─ReLU: 2-16                        --\n",
            "|    └─GroupNorm: 2-17                   32\n",
            "|    └─Dropout: 2-18                     --\n",
            "├─Sequential: 1-6                        --\n",
            "|    └─Conv2d: 2-19                      2,304\n",
            "|    └─ReLU: 2-20                        --\n",
            "|    └─GroupNorm: 2-21                   32\n",
            "|    └─Dropout: 2-22                     --\n",
            "├─AvgPool2d: 1-7                         --\n",
            "├─Sequential: 1-8                        --\n",
            "|    └─Conv2d: 2-23                      256\n",
            "|    └─ReLU: 2-24                        --\n",
            "|    └─GroupNorm: 2-25                   32\n",
            "|    └─Dropout: 2-26                     --\n",
            "├─Conv2d: 1-9                            160\n",
            "=================================================================\n",
            "Total params: 7,704\n",
            "Trainable params: 7,704\n",
            "Non-trainable params: 0\n",
            "=================================================================\n"
          ]
        }
      ],
      "source": [
        "helper.model_summary(model,(1,28,28)) "
      ]
    },
    {
      "attachments": {},
      "cell_type": "markdown",
      "metadata": {
        "id": "0Q-VJOrUNd1l"
      },
      "source": [
        "## Missclassified Images for Exp 2"
      ]
    },
    {
      "cell_type": "code",
      "execution_count": 12,
      "metadata": {
        "colab": {
          "base_uri": "https://localhost:8080/",
          "height": 629
        },
        "id": "ooqpMp3MNd1m",
        "outputId": "fb6e7b2e-12ef-4b12-967a-9bd7bbe593e6"
      },
      "outputs": [
        {
          "name": "stdout",
          "output_type": "stream",
          "text": [
            "Total wrong predictions are 52\n"
          ]
        },
        {
          "data": {
            "image/png": "[encoded data removed]",
            "text/plain": [
              "<Figure size 800x1000 with 10 Axes>"
            ]
          },
          "metadata": {},
          "output_type": "display_data"
        }
      ],
      "source": [
        "model = torch.load(f'./models/{experiment_name}.pt')\n",
        "model.eval()\n",
        "helper.wrong_predictions(test_loader,model,device)"
      ]
    },
    {
      "attachments": {},
      "cell_type": "markdown",
      "metadata": {
        "id": "AjvWodPpNo9A"
      },
      "source": [
        "## Exp3 : BatchNorm with L1 regularization"
      ]
    },
    {
      "cell_type": "code",
      "execution_count": 13,
      "metadata": {
        "colab": {
          "base_uri": "https://localhost:8080/"
        },
        "id": "al06ePUkNo9C",
        "outputId": "ed4a75bd-cf98-4f1a-9388-16d19b160201"
      },
      "outputs": [
        {
          "name": "stdout",
          "output_type": "stream",
          "text": [
            "Epoch 1:\n"
          ]
        },
        {
          "name": "stderr",
          "output_type": "stream",
          "text": [
            "Loss=0.7954874038696289 Batch_id=937 Accuracy=78.96: 100%|██████████| 938/938 [02:18<00:00,  6.78it/s]\n"
          ]
        },
        {
          "name": "stdout",
          "output_type": "stream",
          "text": [
            "\n",
            "Test set: Average loss: 0.0885, Accuracy: 9815/10000 (98.15%)\n",
            "\n",
            "Epoch 2:\n"
          ]
        },
        {
          "name": "stderr",
          "output_type": "stream",
          "text": [
            "Loss=0.5583321452140808 Batch_id=937 Accuracy=94.38: 100%|██████████| 938/938 [02:13<00:00,  7.04it/s] \n"
          ]
        },
        {
          "name": "stdout",
          "output_type": "stream",
          "text": [
            "\n",
            "Test set: Average loss: 0.0571, Accuracy: 9832/10000 (98.32%)\n",
            "\n",
            "Epoch 3:\n"
          ]
        },
        {
          "name": "stderr",
          "output_type": "stream",
          "text": [
            "Loss=0.6746459007263184 Batch_id=937 Accuracy=94.99: 100%|██████████| 938/938 [02:14<00:00,  6.98it/s] \n"
          ]
        },
        {
          "name": "stdout",
          "output_type": "stream",
          "text": [
            "\n",
            "Test set: Average loss: 0.0584, Accuracy: 9820/10000 (98.20%)\n",
            "\n",
            "Epoch 4:\n"
          ]
        },
        {
          "name": "stderr",
          "output_type": "stream",
          "text": [
            "Loss=0.7233741283416748 Batch_id=937 Accuracy=95.41: 100%|██████████| 938/938 [02:13<00:00,  7.03it/s] \n"
          ]
        },
        {
          "name": "stdout",
          "output_type": "stream",
          "text": [
            "\n",
            "Test set: Average loss: 0.0550, Accuracy: 9812/10000 (98.12%)\n",
            "\n",
            "Epoch 5:\n"
          ]
        },
        {
          "name": "stderr",
          "output_type": "stream",
          "text": [
            "Loss=0.6200481653213501 Batch_id=937 Accuracy=95.46: 100%|██████████| 938/938 [02:13<00:00,  7.04it/s] \n"
          ]
        },
        {
          "name": "stdout",
          "output_type": "stream",
          "text": [
            "\n",
            "Test set: Average loss: 0.0553, Accuracy: 9822/10000 (98.22%)\n",
            "\n",
            "Epoch 6:\n"
          ]
        },
        {
          "name": "stderr",
          "output_type": "stream",
          "text": [
            "Loss=0.3991526663303375 Batch_id=937 Accuracy=95.50: 100%|██████████| 938/938 [02:15<00:00,  6.93it/s] \n"
          ]
        },
        {
          "name": "stdout",
          "output_type": "stream",
          "text": [
            "\n",
            "Test set: Average loss: 0.1107, Accuracy: 9628/10000 (96.28%)\n",
            "\n",
            "Epoch 7:\n"
          ]
        },
        {
          "name": "stderr",
          "output_type": "stream",
          "text": [
            "Loss=0.35497891902923584 Batch_id=937 Accuracy=95.60: 100%|██████████| 938/938 [02:15<00:00,  6.91it/s]\n"
          ]
        },
        {
          "name": "stdout",
          "output_type": "stream",
          "text": [
            "\n",
            "Test set: Average loss: 0.0586, Accuracy: 9834/10000 (98.34%)\n",
            "\n",
            "Epoch 8:\n"
          ]
        },
        {
          "name": "stderr",
          "output_type": "stream",
          "text": [
            "Loss=0.3276853561401367 Batch_id=937 Accuracy=95.61: 100%|██████████| 938/938 [02:17<00:00,  6.84it/s] \n"
          ]
        },
        {
          "name": "stdout",
          "output_type": "stream",
          "text": [
            "\n",
            "Test set: Average loss: 0.0792, Accuracy: 9760/10000 (97.60%)\n",
            "\n",
            "Epoch 9:\n"
          ]
        },
        {
          "name": "stderr",
          "output_type": "stream",
          "text": [
            "Loss=0.5747157335281372 Batch_id=937 Accuracy=95.53: 100%|██████████| 938/938 [3:54:36<00:00, 15.01s/it]       \n"
          ]
        },
        {
          "name": "stdout",
          "output_type": "stream",
          "text": [
            "\n",
            "Test set: Average loss: 0.0795, Accuracy: 9773/10000 (97.73%)\n",
            "\n",
            "Epoch 10:\n"
          ]
        },
        {
          "name": "stderr",
          "output_type": "stream",
          "text": [
            "Loss=0.3669910132884979 Batch_id=937 Accuracy=95.53: 100%|██████████| 938/938 [02:35<00:00,  6.02it/s] \n"
          ]
        },
        {
          "name": "stdout",
          "output_type": "stream",
          "text": [
            "\n",
            "Test set: Average loss: 0.0546, Accuracy: 9827/10000 (98.27%)\n",
            "\n",
            "Epoch 11:\n"
          ]
        },
        {
          "name": "stderr",
          "output_type": "stream",
          "text": [
            "Loss=0.3616984784603119 Batch_id=937 Accuracy=95.79: 100%|██████████| 938/938 [35:07<00:00,  2.25s/it]   \n"
          ]
        },
        {
          "name": "stdout",
          "output_type": "stream",
          "text": [
            "\n",
            "Test set: Average loss: 0.0499, Accuracy: 9836/10000 (98.36%)\n",
            "\n",
            "Epoch 12:\n"
          ]
        },
        {
          "name": "stderr",
          "output_type": "stream",
          "text": [
            "Loss=0.5239841341972351 Batch_id=937 Accuracy=95.82: 100%|██████████| 938/938 [03:42<00:00,  4.21it/s] \n"
          ]
        },
        {
          "name": "stdout",
          "output_type": "stream",
          "text": [
            "\n",
            "Test set: Average loss: 0.0452, Accuracy: 9850/10000 (98.50%)\n",
            "\n",
            "Epoch 13:\n"
          ]
        },
        {
          "name": "stderr",
          "output_type": "stream",
          "text": [
            "Loss=0.43259871006011963 Batch_id=937 Accuracy=95.72: 100%|██████████| 938/938 [03:22<00:00,  4.64it/s]\n"
          ]
        },
        {
          "name": "stdout",
          "output_type": "stream",
          "text": [
            "\n",
            "Test set: Average loss: 0.0556, Accuracy: 9825/10000 (98.25%)\n",
            "\n",
            "Epoch 14:\n"
          ]
        },
        {
          "name": "stderr",
          "output_type": "stream",
          "text": [
            "Loss=0.3650817275047302 Batch_id=937 Accuracy=96.09: 100%|██████████| 938/938 [03:27<00:00,  4.51it/s] \n"
          ]
        },
        {
          "name": "stdout",
          "output_type": "stream",
          "text": [
            "\n",
            "Test set: Average loss: 0.0562, Accuracy: 9822/10000 (98.22%)\n",
            "\n",
            "Epoch 15:\n"
          ]
        },
        {
          "name": "stderr",
          "output_type": "stream",
          "text": [
            "Loss=0.2808097004890442 Batch_id=937 Accuracy=96.11: 100%|██████████| 938/938 [03:35<00:00,  4.34it/s] \n"
          ]
        },
        {
          "name": "stdout",
          "output_type": "stream",
          "text": [
            "\n",
            "Test set: Average loss: 0.0518, Accuracy: 9849/10000 (98.49%)\n",
            "\n",
            "Epoch 16:\n"
          ]
        },
        {
          "name": "stderr",
          "output_type": "stream",
          "text": [
            "Loss=0.29004281759262085 Batch_id=937 Accuracy=96.33: 100%|██████████| 938/938 [03:33<00:00,  4.40it/s]\n"
          ]
        },
        {
          "name": "stdout",
          "output_type": "stream",
          "text": [
            "\n",
            "Test set: Average loss: 0.0478, Accuracy: 9855/10000 (98.55%)\n",
            "\n",
            "Epoch 17:\n"
          ]
        },
        {
          "name": "stderr",
          "output_type": "stream",
          "text": [
            "Loss=0.3575214147567749 Batch_id=937 Accuracy=96.68: 100%|██████████| 938/938 [03:53<00:00,  4.02it/s] \n"
          ]
        },
        {
          "name": "stdout",
          "output_type": "stream",
          "text": [
            "\n",
            "Test set: Average loss: 0.0484, Accuracy: 9845/10000 (98.45%)\n",
            "\n",
            "Epoch 18:\n"
          ]
        },
        {
          "name": "stderr",
          "output_type": "stream",
          "text": [
            "Loss=0.2810472249984741 Batch_id=937 Accuracy=97.22: 100%|██████████| 938/938 [04:09<00:00,  3.77it/s] \n"
          ]
        },
        {
          "name": "stdout",
          "output_type": "stream",
          "text": [
            "\n",
            "Test set: Average loss: 0.0262, Accuracy: 9916/10000 (99.16%)\n",
            "\n",
            "Epoch 19:\n"
          ]
        },
        {
          "name": "stderr",
          "output_type": "stream",
          "text": [
            "Loss=0.29578328132629395 Batch_id=937 Accuracy=97.64: 100%|██████████| 938/938 [03:40<00:00,  4.24it/s]\n"
          ]
        },
        {
          "name": "stdout",
          "output_type": "stream",
          "text": [
            "\n",
            "Test set: Average loss: 0.0213, Accuracy: 9933/10000 (99.33%)\n",
            "\n",
            "Epoch 20:\n"
          ]
        },
        {
          "name": "stderr",
          "output_type": "stream",
          "text": [
            "Loss=0.2893841564655304 Batch_id=937 Accuracy=98.01: 100%|██████████| 938/938 [03:40<00:00,  4.25it/s] \n"
          ]
        },
        {
          "name": "stdout",
          "output_type": "stream",
          "text": [
            "\n",
            "Test set: Average loss: 0.0185, Accuracy: 9945/10000 (99.45%)\n",
            "\n"
          ]
        }
      ],
      "source": [
        "experiment_name='BatchNorm+L1'\n",
        "norm_type='BN'\n",
        "l1_factor=0.001\n",
        "l2_factor=0\n",
        "(exp_metrics[experiment_name]),model = helper.experiments(train_loader, test_loader,norm_type,l1_factor,l2_factor,dropout,EPOCH)\n",
        "torch.save(model, './models/{}.pt'.format(experiment_name))"
      ]
    },
    {
      "attachments": {},
      "cell_type": "markdown",
      "metadata": {
        "id": "_SUDiZlcYEuG"
      },
      "source": [
        "## Model Summary"
      ]
    },
    {
      "cell_type": "code",
      "execution_count": 14,
      "metadata": {
        "colab": {
          "base_uri": "https://localhost:8080/"
        },
        "id": "VPqKwBLaYEus",
        "outputId": "69b62650-b705-4ec3-f15d-98e971bdf6ab"
      },
      "outputs": [
        {
          "name": "stdout",
          "output_type": "stream",
          "text": [
            "=================================================================\n",
            "Layer (type:depth-idx)                   Param #\n",
            "=================================================================\n",
            "├─Sequential: 1-1                        --\n",
            "|    └─Conv2d: 2-1                       72\n",
            "|    └─ReLU: 2-2                         --\n",
            "|    └─BatchNorm2d: 2-3                  16\n",
            "|    └─Dropout: 2-4                      --\n",
            "├─Sequential: 1-2                        --\n",
            "|    └─Conv2d: 2-5                       1,152\n",
            "|    └─ReLU: 2-6                         --\n",
            "|    └─BatchNorm2d: 2-7                  32\n",
            "|    └─Dropout: 2-8                      --\n",
            "├─Sequential: 1-3                        --\n",
            "|    └─MaxPool2d: 2-9                    --\n",
            "|    └─Conv2d: 2-10                      128\n",
            "├─Sequential: 1-4                        --\n",
            "|    └─Conv2d: 2-11                      1,152\n",
            "|    └─ReLU: 2-12                        --\n",
            "|    └─BatchNorm2d: 2-13                 32\n",
            "|    └─Dropout: 2-14                     --\n",
            "├─Sequential: 1-5                        --\n",
            "|    └─Conv2d: 2-15                      2,304\n",
            "|    └─ReLU: 2-16                        --\n",
            "|    └─BatchNorm2d: 2-17                 32\n",
            "|    └─Dropout: 2-18                     --\n",
            "├─Sequential: 1-6                        --\n",
            "|    └─Conv2d: 2-19                      2,304\n",
            "|    └─ReLU: 2-20                        --\n",
            "|    └─BatchNorm2d: 2-21                 32\n",
            "|    └─Dropout: 2-22                     --\n",
            "├─AvgPool2d: 1-7                         --\n",
            "├─Sequential: 1-8                        --\n",
            "|    └─Conv2d: 2-23                      256\n",
            "|    └─ReLU: 2-24                        --\n",
            "|    └─BatchNorm2d: 2-25                 32\n",
            "|    └─Dropout: 2-26                     --\n",
            "├─Conv2d: 1-9                            160\n",
            "=================================================================\n",
            "Total params: 7,704\n",
            "Trainable params: 7,704\n",
            "Non-trainable params: 0\n",
            "=================================================================\n",
            "=================================================================\n",
            "Layer (type:depth-idx)                   Param #\n",
            "=================================================================\n",
            "├─Sequential: 1-1                        --\n",
            "|    └─Conv2d: 2-1                       72\n",
            "|    └─ReLU: 2-2                         --\n",
            "|    └─BatchNorm2d: 2-3                  16\n",
            "|    └─Dropout: 2-4                      --\n",
            "├─Sequential: 1-2                        --\n",
            "|    └─Conv2d: 2-5                       1,152\n",
            "|    └─ReLU: 2-6                         --\n",
            "|    └─BatchNorm2d: 2-7                  32\n",
            "|    └─Dropout: 2-8                      --\n",
            "├─Sequential: 1-3                        --\n",
            "|    └─MaxPool2d: 2-9                    --\n",
            "|    └─Conv2d: 2-10                      128\n",
            "├─Sequential: 1-4                        --\n",
            "|    └─Conv2d: 2-11                      1,152\n",
            "|    └─ReLU: 2-12                        --\n",
            "|    └─BatchNorm2d: 2-13                 32\n",
            "|    └─Dropout: 2-14                     --\n",
            "├─Sequential: 1-5                        --\n",
            "|    └─Conv2d: 2-15                      2,304\n",
            "|    └─ReLU: 2-16                        --\n",
            "|    └─BatchNorm2d: 2-17                 32\n",
            "|    └─Dropout: 2-18                     --\n",
            "├─Sequential: 1-6                        --\n",
            "|    └─Conv2d: 2-19                      2,304\n",
            "|    └─ReLU: 2-20                        --\n",
            "|    └─BatchNorm2d: 2-21                 32\n",
            "|    └─Dropout: 2-22                     --\n",
            "├─AvgPool2d: 1-7                         --\n",
            "├─Sequential: 1-8                        --\n",
            "|    └─Conv2d: 2-23                      256\n",
            "|    └─ReLU: 2-24                        --\n",
            "|    └─BatchNorm2d: 2-25                 32\n",
            "|    └─Dropout: 2-26                     --\n",
            "├─Conv2d: 1-9                            160\n",
            "=================================================================\n",
            "Total params: 7,704\n",
            "Trainable params: 7,704\n",
            "Non-trainable params: 0\n",
            "=================================================================\n"
          ]
        }
      ],
      "source": [
        "helper.model_summary(model,(1,28,28))"
      ]
    },
    {
      "attachments": {},
      "cell_type": "markdown",
      "metadata": {
        "id": "gNRlsg6sNo9E"
      },
      "source": [
        "## Missclassified Images for Exp3"
      ]
    },
    {
      "cell_type": "code",
      "execution_count": 15,
      "metadata": {
        "colab": {
          "base_uri": "https://localhost:8080/",
          "height": 629
        },
        "id": "YEBuiv3ONo9G",
        "outputId": "48a73318-8c7b-4318-b49f-5ecc3376d3b3"
      },
      "outputs": [
        {
          "name": "stdout",
          "output_type": "stream",
          "text": [
            "Total wrong predictions are 55\n"
          ]
        },
        {
          "data": {
            "image/png": "[encoded data removed]",
            "text/plain": [
              "<Figure size 800x1000 with 10 Axes>"
            ]
          },
          "metadata": {},
          "output_type": "display_data"
        }
      ],
      "source": [
        "model = torch.load(f'./models/{experiment_name}.pt')\n",
        "model.eval()\n",
        "helper.wrong_predictions(test_loader,model,device)"
      ]
    },
    {
      "attachments": {},
      "cell_type": "markdown",
      "metadata": {
        "id": "X91TDXsqXDf3"
      },
      "source": [
        "## Exp4 : GroupNorm with L1 regularization"
      ]
    },
    {
      "cell_type": "code",
      "execution_count": 16,
      "metadata": {
        "colab": {
          "base_uri": "https://localhost:8080/"
        },
        "id": "h-sZ0faQXDgJ",
        "outputId": "56abeaf7-1f16-48c3-f1d4-9b87bcc0d6d3"
      },
      "outputs": [
        {
          "name": "stdout",
          "output_type": "stream",
          "text": [
            "Epoch 1:\n"
          ]
        },
        {
          "name": "stderr",
          "output_type": "stream",
          "text": [
            "Loss=0.7626463174819946 Batch_id=937 Accuracy=68.36: 100%|██████████| 938/938 [03:19<00:00,  4.71it/s]\n"
          ]
        },
        {
          "name": "stdout",
          "output_type": "stream",
          "text": [
            "\n",
            "Test set: Average loss: 0.1766, Accuracy: 9628/10000 (96.28%)\n",
            "\n",
            "Epoch 2:\n"
          ]
        },
        {
          "name": "stderr",
          "output_type": "stream",
          "text": [
            "Loss=0.5539030432701111 Batch_id=937 Accuracy=93.10: 100%|██████████| 938/938 [03:19<00:00,  4.69it/s] \n"
          ]
        },
        {
          "name": "stdout",
          "output_type": "stream",
          "text": [
            "\n",
            "Test set: Average loss: 0.0859, Accuracy: 9775/10000 (97.75%)\n",
            "\n",
            "Epoch 3:\n"
          ]
        },
        {
          "name": "stderr",
          "output_type": "stream",
          "text": [
            "Loss=0.5959148406982422 Batch_id=937 Accuracy=94.74: 100%|██████████| 938/938 [03:19<00:00,  4.69it/s] \n"
          ]
        },
        {
          "name": "stdout",
          "output_type": "stream",
          "text": [
            "\n",
            "Test set: Average loss: 0.0746, Accuracy: 9803/10000 (98.03%)\n",
            "\n",
            "Epoch 4:\n"
          ]
        },
        {
          "name": "stderr",
          "output_type": "stream",
          "text": [
            "Loss=0.455873042345047 Batch_id=937 Accuracy=94.88: 100%|██████████| 938/938 [03:20<00:00,  4.68it/s]  \n"
          ]
        },
        {
          "name": "stdout",
          "output_type": "stream",
          "text": [
            "\n",
            "Test set: Average loss: 0.0617, Accuracy: 9829/10000 (98.29%)\n",
            "\n",
            "Epoch 5:\n"
          ]
        },
        {
          "name": "stderr",
          "output_type": "stream",
          "text": [
            "Loss=0.48108965158462524 Batch_id=937 Accuracy=95.09: 100%|██████████| 938/938 [06:37<00:00,  2.36it/s]\n"
          ]
        },
        {
          "name": "stdout",
          "output_type": "stream",
          "text": [
            "\n",
            "Test set: Average loss: 0.0918, Accuracy: 9755/10000 (97.55%)\n",
            "\n",
            "Epoch 6:\n"
          ]
        },
        {
          "name": "stderr",
          "output_type": "stream",
          "text": [
            "Loss=0.5680729746818542 Batch_id=937 Accuracy=95.22: 100%|██████████| 938/938 [10:40<00:00,  1.46it/s] \n"
          ]
        },
        {
          "name": "stdout",
          "output_type": "stream",
          "text": [
            "\n",
            "Test set: Average loss: 0.0737, Accuracy: 9805/10000 (98.05%)\n",
            "\n",
            "Epoch 7:\n"
          ]
        },
        {
          "name": "stderr",
          "output_type": "stream",
          "text": [
            "Loss=0.9487180709838867 Batch_id=937 Accuracy=95.12: 100%|██████████| 938/938 [11:14<00:00,  1.39it/s] \n"
          ]
        },
        {
          "name": "stdout",
          "output_type": "stream",
          "text": [
            "\n",
            "Test set: Average loss: 0.1123, Accuracy: 9675/10000 (96.75%)\n",
            "\n",
            "Epoch 8:\n"
          ]
        },
        {
          "name": "stderr",
          "output_type": "stream",
          "text": [
            "Loss=0.42807966470718384 Batch_id=937 Accuracy=95.51: 100%|██████████| 938/938 [11:00<00:00,  1.42it/s]\n"
          ]
        },
        {
          "name": "stdout",
          "output_type": "stream",
          "text": [
            "\n",
            "Test set: Average loss: 0.0907, Accuracy: 9746/10000 (97.46%)\n",
            "\n",
            "Epoch 9:\n"
          ]
        },
        {
          "name": "stderr",
          "output_type": "stream",
          "text": [
            "Loss=0.39072364568710327 Batch_id=937 Accuracy=95.51: 100%|██████████| 938/938 [11:54<00:00,  1.31it/s]\n"
          ]
        },
        {
          "name": "stdout",
          "output_type": "stream",
          "text": [
            "\n",
            "Test set: Average loss: 0.0812, Accuracy: 9797/10000 (97.97%)\n",
            "\n",
            "Epoch 10:\n"
          ]
        },
        {
          "name": "stderr",
          "output_type": "stream",
          "text": [
            "Loss=0.4642654359340668 Batch_id=937 Accuracy=95.61: 100%|██████████| 938/938 [03:33<00:00,  4.39it/s] \n"
          ]
        },
        {
          "name": "stdout",
          "output_type": "stream",
          "text": [
            "\n",
            "Test set: Average loss: 0.0682, Accuracy: 9826/10000 (98.26%)\n",
            "\n",
            "Epoch 11:\n"
          ]
        },
        {
          "name": "stderr",
          "output_type": "stream",
          "text": [
            "Loss=0.4617205560207367 Batch_id=937 Accuracy=95.76: 100%|██████████| 938/938 [02:34<00:00,  6.08it/s] \n"
          ]
        },
        {
          "name": "stdout",
          "output_type": "stream",
          "text": [
            "\n",
            "Test set: Average loss: 0.0652, Accuracy: 9820/10000 (98.20%)\n",
            "\n",
            "Epoch 12:\n"
          ]
        },
        {
          "name": "stderr",
          "output_type": "stream",
          "text": [
            "Loss=0.49119532108306885 Batch_id=937 Accuracy=95.73: 100%|██████████| 938/938 [03:46<00:00,  4.15it/s]\n"
          ]
        },
        {
          "name": "stdout",
          "output_type": "stream",
          "text": [
            "\n",
            "Test set: Average loss: 0.0821, Accuracy: 9778/10000 (97.78%)\n",
            "\n",
            "Epoch 13:\n"
          ]
        },
        {
          "name": "stderr",
          "output_type": "stream",
          "text": [
            "Loss=0.58640056848526 Batch_id=937 Accuracy=95.83: 100%|██████████| 938/938 [04:02<00:00,  3.86it/s]   \n"
          ]
        },
        {
          "name": "stdout",
          "output_type": "stream",
          "text": [
            "\n",
            "Test set: Average loss: 0.0640, Accuracy: 9822/10000 (98.22%)\n",
            "\n",
            "Epoch 14:\n"
          ]
        },
        {
          "name": "stderr",
          "output_type": "stream",
          "text": [
            "Loss=0.6106330156326294 Batch_id=937 Accuracy=96.04: 100%|██████████| 938/938 [03:28<00:00,  4.50it/s] \n"
          ]
        },
        {
          "name": "stdout",
          "output_type": "stream",
          "text": [
            "\n",
            "Test set: Average loss: 0.0663, Accuracy: 9813/10000 (98.13%)\n",
            "\n",
            "Epoch 15:\n"
          ]
        },
        {
          "name": "stderr",
          "output_type": "stream",
          "text": [
            "Loss=0.4372333288192749 Batch_id=937 Accuracy=96.27: 100%|██████████| 938/938 [03:30<00:00,  4.46it/s] \n"
          ]
        },
        {
          "name": "stdout",
          "output_type": "stream",
          "text": [
            "\n",
            "Test set: Average loss: 0.0589, Accuracy: 9841/10000 (98.41%)\n",
            "\n",
            "Epoch 16:\n"
          ]
        },
        {
          "name": "stderr",
          "output_type": "stream",
          "text": [
            "Loss=0.2924075424671173 Batch_id=937 Accuracy=96.42: 100%|██████████| 938/938 [03:24<00:00,  4.60it/s] \n"
          ]
        },
        {
          "name": "stdout",
          "output_type": "stream",
          "text": [
            "\n",
            "Test set: Average loss: 0.0466, Accuracy: 9872/10000 (98.72%)\n",
            "\n",
            "Epoch 17:\n"
          ]
        },
        {
          "name": "stderr",
          "output_type": "stream",
          "text": [
            "Loss=0.34126490354537964 Batch_id=937 Accuracy=96.97: 100%|██████████| 938/938 [03:18<00:00,  4.72it/s]\n"
          ]
        },
        {
          "name": "stdout",
          "output_type": "stream",
          "text": [
            "\n",
            "Test set: Average loss: 0.0379, Accuracy: 9908/10000 (99.08%)\n",
            "\n",
            "Epoch 18:\n"
          ]
        },
        {
          "name": "stderr",
          "output_type": "stream",
          "text": [
            "Loss=0.26497697830200195 Batch_id=937 Accuracy=97.47: 100%|██████████| 938/938 [03:19<00:00,  4.70it/s]\n"
          ]
        },
        {
          "name": "stdout",
          "output_type": "stream",
          "text": [
            "\n",
            "Test set: Average loss: 0.0340, Accuracy: 9909/10000 (99.09%)\n",
            "\n",
            "Epoch 19:\n"
          ]
        },
        {
          "name": "stderr",
          "output_type": "stream",
          "text": [
            "Loss=0.3801645040512085 Batch_id=937 Accuracy=97.83: 100%|██████████| 938/938 [33:56<00:00,  2.17s/it]     \n"
          ]
        },
        {
          "name": "stdout",
          "output_type": "stream",
          "text": [
            "\n",
            "Test set: Average loss: 0.0308, Accuracy: 9915/10000 (99.15%)\n",
            "\n",
            "Epoch 20:\n"
          ]
        },
        {
          "name": "stderr",
          "output_type": "stream",
          "text": [
            "Loss=0.4452430009841919 Batch_id=937 Accuracy=98.21: 100%|██████████| 938/938 [03:21<00:00,  4.66it/s] \n"
          ]
        },
        {
          "name": "stdout",
          "output_type": "stream",
          "text": [
            "\n",
            "Test set: Average loss: 0.0287, Accuracy: 9920/10000 (99.20%)\n",
            "\n"
          ]
        }
      ],
      "source": [
        "experiment_name='GroupNorm+L1'\n",
        "norm_type='GN'\n",
        "l1_factor=0.001\n",
        "l2_factor=0\n",
        "(exp_metrics[experiment_name]),model = helper.experiments(train_loader, test_loader,norm_type,l1_factor,l2_factor,dropout,EPOCH)\n",
        "torch.save(model, './models/{}.pt'.format(experiment_name))"
      ]
    },
    {
      "attachments": {},
      "cell_type": "markdown",
      "metadata": {
        "id": "g6VB8cQzy5A5"
      },
      "source": [
        "## Model Summary"
      ]
    },
    {
      "cell_type": "code",
      "execution_count": 17,
      "metadata": {
        "colab": {
          "base_uri": "https://localhost:8080/"
        },
        "id": "PrGwmNBVy5BM",
        "outputId": "6332e273-b769-4ad1-81e5-0ed9805252c6"
      },
      "outputs": [
        {
          "name": "stdout",
          "output_type": "stream",
          "text": [
            "=================================================================\n",
            "Layer (type:depth-idx)                   Param #\n",
            "=================================================================\n",
            "├─Sequential: 1-1                        --\n",
            "|    └─Conv2d: 2-1                       72\n",
            "|    └─ReLU: 2-2                         --\n",
            "|    └─GroupNorm: 2-3                    16\n",
            "|    └─Dropout: 2-4                      --\n",
            "├─Sequential: 1-2                        --\n",
            "|    └─Conv2d: 2-5                       1,152\n",
            "|    └─ReLU: 2-6                         --\n",
            "|    └─GroupNorm: 2-7                    32\n",
            "|    └─Dropout: 2-8                      --\n",
            "├─Sequential: 1-3                        --\n",
            "|    └─MaxPool2d: 2-9                    --\n",
            "|    └─Conv2d: 2-10                      128\n",
            "├─Sequential: 1-4                        --\n",
            "|    └─Conv2d: 2-11                      1,152\n",
            "|    └─ReLU: 2-12                        --\n",
            "|    └─GroupNorm: 2-13                   32\n",
            "|    └─Dropout: 2-14                     --\n",
            "├─Sequential: 1-5                        --\n",
            "|    └─Conv2d: 2-15                      2,304\n",
            "|    └─ReLU: 2-16                        --\n",
            "|    └─GroupNorm: 2-17                   32\n",
            "|    └─Dropout: 2-18                     --\n",
            "├─Sequential: 1-6                        --\n",
            "|    └─Conv2d: 2-19                      2,304\n",
            "|    └─ReLU: 2-20                        --\n",
            "|    └─GroupNorm: 2-21                   32\n",
            "|    └─Dropout: 2-22                     --\n",
            "├─AvgPool2d: 1-7                         --\n",
            "├─Sequential: 1-8                        --\n",
            "|    └─Conv2d: 2-23                      256\n",
            "|    └─ReLU: 2-24                        --\n",
            "|    └─GroupNorm: 2-25                   32\n",
            "|    └─Dropout: 2-26                     --\n",
            "├─Conv2d: 1-9                            160\n",
            "=================================================================\n",
            "Total params: 7,704\n",
            "Trainable params: 7,704\n",
            "Non-trainable params: 0\n",
            "=================================================================\n",
            "=================================================================\n",
            "Layer (type:depth-idx)                   Param #\n",
            "=================================================================\n",
            "├─Sequential: 1-1                        --\n",
            "|    └─Conv2d: 2-1                       72\n",
            "|    └─ReLU: 2-2                         --\n",
            "|    └─GroupNorm: 2-3                    16\n",
            "|    └─Dropout: 2-4                      --\n",
            "├─Sequential: 1-2                        --\n",
            "|    └─Conv2d: 2-5                       1,152\n",
            "|    └─ReLU: 2-6                         --\n",
            "|    └─GroupNorm: 2-7                    32\n",
            "|    └─Dropout: 2-8                      --\n",
            "├─Sequential: 1-3                        --\n",
            "|    └─MaxPool2d: 2-9                    --\n",
            "|    └─Conv2d: 2-10                      128\n",
            "├─Sequential: 1-4                        --\n",
            "|    └─Conv2d: 2-11                      1,152\n",
            "|    └─ReLU: 2-12                        --\n",
            "|    └─GroupNorm: 2-13                   32\n",
            "|    └─Dropout: 2-14                     --\n",
            "├─Sequential: 1-5                        --\n",
            "|    └─Conv2d: 2-15                      2,304\n",
            "|    └─ReLU: 2-16                        --\n",
            "|    └─GroupNorm: 2-17                   32\n",
            "|    └─Dropout: 2-18                     --\n",
            "├─Sequential: 1-6                        --\n",
            "|    └─Conv2d: 2-19                      2,304\n",
            "|    └─ReLU: 2-20                        --\n",
            "|    └─GroupNorm: 2-21                   32\n",
            "|    └─Dropout: 2-22                     --\n",
            "├─AvgPool2d: 1-7                         --\n",
            "├─Sequential: 1-8                        --\n",
            "|    └─Conv2d: 2-23                      256\n",
            "|    └─ReLU: 2-24                        --\n",
            "|    └─GroupNorm: 2-25                   32\n",
            "|    └─Dropout: 2-26                     --\n",
            "├─Conv2d: 1-9                            160\n",
            "=================================================================\n",
            "Total params: 7,704\n",
            "Trainable params: 7,704\n",
            "Non-trainable params: 0\n",
            "=================================================================\n"
          ]
        }
      ],
      "source": [
        "helper.model_summary(model,(1,28,28))"
      ]
    },
    {
      "attachments": {},
      "cell_type": "markdown",
      "metadata": {
        "id": "lNhOZG7VXDgO"
      },
      "source": [
        "## Missclassified Images for Exp4"
      ]
    },
    {
      "cell_type": "code",
      "execution_count": 18,
      "metadata": {
        "colab": {
          "base_uri": "https://localhost:8080/",
          "height": 629
        },
        "id": "wBx4aFTCXDgP",
        "outputId": "503291e2-7e87-4e23-981d-28b38b4df8db"
      },
      "outputs": [
        {
          "name": "stdout",
          "output_type": "stream",
          "text": [
            "Total wrong predictions are 80\n"
          ]
        },
        {
          "data": {
            "image/png": "[encoded data removed]",
            "text/plain": [
              "<Figure size 800x1000 with 10 Axes>"
            ]
          },
          "metadata": {},
          "output_type": "display_data"
        }
      ],
      "source": [
        "model = torch.load(f'./models/{experiment_name}.pt')\n",
        "model.eval()\n",
        "helper.wrong_predictions(test_loader,model,device)"
      ]
    },
    {
      "attachments": {},
      "cell_type": "markdown",
      "metadata": {
        "id": "48L8TmyLzEfL"
      },
      "source": [
        "## Exp5 : LayerNorm with L2 regularization"
      ]
    },
    {
      "cell_type": "code",
      "execution_count": 19,
      "metadata": {
        "colab": {
          "base_uri": "https://localhost:8080/"
        },
        "id": "C8xwmUDBzEfu",
        "outputId": "4f408c72-827e-4315-f873-6cd4fac07722"
      },
      "outputs": [
        {
          "name": "stdout",
          "output_type": "stream",
          "text": [
            "Epoch 1:\n"
          ]
        },
        {
          "name": "stderr",
          "output_type": "stream",
          "text": [
            "Loss=0.07437962293624878 Batch_id=937 Accuracy=75.84: 100%|██████████| 938/938 [04:01<00:00,  3.88it/s]\n"
          ]
        },
        {
          "name": "stdout",
          "output_type": "stream",
          "text": [
            "\n",
            "Test set: Average loss: 0.1347, Accuracy: 9706/10000 (97.06%)\n",
            "\n",
            "Epoch 2:\n"
          ]
        },
        {
          "name": "stderr",
          "output_type": "stream",
          "text": [
            "Loss=0.044913895428180695 Batch_id=937 Accuracy=94.67: 100%|██████████| 938/938 [04:14<00:00,  3.69it/s]\n"
          ]
        },
        {
          "name": "stdout",
          "output_type": "stream",
          "text": [
            "\n",
            "Test set: Average loss: 0.0671, Accuracy: 9831/10000 (98.31%)\n",
            "\n",
            "Epoch 3:\n"
          ]
        },
        {
          "name": "stderr",
          "output_type": "stream",
          "text": [
            "Loss=0.13543306291103363 Batch_id=937 Accuracy=96.25: 100%|██████████| 938/938 [04:16<00:00,  3.66it/s] \n"
          ]
        },
        {
          "name": "stdout",
          "output_type": "stream",
          "text": [
            "\n",
            "Test set: Average loss: 0.0626, Accuracy: 9833/10000 (98.33%)\n",
            "\n",
            "Epoch 4:\n"
          ]
        },
        {
          "name": "stderr",
          "output_type": "stream",
          "text": [
            "Loss=0.038214027881622314 Batch_id=937 Accuracy=96.86: 100%|██████████| 938/938 [04:20<00:00,  3.61it/s]\n"
          ]
        },
        {
          "name": "stdout",
          "output_type": "stream",
          "text": [
            "\n",
            "Test set: Average loss: 0.0369, Accuracy: 9901/10000 (99.01%)\n",
            "\n",
            "Epoch 5:\n"
          ]
        },
        {
          "name": "stderr",
          "output_type": "stream",
          "text": [
            "Loss=0.04781084135174751 Batch_id=937 Accuracy=97.28: 100%|██████████| 938/938 [06:35<00:00,  2.37it/s] \n"
          ]
        },
        {
          "name": "stdout",
          "output_type": "stream",
          "text": [
            "\n",
            "Test set: Average loss: 0.0355, Accuracy: 9899/10000 (98.99%)\n",
            "\n",
            "Epoch 6:\n"
          ]
        },
        {
          "name": "stderr",
          "output_type": "stream",
          "text": [
            "Loss=0.042623747140169144 Batch_id=937 Accuracy=97.36: 100%|██████████| 938/938 [04:44<00:00,  3.30it/s]\n"
          ]
        },
        {
          "name": "stdout",
          "output_type": "stream",
          "text": [
            "\n",
            "Test set: Average loss: 0.0400, Accuracy: 9887/10000 (98.87%)\n",
            "\n",
            "Epoch 7:\n"
          ]
        },
        {
          "name": "stderr",
          "output_type": "stream",
          "text": [
            "Loss=0.046652477234601974 Batch_id=937 Accuracy=97.39: 100%|██████████| 938/938 [09:49<00:00,  1.59it/s]\n"
          ]
        },
        {
          "name": "stdout",
          "output_type": "stream",
          "text": [
            "\n",
            "Test set: Average loss: 0.0373, Accuracy: 9902/10000 (99.02%)\n",
            "\n",
            "Epoch 8:\n"
          ]
        },
        {
          "name": "stderr",
          "output_type": "stream",
          "text": [
            "Loss=0.034776877611875534 Batch_id=937 Accuracy=97.63: 100%|██████████| 938/938 [06:36<00:00,  2.37it/s]\n"
          ]
        },
        {
          "name": "stdout",
          "output_type": "stream",
          "text": [
            "\n",
            "Test set: Average loss: 0.0386, Accuracy: 9885/10000 (98.85%)\n",
            "\n",
            "Epoch 9:\n"
          ]
        },
        {
          "name": "stderr",
          "output_type": "stream",
          "text": [
            "Loss=0.16973577439785004 Batch_id=937 Accuracy=97.73: 100%|██████████| 938/938 [06:57<00:00,  2.24it/s] \n"
          ]
        },
        {
          "name": "stdout",
          "output_type": "stream",
          "text": [
            "\n",
            "Test set: Average loss: 0.0373, Accuracy: 9887/10000 (98.87%)\n",
            "\n",
            "Epoch 10:\n"
          ]
        },
        {
          "name": "stderr",
          "output_type": "stream",
          "text": [
            "Loss=0.030783558264374733 Batch_id=937 Accuracy=97.67: 100%|██████████| 938/938 [06:02<00:00,  2.59it/s]\n"
          ]
        },
        {
          "name": "stdout",
          "output_type": "stream",
          "text": [
            "\n",
            "Test set: Average loss: 0.0319, Accuracy: 9910/10000 (99.10%)\n",
            "\n",
            "Epoch 11:\n"
          ]
        },
        {
          "name": "stderr",
          "output_type": "stream",
          "text": [
            "Loss=0.048506833612918854 Batch_id=937 Accuracy=97.84: 100%|██████████| 938/938 [11:05<00:00,  1.41it/s]\n"
          ]
        },
        {
          "name": "stdout",
          "output_type": "stream",
          "text": [
            "\n",
            "Test set: Average loss: 0.0533, Accuracy: 9843/10000 (98.43%)\n",
            "\n",
            "Epoch 12:\n"
          ]
        },
        {
          "name": "stderr",
          "output_type": "stream",
          "text": [
            "Loss=0.013599268160760403 Batch_id=937 Accuracy=98.01: 100%|██████████| 938/938 [07:26<00:00,  2.10it/s] \n"
          ]
        },
        {
          "name": "stdout",
          "output_type": "stream",
          "text": [
            "\n",
            "Test set: Average loss: 0.0333, Accuracy: 9907/10000 (99.07%)\n",
            "\n",
            "Epoch 13:\n"
          ]
        },
        {
          "name": "stderr",
          "output_type": "stream",
          "text": [
            "Loss=0.009765339083969593 Batch_id=937 Accuracy=97.98: 100%|██████████| 938/938 [04:16<00:00,  3.65it/s] \n"
          ]
        },
        {
          "name": "stdout",
          "output_type": "stream",
          "text": [
            "\n",
            "Test set: Average loss: 0.0313, Accuracy: 9908/10000 (99.08%)\n",
            "\n",
            "Epoch 14:\n"
          ]
        },
        {
          "name": "stderr",
          "output_type": "stream",
          "text": [
            "Loss=0.0241059809923172 Batch_id=937 Accuracy=98.12: 100%|██████████| 938/938 [04:16<00:00,  3.66it/s]  \n"
          ]
        },
        {
          "name": "stdout",
          "output_type": "stream",
          "text": [
            "\n",
            "Test set: Average loss: 0.0273, Accuracy: 9923/10000 (99.23%)\n",
            "\n",
            "Epoch 15:\n"
          ]
        },
        {
          "name": "stderr",
          "output_type": "stream",
          "text": [
            "Loss=0.06102687120437622 Batch_id=937 Accuracy=98.25: 100%|██████████| 938/938 [04:14<00:00,  3.69it/s]  \n"
          ]
        },
        {
          "name": "stdout",
          "output_type": "stream",
          "text": [
            "\n",
            "Test set: Average loss: 0.0282, Accuracy: 9922/10000 (99.22%)\n",
            "\n",
            "Epoch 16:\n"
          ]
        },
        {
          "name": "stderr",
          "output_type": "stream",
          "text": [
            "Loss=0.07555898278951645 Batch_id=937 Accuracy=98.42: 100%|██████████| 938/938 [04:29<00:00,  3.49it/s]  \n"
          ]
        },
        {
          "name": "stdout",
          "output_type": "stream",
          "text": [
            "\n",
            "Test set: Average loss: 0.0288, Accuracy: 9919/10000 (99.19%)\n",
            "\n",
            "Epoch 17:\n"
          ]
        },
        {
          "name": "stderr",
          "output_type": "stream",
          "text": [
            "Loss=0.13040000200271606 Batch_id=937 Accuracy=98.54: 100%|██████████| 938/938 [07:14<00:00,  2.16it/s]  \n"
          ]
        },
        {
          "name": "stdout",
          "output_type": "stream",
          "text": [
            "\n",
            "Test set: Average loss: 0.0219, Accuracy: 9939/10000 (99.39%)\n",
            "\n",
            "Epoch 18:\n"
          ]
        },
        {
          "name": "stderr",
          "output_type": "stream",
          "text": [
            "Loss=0.005882012192159891 Batch_id=937 Accuracy=98.70: 100%|██████████| 938/938 [11:18<00:00,  1.38it/s] \n"
          ]
        },
        {
          "name": "stdout",
          "output_type": "stream",
          "text": [
            "\n",
            "Test set: Average loss: 0.0220, Accuracy: 9938/10000 (99.38%)\n",
            "\n",
            "Epoch 19:\n"
          ]
        },
        {
          "name": "stderr",
          "output_type": "stream",
          "text": [
            "Loss=0.013106859289109707 Batch_id=937 Accuracy=98.82: 100%|██████████| 938/938 [06:56<00:00,  2.25it/s] \n"
          ]
        },
        {
          "name": "stdout",
          "output_type": "stream",
          "text": [
            "\n",
            "Test set: Average loss: 0.0203, Accuracy: 9940/10000 (99.40%)\n",
            "\n",
            "Epoch 20:\n"
          ]
        },
        {
          "name": "stderr",
          "output_type": "stream",
          "text": [
            "Loss=0.15272653102874756 Batch_id=937 Accuracy=98.92: 100%|██████████| 938/938 [10:21<00:00,  1.51it/s]  \n"
          ]
        },
        {
          "name": "stdout",
          "output_type": "stream",
          "text": [
            "\n",
            "Test set: Average loss: 0.0199, Accuracy: 9942/10000 (99.42%)\n",
            "\n"
          ]
        }
      ],
      "source": [
        "experiment_name='LayerNorm+L2'\n",
        "norm_type='LN'\n",
        "l1_factor=0\n",
        "l2_factor=0.001\n",
        "(exp_metrics[experiment_name]),model = helper.experiments(train_loader, test_loader,norm_type,l1_factor,l2_factor,dropout,EPOCH)\n",
        "torch.save(model, './models/{}.pt'.format(experiment_name))"
      ]
    },
    {
      "attachments": {},
      "cell_type": "markdown",
      "metadata": {
        "id": "lH44ltAxzEf0"
      },
      "source": [
        "## Missclassified Images for Exp5\n",
        "\n",
        "---\n",
        "\n"
      ]
    },
    {
      "cell_type": "code",
      "execution_count": 20,
      "metadata": {
        "colab": {
          "base_uri": "https://localhost:8080/",
          "height": 629
        },
        "id": "eMWOQZsLzEf1",
        "outputId": "a6389b30-a6b2-495d-a16a-78d8c7a62f4e"
      },
      "outputs": [
        {
          "name": "stdout",
          "output_type": "stream",
          "text": [
            "Total wrong predictions are 58\n"
          ]
        },
        {
          "data": {
            "image/png": "[encoded data removed]",
            "text/plain": [
              "<Figure size 800x1000 with 10 Axes>"
            ]
          },
          "metadata": {},
          "output_type": "display_data"
        }
      ],
      "source": [
        "model = torch.load(f'./models/{experiment_name}.pt')\n",
        "model.eval()\n",
        "helper.wrong_predictions(test_loader,model,device)"
      ]
    },
    {
      "attachments": {},
      "cell_type": "markdown",
      "metadata": {
        "id": "_yQiE59uzXrh"
      },
      "source": [
        "## Exp6 : BatchNorm with L1 and L2 regularization"
      ]
    },
    {
      "cell_type": "code",
      "execution_count": 21,
      "metadata": {
        "colab": {
          "base_uri": "https://localhost:8080/"
        },
        "id": "pg_X2jkLzXsB",
        "outputId": "141d9e5f-3bd1-4fa7-be27-57cf139595a4"
      },
      "outputs": [
        {
          "name": "stdout",
          "output_type": "stream",
          "text": [
            "Epoch 1:\n"
          ]
        },
        {
          "name": "stderr",
          "output_type": "stream",
          "text": [
            "Loss=0.6433448791503906 Batch_id=937 Accuracy=74.06: 100%|██████████| 938/938 [05:56<00:00,  2.63it/s]\n"
          ]
        },
        {
          "name": "stdout",
          "output_type": "stream",
          "text": [
            "\n",
            "Test set: Average loss: 0.1223, Accuracy: 9679/10000 (96.79%)\n",
            "\n",
            "Epoch 2:\n"
          ]
        },
        {
          "name": "stderr",
          "output_type": "stream",
          "text": [
            "Loss=0.6075996160507202 Batch_id=937 Accuracy=93.92: 100%|██████████| 938/938 [05:26<00:00,  2.87it/s] \n"
          ]
        },
        {
          "name": "stdout",
          "output_type": "stream",
          "text": [
            "\n",
            "Test set: Average loss: 0.0665, Accuracy: 9815/10000 (98.15%)\n",
            "\n",
            "Epoch 3:\n"
          ]
        },
        {
          "name": "stderr",
          "output_type": "stream",
          "text": [
            "Loss=0.5392670631408691 Batch_id=937 Accuracy=94.92: 100%|██████████| 938/938 [04:39<00:00,  3.35it/s] \n"
          ]
        },
        {
          "name": "stdout",
          "output_type": "stream",
          "text": [
            "\n",
            "Test set: Average loss: 0.0817, Accuracy: 9736/10000 (97.36%)\n",
            "\n",
            "Epoch 4:\n"
          ]
        },
        {
          "name": "stderr",
          "output_type": "stream",
          "text": [
            "Loss=0.704666018486023 Batch_id=937 Accuracy=95.27: 100%|██████████| 938/938 [04:31<00:00,  3.45it/s]  \n"
          ]
        },
        {
          "name": "stdout",
          "output_type": "stream",
          "text": [
            "\n",
            "Test set: Average loss: 0.0725, Accuracy: 9781/10000 (97.81%)\n",
            "\n",
            "Epoch 5:\n"
          ]
        },
        {
          "name": "stderr",
          "output_type": "stream",
          "text": [
            "Loss=0.49721813201904297 Batch_id=768 Accuracy=95.37:  82%|████████▏ | 769/938 [05:15<01:09,  2.44it/s]  \n"
          ]
        },
        {
          "ename": "KeyboardInterrupt",
          "evalue": "",
          "output_type": "error",
          "traceback": [
            "\u001b[1;31m---------------------------------------------------------------------------\u001b[0m",
            "\u001b[1;31mKeyboardInterrupt\u001b[0m                         Traceback (most recent call last)",
            "Cell \u001b[1;32mIn[21], line 5\u001b[0m\n\u001b[0;32m      3\u001b[0m l1_factor\u001b[39m=\u001b[39m\u001b[39m0.001\u001b[39m\n\u001b[0;32m      4\u001b[0m l2_factor\u001b[39m=\u001b[39m\u001b[39m0.001\u001b[39m\n\u001b[1;32m----> 5\u001b[0m (exp_metrics[experiment_name]),model \u001b[39m=\u001b[39m helper\u001b[39m.\u001b[39;49mexperiments(train_loader, test_loader,norm_type,l1_factor,l2_factor,dropout,EPOCH)\n\u001b[0;32m      6\u001b[0m torch\u001b[39m.\u001b[39msave(model, \u001b[39m'\u001b[39m\u001b[39m./models/\u001b[39m\u001b[39m{}\u001b[39;00m\u001b[39m.pt\u001b[39m\u001b[39m'\u001b[39m\u001b[39m.\u001b[39mformat(experiment_name))\n",
            "File \u001b[1;32mg:\\My Drive\\Amit-Personal\\github-personal\\amit\\ERA-V1\\Session6\\utils\\helper.py:33\u001b[0m, in \u001b[0;36mexperiments\u001b[1;34m(train_loader, test_loader, norm_type, l1_factor, l2_factor, dropout, epochs)\u001b[0m\n\u001b[0;32m     31\u001b[0m \u001b[39mfor\u001b[39;00m epoch \u001b[39min\u001b[39;00m \u001b[39mrange\u001b[39m(\u001b[39m1\u001b[39m, epochs \u001b[39m+\u001b[39m \u001b[39m1\u001b[39m):\n\u001b[0;32m     32\u001b[0m     \u001b[39mprint\u001b[39m(\u001b[39mf\u001b[39m\u001b[39m'\u001b[39m\u001b[39mEpoch \u001b[39m\u001b[39m{\u001b[39;00mepoch\u001b[39m}\u001b[39;00m\u001b[39m:\u001b[39m\u001b[39m'\u001b[39m)\n\u001b[1;32m---> 33\u001b[0m     trn\u001b[39m.\u001b[39;49mtrain(model, device, train_loader, optimizer, epoch, train_accuracy, train_losses, l1_factor,scheduler)\n\u001b[0;32m     34\u001b[0m     tst\u001b[39m.\u001b[39mtest(model, device, test_loader,test_accuracy,test_losses)\n\u001b[0;32m     36\u001b[0m \u001b[39mreturn\u001b[39;00m (train_accuracy,train_losses,test_accuracy,test_losses),model\n",
            "File \u001b[1;32mg:\\My Drive\\Amit-Personal\\github-personal\\amit\\ERA-V1\\Session6\\utils\\train.py:14\u001b[0m, in \u001b[0;36mtrain\u001b[1;34m(model, device, train_loader, optimizer, epoch, train_acc, train_loss, lambda_l1, scheduler)\u001b[0m\n\u001b[0;32m     11\u001b[0m correct \u001b[39m=\u001b[39m \u001b[39m0\u001b[39m\n\u001b[0;32m     12\u001b[0m processed \u001b[39m=\u001b[39m \u001b[39m0\u001b[39m\n\u001b[1;32m---> 14\u001b[0m \u001b[39mfor\u001b[39;00m batch_idx, (data, target) \u001b[39min\u001b[39;00m \u001b[39menumerate\u001b[39m(pbar):\n\u001b[0;32m     15\u001b[0m   \u001b[39m# get samples\u001b[39;00m\n\u001b[0;32m     16\u001b[0m   data, target \u001b[39m=\u001b[39m data\u001b[39m.\u001b[39mto(device), target\u001b[39m.\u001b[39mto(device)\n\u001b[0;32m     18\u001b[0m   \u001b[39m# Init\u001b[39;00m\n",
            "File \u001b[1;32mc:\\Users\\amitk\\.conda\\envs\\langchain-llm\\lib\\site-packages\\tqdm\\std.py:1178\u001b[0m, in \u001b[0;36mtqdm.__iter__\u001b[1;34m(self)\u001b[0m\n\u001b[0;32m   1175\u001b[0m time \u001b[39m=\u001b[39m \u001b[39mself\u001b[39m\u001b[39m.\u001b[39m_time\n\u001b[0;32m   1177\u001b[0m \u001b[39mtry\u001b[39;00m:\n\u001b[1;32m-> 1178\u001b[0m     \u001b[39mfor\u001b[39;00m obj \u001b[39min\u001b[39;00m iterable:\n\u001b[0;32m   1179\u001b[0m         \u001b[39myield\u001b[39;00m obj\n\u001b[0;32m   1180\u001b[0m         \u001b[39m# Update and possibly print the progressbar.\u001b[39;00m\n\u001b[0;32m   1181\u001b[0m         \u001b[39m# Note: does not call self.update(1) for speed optimisation.\u001b[39;00m\n",
            "File \u001b[1;32mc:\\Users\\amitk\\.conda\\envs\\langchain-llm\\lib\\site-packages\\torch\\utils\\data\\dataloader.py:633\u001b[0m, in \u001b[0;36m_BaseDataLoaderIter.__next__\u001b[1;34m(self)\u001b[0m\n\u001b[0;32m    630\u001b[0m \u001b[39mif\u001b[39;00m \u001b[39mself\u001b[39m\u001b[39m.\u001b[39m_sampler_iter \u001b[39mis\u001b[39;00m \u001b[39mNone\u001b[39;00m:\n\u001b[0;32m    631\u001b[0m     \u001b[39m# TODO(https://github.com/pytorch/pytorch/issues/76750)\u001b[39;00m\n\u001b[0;32m    632\u001b[0m     \u001b[39mself\u001b[39m\u001b[39m.\u001b[39m_reset()  \u001b[39m# type: ignore[call-arg]\u001b[39;00m\n\u001b[1;32m--> 633\u001b[0m data \u001b[39m=\u001b[39m \u001b[39mself\u001b[39;49m\u001b[39m.\u001b[39;49m_next_data()\n\u001b[0;32m    634\u001b[0m \u001b[39mself\u001b[39m\u001b[39m.\u001b[39m_num_yielded \u001b[39m+\u001b[39m\u001b[39m=\u001b[39m \u001b[39m1\u001b[39m\n\u001b[0;32m    635\u001b[0m \u001b[39mif\u001b[39;00m \u001b[39mself\u001b[39m\u001b[39m.\u001b[39m_dataset_kind \u001b[39m==\u001b[39m _DatasetKind\u001b[39m.\u001b[39mIterable \u001b[39mand\u001b[39;00m \\\n\u001b[0;32m    636\u001b[0m         \u001b[39mself\u001b[39m\u001b[39m.\u001b[39m_IterableDataset_len_called \u001b[39mis\u001b[39;00m \u001b[39mnot\u001b[39;00m \u001b[39mNone\u001b[39;00m \u001b[39mand\u001b[39;00m \\\n\u001b[0;32m    637\u001b[0m         \u001b[39mself\u001b[39m\u001b[39m.\u001b[39m_num_yielded \u001b[39m>\u001b[39m \u001b[39mself\u001b[39m\u001b[39m.\u001b[39m_IterableDataset_len_called:\n",
            "File \u001b[1;32mc:\\Users\\amitk\\.conda\\envs\\langchain-llm\\lib\\site-packages\\torch\\utils\\data\\dataloader.py:677\u001b[0m, in \u001b[0;36m_SingleProcessDataLoaderIter._next_data\u001b[1;34m(self)\u001b[0m\n\u001b[0;32m    675\u001b[0m \u001b[39mdef\u001b[39;00m \u001b[39m_next_data\u001b[39m(\u001b[39mself\u001b[39m):\n\u001b[0;32m    676\u001b[0m     index \u001b[39m=\u001b[39m \u001b[39mself\u001b[39m\u001b[39m.\u001b[39m_next_index()  \u001b[39m# may raise StopIteration\u001b[39;00m\n\u001b[1;32m--> 677\u001b[0m     data \u001b[39m=\u001b[39m \u001b[39mself\u001b[39;49m\u001b[39m.\u001b[39;49m_dataset_fetcher\u001b[39m.\u001b[39;49mfetch(index)  \u001b[39m# may raise StopIteration\u001b[39;00m\n\u001b[0;32m    678\u001b[0m     \u001b[39mif\u001b[39;00m \u001b[39mself\u001b[39m\u001b[39m.\u001b[39m_pin_memory:\n\u001b[0;32m    679\u001b[0m         data \u001b[39m=\u001b[39m _utils\u001b[39m.\u001b[39mpin_memory\u001b[39m.\u001b[39mpin_memory(data, \u001b[39mself\u001b[39m\u001b[39m.\u001b[39m_pin_memory_device)\n",
            "File \u001b[1;32mc:\\Users\\amitk\\.conda\\envs\\langchain-llm\\lib\\site-packages\\torch\\utils\\data\\_utils\\fetch.py:51\u001b[0m, in \u001b[0;36m_MapDatasetFetcher.fetch\u001b[1;34m(self, possibly_batched_index)\u001b[0m\n\u001b[0;32m     49\u001b[0m         data \u001b[39m=\u001b[39m \u001b[39mself\u001b[39m\u001b[39m.\u001b[39mdataset\u001b[39m.\u001b[39m__getitems__(possibly_batched_index)\n\u001b[0;32m     50\u001b[0m     \u001b[39melse\u001b[39;00m:\n\u001b[1;32m---> 51\u001b[0m         data \u001b[39m=\u001b[39m [\u001b[39mself\u001b[39m\u001b[39m.\u001b[39mdataset[idx] \u001b[39mfor\u001b[39;00m idx \u001b[39min\u001b[39;00m possibly_batched_index]\n\u001b[0;32m     52\u001b[0m \u001b[39melse\u001b[39;00m:\n\u001b[0;32m     53\u001b[0m     data \u001b[39m=\u001b[39m \u001b[39mself\u001b[39m\u001b[39m.\u001b[39mdataset[possibly_batched_index]\n",
            "File \u001b[1;32mc:\\Users\\amitk\\.conda\\envs\\langchain-llm\\lib\\site-packages\\torch\\utils\\data\\_utils\\fetch.py:51\u001b[0m, in \u001b[0;36m<listcomp>\u001b[1;34m(.0)\u001b[0m\n\u001b[0;32m     49\u001b[0m         data \u001b[39m=\u001b[39m \u001b[39mself\u001b[39m\u001b[39m.\u001b[39mdataset\u001b[39m.\u001b[39m__getitems__(possibly_batched_index)\n\u001b[0;32m     50\u001b[0m     \u001b[39melse\u001b[39;00m:\n\u001b[1;32m---> 51\u001b[0m         data \u001b[39m=\u001b[39m [\u001b[39mself\u001b[39;49m\u001b[39m.\u001b[39;49mdataset[idx] \u001b[39mfor\u001b[39;00m idx \u001b[39min\u001b[39;00m possibly_batched_index]\n\u001b[0;32m     52\u001b[0m \u001b[39melse\u001b[39;00m:\n\u001b[0;32m     53\u001b[0m     data \u001b[39m=\u001b[39m \u001b[39mself\u001b[39m\u001b[39m.\u001b[39mdataset[possibly_batched_index]\n",
            "File \u001b[1;32mc:\\Users\\amitk\\.conda\\envs\\langchain-llm\\lib\\site-packages\\torchvision\\datasets\\mnist.py:145\u001b[0m, in \u001b[0;36mMNIST.__getitem__\u001b[1;34m(self, index)\u001b[0m\n\u001b[0;32m    142\u001b[0m img \u001b[39m=\u001b[39m Image\u001b[39m.\u001b[39mfromarray(img\u001b[39m.\u001b[39mnumpy(), mode\u001b[39m=\u001b[39m\u001b[39m\"\u001b[39m\u001b[39mL\u001b[39m\u001b[39m\"\u001b[39m)\n\u001b[0;32m    144\u001b[0m \u001b[39mif\u001b[39;00m \u001b[39mself\u001b[39m\u001b[39m.\u001b[39mtransform \u001b[39mis\u001b[39;00m \u001b[39mnot\u001b[39;00m \u001b[39mNone\u001b[39;00m:\n\u001b[1;32m--> 145\u001b[0m     img \u001b[39m=\u001b[39m \u001b[39mself\u001b[39;49m\u001b[39m.\u001b[39;49mtransform(img)\n\u001b[0;32m    147\u001b[0m \u001b[39mif\u001b[39;00m \u001b[39mself\u001b[39m\u001b[39m.\u001b[39mtarget_transform \u001b[39mis\u001b[39;00m \u001b[39mnot\u001b[39;00m \u001b[39mNone\u001b[39;00m:\n\u001b[0;32m    148\u001b[0m     target \u001b[39m=\u001b[39m \u001b[39mself\u001b[39m\u001b[39m.\u001b[39mtarget_transform(target)\n",
            "File \u001b[1;32mc:\\Users\\amitk\\.conda\\envs\\langchain-llm\\lib\\site-packages\\torchvision\\transforms\\transforms.py:95\u001b[0m, in \u001b[0;36mCompose.__call__\u001b[1;34m(self, img)\u001b[0m\n\u001b[0;32m     93\u001b[0m \u001b[39mdef\u001b[39;00m \u001b[39m__call__\u001b[39m(\u001b[39mself\u001b[39m, img):\n\u001b[0;32m     94\u001b[0m     \u001b[39mfor\u001b[39;00m t \u001b[39min\u001b[39;00m \u001b[39mself\u001b[39m\u001b[39m.\u001b[39mtransforms:\n\u001b[1;32m---> 95\u001b[0m         img \u001b[39m=\u001b[39m t(img)\n\u001b[0;32m     96\u001b[0m     \u001b[39mreturn\u001b[39;00m img\n",
            "File \u001b[1;32mc:\\Users\\amitk\\.conda\\envs\\langchain-llm\\lib\\site-packages\\torchvision\\transforms\\transforms.py:137\u001b[0m, in \u001b[0;36mToTensor.__call__\u001b[1;34m(self, pic)\u001b[0m\n\u001b[0;32m    129\u001b[0m \u001b[39mdef\u001b[39;00m \u001b[39m__call__\u001b[39m(\u001b[39mself\u001b[39m, pic):\n\u001b[0;32m    130\u001b[0m \u001b[39m    \u001b[39m\u001b[39m\"\"\"\u001b[39;00m\n\u001b[0;32m    131\u001b[0m \u001b[39m    Args:\u001b[39;00m\n\u001b[0;32m    132\u001b[0m \u001b[39m        pic (PIL Image or numpy.ndarray): Image to be converted to tensor.\u001b[39;00m\n\u001b[1;32m   (...)\u001b[0m\n\u001b[0;32m    135\u001b[0m \u001b[39m        Tensor: Converted image.\u001b[39;00m\n\u001b[0;32m    136\u001b[0m \u001b[39m    \"\"\"\u001b[39;00m\n\u001b[1;32m--> 137\u001b[0m     \u001b[39mreturn\u001b[39;00m F\u001b[39m.\u001b[39;49mto_tensor(pic)\n",
            "File \u001b[1;32mc:\\Users\\amitk\\.conda\\envs\\langchain-llm\\lib\\site-packages\\torchvision\\transforms\\functional.py:166\u001b[0m, in \u001b[0;36mto_tensor\u001b[1;34m(pic)\u001b[0m\n\u001b[0;32m    164\u001b[0m \u001b[39m# handle PIL Image\u001b[39;00m\n\u001b[0;32m    165\u001b[0m mode_to_nptype \u001b[39m=\u001b[39m {\u001b[39m\"\u001b[39m\u001b[39mI\u001b[39m\u001b[39m\"\u001b[39m: np\u001b[39m.\u001b[39mint32, \u001b[39m\"\u001b[39m\u001b[39mI;16\u001b[39m\u001b[39m\"\u001b[39m: np\u001b[39m.\u001b[39mint16, \u001b[39m\"\u001b[39m\u001b[39mF\u001b[39m\u001b[39m\"\u001b[39m: np\u001b[39m.\u001b[39mfloat32}\n\u001b[1;32m--> 166\u001b[0m img \u001b[39m=\u001b[39m torch\u001b[39m.\u001b[39mfrom_numpy(np\u001b[39m.\u001b[39;49marray(pic, mode_to_nptype\u001b[39m.\u001b[39;49mget(pic\u001b[39m.\u001b[39;49mmode, np\u001b[39m.\u001b[39;49muint8), copy\u001b[39m=\u001b[39;49m\u001b[39mTrue\u001b[39;49;00m))\n\u001b[0;32m    168\u001b[0m \u001b[39mif\u001b[39;00m pic\u001b[39m.\u001b[39mmode \u001b[39m==\u001b[39m \u001b[39m\"\u001b[39m\u001b[39m1\u001b[39m\u001b[39m\"\u001b[39m:\n\u001b[0;32m    169\u001b[0m     img \u001b[39m=\u001b[39m \u001b[39m255\u001b[39m \u001b[39m*\u001b[39m img\n",
            "\u001b[1;31mKeyboardInterrupt\u001b[0m: "
          ]
        }
      ],
      "source": [
        "experiment_name='BatchNorm+L1+L2'\n",
        "norm_type='BN'\n",
        "l1_factor=0.001\n",
        "l2_factor=0.001\n",
        "(exp_metrics[experiment_name]),model = helper.experiments(train_loader, test_loader,norm_type,l1_factor,l2_factor,dropout,EPOCH)\n",
        "torch.save(model, './models/{}.pt'.format(experiment_name))"
      ]
    },
    {
      "attachments": {},
      "cell_type": "markdown",
      "metadata": {
        "id": "JT-EuDE3zXsE"
      },
      "source": [
        "## Missclassified Images for Exp6\n",
        "\n",
        "---\n",
        "\n"
      ]
    },
    {
      "cell_type": "code",
      "execution_count": null,
      "metadata": {
        "colab": {
          "base_uri": "https://localhost:8080/",
          "height": 629
        },
        "id": "VHUxG8iTzXsF",
        "outputId": "fe045dd9-59cf-4056-9119-98e5f87dd19c"
      },
      "outputs": [
        {
          "name": "stdout",
          "output_type": "stream",
          "text": [
            "Total wrong predictions are 69\n"
          ]
        },
        {
          "data": {
            "image/png": "[encoded data removed]",
            "text/plain": [
              "<Figure size 576x720 with 10 Axes>"
            ]
          },
          "metadata": {
            "needs_background": "light",
            "tags": []
          },
          "output_type": "display_data"
        }
      ],
      "source": [
        "model = torch.load(f'./models/{experiment_name}.pt')\n",
        "model.eval()\n",
        "helper.wrong_predictions(test_loader,model,device)"
      ]
    },
    {
      "attachments": {},
      "cell_type": "markdown",
      "metadata": {
        "id": "IRdtdwkzMLUR"
      },
      "source": [
        "## Exp7 : BatchNorm with no regularization"
      ]
    },
    {
      "cell_type": "code",
      "execution_count": null,
      "metadata": {
        "colab": {
          "base_uri": "https://localhost:8080/"
        },
        "id": "mh6vGb1GMLUZ",
        "outputId": "a50ac00a-340c-4101-e1fb-cd0274900bec"
      },
      "outputs": [
        {
          "name": "stderr",
          "output_type": "stream",
          "text": [
            "\r  0%|          | 0/938 [00:00<?, ?it/s]"
          ]
        },
        {
          "name": "stdout",
          "output_type": "stream",
          "text": [
            "Epoch 1:\n"
          ]
        },
        {
          "name": "stderr",
          "output_type": "stream",
          "text": [
            "Loss=0.22366976737976074 Batch_id=937 Accuracy=76.19: 100%|██████████| 938/938 [00:33<00:00, 28.14it/s]\n",
            "  0%|          | 0/938 [00:00<?, ?it/s]"
          ]
        },
        {
          "name": "stdout",
          "output_type": "stream",
          "text": [
            "\n",
            "Test set: Average loss: 0.1424, Accuracy: 9591/10000 (95.91%)\n",
            "\n",
            "Epoch 2:\n"
          ]
        },
        {
          "name": "stderr",
          "output_type": "stream",
          "text": [
            "Loss=0.14199531078338623 Batch_id=937 Accuracy=94.07: 100%|██████████| 938/938 [00:33<00:00, 28.14it/s]\n",
            "  0%|          | 0/938 [00:00<?, ?it/s]"
          ]
        },
        {
          "name": "stdout",
          "output_type": "stream",
          "text": [
            "\n",
            "Test set: Average loss: 0.0588, Accuracy: 9820/10000 (98.20%)\n",
            "\n",
            "Epoch 3:\n"
          ]
        },
        {
          "name": "stderr",
          "output_type": "stream",
          "text": [
            "Loss=0.2716907262802124 Batch_id=937 Accuracy=95.83: 100%|██████████| 938/938 [00:33<00:00, 28.10it/s]\n",
            "  0%|          | 0/938 [00:00<?, ?it/s]"
          ]
        },
        {
          "name": "stdout",
          "output_type": "stream",
          "text": [
            "\n",
            "Test set: Average loss: 0.0589, Accuracy: 9811/10000 (98.11%)\n",
            "\n",
            "Epoch 4:\n"
          ]
        },
        {
          "name": "stderr",
          "output_type": "stream",
          "text": [
            "Loss=0.0943245068192482 Batch_id=937 Accuracy=96.43: 100%|██████████| 938/938 [00:33<00:00, 28.24it/s]\n",
            "  0%|          | 0/938 [00:00<?, ?it/s]"
          ]
        },
        {
          "name": "stdout",
          "output_type": "stream",
          "text": [
            "\n",
            "Test set: Average loss: 0.0363, Accuracy: 9882/10000 (98.82%)\n",
            "\n",
            "Epoch 5:\n"
          ]
        },
        {
          "name": "stderr",
          "output_type": "stream",
          "text": [
            "Loss=0.02006485126912594 Batch_id=937 Accuracy=97.07: 100%|██████████| 938/938 [00:33<00:00, 28.24it/s]\n",
            "  0%|          | 0/938 [00:00<?, ?it/s]"
          ]
        },
        {
          "name": "stdout",
          "output_type": "stream",
          "text": [
            "\n",
            "Test set: Average loss: 0.0278, Accuracy: 9906/10000 (99.06%)\n",
            "\n",
            "Epoch 6:\n"
          ]
        },
        {
          "name": "stderr",
          "output_type": "stream",
          "text": [
            "Loss=0.15125134587287903 Batch_id=937 Accuracy=97.29: 100%|██████████| 938/938 [00:33<00:00, 28.23it/s]\n",
            "  0%|          | 0/938 [00:00<?, ?it/s]"
          ]
        },
        {
          "name": "stdout",
          "output_type": "stream",
          "text": [
            "\n",
            "Test set: Average loss: 0.0286, Accuracy: 9909/10000 (99.09%)\n",
            "\n",
            "Epoch 7:\n"
          ]
        },
        {
          "name": "stderr",
          "output_type": "stream",
          "text": [
            "Loss=0.007151847239583731 Batch_id=937 Accuracy=97.60: 100%|██████████| 938/938 [00:33<00:00, 28.35it/s]\n",
            "  0%|          | 0/938 [00:00<?, ?it/s]"
          ]
        },
        {
          "name": "stdout",
          "output_type": "stream",
          "text": [
            "\n",
            "Test set: Average loss: 0.0233, Accuracy: 9927/10000 (99.27%)\n",
            "\n",
            "Epoch 8:\n"
          ]
        },
        {
          "name": "stderr",
          "output_type": "stream",
          "text": [
            "Loss=0.20800049602985382 Batch_id=937 Accuracy=97.62: 100%|██████████| 938/938 [00:33<00:00, 28.01it/s]\n",
            "  0%|          | 0/938 [00:00<?, ?it/s]"
          ]
        },
        {
          "name": "stdout",
          "output_type": "stream",
          "text": [
            "\n",
            "Test set: Average loss: 0.0242, Accuracy: 9920/10000 (99.20%)\n",
            "\n",
            "Epoch 9:\n"
          ]
        },
        {
          "name": "stderr",
          "output_type": "stream",
          "text": [
            "Loss=0.08816096931695938 Batch_id=937 Accuracy=97.71: 100%|██████████| 938/938 [00:33<00:00, 28.22it/s]\n",
            "  0%|          | 0/938 [00:00<?, ?it/s]"
          ]
        },
        {
          "name": "stdout",
          "output_type": "stream",
          "text": [
            "\n",
            "Test set: Average loss: 0.0227, Accuracy: 9928/10000 (99.28%)\n",
            "\n",
            "Epoch 10:\n"
          ]
        },
        {
          "name": "stderr",
          "output_type": "stream",
          "text": [
            "Loss=0.04457132890820503 Batch_id=937 Accuracy=97.93: 100%|██████████| 938/938 [00:33<00:00, 28.14it/s]\n",
            "  0%|          | 0/938 [00:00<?, ?it/s]"
          ]
        },
        {
          "name": "stdout",
          "output_type": "stream",
          "text": [
            "\n",
            "Test set: Average loss: 0.0204, Accuracy: 9933/10000 (99.33%)\n",
            "\n",
            "Epoch 11:\n"
          ]
        },
        {
          "name": "stderr",
          "output_type": "stream",
          "text": [
            "Loss=0.01144468504935503 Batch_id=937 Accuracy=98.04: 100%|██████████| 938/938 [00:33<00:00, 28.30it/s]\n",
            "  0%|          | 0/938 [00:00<?, ?it/s]"
          ]
        },
        {
          "name": "stdout",
          "output_type": "stream",
          "text": [
            "\n",
            "Test set: Average loss: 0.0230, Accuracy: 9933/10000 (99.33%)\n",
            "\n",
            "Epoch 12:\n"
          ]
        },
        {
          "name": "stderr",
          "output_type": "stream",
          "text": [
            "Loss=0.051553670316934586 Batch_id=937 Accuracy=98.01: 100%|██████████| 938/938 [00:33<00:00, 28.23it/s]\n",
            "  0%|          | 0/938 [00:00<?, ?it/s]"
          ]
        },
        {
          "name": "stdout",
          "output_type": "stream",
          "text": [
            "\n",
            "Test set: Average loss: 0.0175, Accuracy: 9943/10000 (99.43%)\n",
            "\n",
            "Epoch 13:\n"
          ]
        },
        {
          "name": "stderr",
          "output_type": "stream",
          "text": [
            "Loss=0.039300549775362015 Batch_id=937 Accuracy=98.15: 100%|██████████| 938/938 [00:33<00:00, 28.26it/s]\n",
            "  0%|          | 0/938 [00:00<?, ?it/s]"
          ]
        },
        {
          "name": "stdout",
          "output_type": "stream",
          "text": [
            "\n",
            "Test set: Average loss: 0.0199, Accuracy: 9937/10000 (99.37%)\n",
            "\n",
            "Epoch 14:\n"
          ]
        },
        {
          "name": "stderr",
          "output_type": "stream",
          "text": [
            "Loss=0.007060419302433729 Batch_id=937 Accuracy=98.19: 100%|██████████| 938/938 [00:33<00:00, 28.25it/s]\n",
            "  0%|          | 0/938 [00:00<?, ?it/s]"
          ]
        },
        {
          "name": "stdout",
          "output_type": "stream",
          "text": [
            "\n",
            "Test set: Average loss: 0.0197, Accuracy: 9935/10000 (99.35%)\n",
            "\n",
            "Epoch 15:\n"
          ]
        },
        {
          "name": "stderr",
          "output_type": "stream",
          "text": [
            "Loss=0.051842063665390015 Batch_id=937 Accuracy=98.27: 100%|██████████| 938/938 [00:33<00:00, 27.95it/s]\n",
            "  0%|          | 0/938 [00:00<?, ?it/s]"
          ]
        },
        {
          "name": "stdout",
          "output_type": "stream",
          "text": [
            "\n",
            "Test set: Average loss: 0.0175, Accuracy: 9948/10000 (99.48%)\n",
            "\n",
            "Epoch 16:\n"
          ]
        },
        {
          "name": "stderr",
          "output_type": "stream",
          "text": [
            "Loss=0.11147803068161011 Batch_id=937 Accuracy=98.38: 100%|██████████| 938/938 [00:33<00:00, 28.08it/s]\n",
            "  0%|          | 0/938 [00:00<?, ?it/s]"
          ]
        },
        {
          "name": "stdout",
          "output_type": "stream",
          "text": [
            "\n",
            "Test set: Average loss: 0.0164, Accuracy: 9947/10000 (99.47%)\n",
            "\n",
            "Epoch 17:\n"
          ]
        },
        {
          "name": "stderr",
          "output_type": "stream",
          "text": [
            "Loss=0.10825525224208832 Batch_id=937 Accuracy=98.43: 100%|██████████| 938/938 [00:33<00:00, 28.07it/s]\n",
            "  0%|          | 0/938 [00:00<?, ?it/s]"
          ]
        },
        {
          "name": "stdout",
          "output_type": "stream",
          "text": [
            "\n",
            "Test set: Average loss: 0.0156, Accuracy: 9957/10000 (99.57%)\n",
            "\n",
            "Epoch 18:\n"
          ]
        },
        {
          "name": "stderr",
          "output_type": "stream",
          "text": [
            "Loss=0.04189930483698845 Batch_id=937 Accuracy=98.49: 100%|██████████| 938/938 [00:33<00:00, 27.69it/s]\n",
            "  0%|          | 0/938 [00:00<?, ?it/s]"
          ]
        },
        {
          "name": "stdout",
          "output_type": "stream",
          "text": [
            "\n",
            "Test set: Average loss: 0.0152, Accuracy: 9956/10000 (99.56%)\n",
            "\n",
            "Epoch 19:\n"
          ]
        },
        {
          "name": "stderr",
          "output_type": "stream",
          "text": [
            "Loss=0.04981797933578491 Batch_id=937 Accuracy=98.53: 100%|██████████| 938/938 [00:34<00:00, 27.12it/s]\n",
            "  0%|          | 0/938 [00:00<?, ?it/s]"
          ]
        },
        {
          "name": "stdout",
          "output_type": "stream",
          "text": [
            "\n",
            "Test set: Average loss: 0.0151, Accuracy: 9956/10000 (99.56%)\n",
            "\n",
            "Epoch 20:\n"
          ]
        },
        {
          "name": "stderr",
          "output_type": "stream",
          "text": [
            "Loss=0.018318021669983864 Batch_id=937 Accuracy=98.58: 100%|██████████| 938/938 [00:34<00:00, 27.00it/s]\n"
          ]
        },
        {
          "name": "stdout",
          "output_type": "stream",
          "text": [
            "\n",
            "Test set: Average loss: 0.0151, Accuracy: 9955/10000 (99.55%)\n",
            "\n"
          ]
        }
      ],
      "source": [
        "experiment_name='BatchNorm'\n",
        "norm_type='BN'\n",
        "l1_factor=0\n",
        "l2_factor=0\n",
        "(exp_metrics[experiment_name]),model = helper.experiments(train_loader, test_loader,norm_type,l1_factor,l2_factor,dropout,EPOCH)\n",
        "torch.save(model, './models/{}.pt'.format(experiment_name))"
      ]
    },
    {
      "attachments": {},
      "cell_type": "markdown",
      "metadata": {
        "id": "ykDCjgieMLUb"
      },
      "source": [
        "## Missclassified Images for Exp7\n",
        "\n",
        "---\n",
        "\n"
      ]
    },
    {
      "cell_type": "code",
      "execution_count": null,
      "metadata": {
        "colab": {
          "base_uri": "https://localhost:8080/",
          "height": 629
        },
        "id": "vPULlX0cMLUb",
        "outputId": "bf7955c3-e1d7-49f4-8f94-3e68cb19fd95"
      },
      "outputs": [
        {
          "name": "stdout",
          "output_type": "stream",
          "text": [
            "Total wrong predictions are 45\n"
          ]
        },
        {
          "data": {
            "image/png": "[encoded data removed]",
            "text/plain": [
              "<Figure size 576x720 with 10 Axes>"
            ]
          },
          "metadata": {
            "needs_background": "light",
            "tags": []
          },
          "output_type": "display_data"
        }
      ],
      "source": [
        "model = torch.load(f'./models/{experiment_name}.pt')\n",
        "model.eval()\n",
        "helper.wrong_predictions(test_loader,model,device)"
      ]
    },
    {
      "attachments": {},
      "cell_type": "markdown",
      "metadata": {
        "id": "vMtWYFb8N_5R"
      },
      "source": [
        "## Plot Metrics for all Experiments"
      ]
    },
    {
      "cell_type": "code",
      "execution_count": null,
      "metadata": {
        "colab": {
          "base_uri": "https://localhost:8080/",
          "height": 892
        },
        "id": "BBfOoCfiE5CJ",
        "outputId": "e9615794-2387-44f4-fec3-16d429409ccf"
      },
      "outputs": [
        {
          "data": {
            "image/png": "[encoded data removed]",
            "text/plain": [
              "<Figure size 1800x1080 with 4 Axes>"
            ]
          },
          "metadata": {
            "needs_background": "light",
            "tags": []
          },
          "output_type": "display_data"
        }
      ],
      "source": [
        "plot_metrics.plot_metrics(exp_metrics)"
      ]
    },
    {
      "cell_type": "code",
      "execution_count": null,
      "metadata": {
        "id": "SgjjY38PFzds"
      },
      "outputs": [],
      "source": []
    }
  ],
  "metadata": {
    "accelerator": "GPU",
    "colab": {
      "authorship_tag": "ABX9TyNMFFKLkQ+JP5FN9X/kuVac",
      "collapsed_sections": [],
      "include_colab_link": true,
      "mount_file_id": "1UYZnLkbs_wS9bC2Jpf7KSG3q-nyUZZ7X",
      "name": "MNIST_Normalization_and_Regularization_v1.ipynb",
      "provenance": []
    },
    "kernelspec": {
      "display_name": "Python 3",
      "name": "python3"
    },
    "language_info": {
      "codemirror_mode": {
        "name": "ipython",
        "version": 3
      },
      "file_extension": ".py",
      "mimetype": "text/x-python",
      "name": "python",
      "nbconvert_exporter": "python",
      "pygments_lexer": "ipython3",
      "version": "3.10.11"
    }
  },
  "nbformat": 4,
  "nbformat_minor": 0
}
