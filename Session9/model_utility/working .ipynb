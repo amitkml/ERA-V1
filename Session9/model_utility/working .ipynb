{
 "cells": [
  {
   "cell_type": "code",
   "execution_count": 1,
   "metadata": {},
   "outputs": [],
   "source": [
    "from IPython.core.interactiveshell import InteractiveShell\n",
    "InteractiveShell.ast_node_interactivity='all'"
   ]
  },
  {
   "cell_type": "code",
   "execution_count": 2,
   "metadata": {},
   "outputs": [],
   "source": [
    "import pandas as pd\n",
    "import numpy \n",
    "import albumentations as A\n",
    "\n",
    "import torch\n",
    "import torch.optim as optim\n",
    "from torchvision import datasets, transforms\n",
    "from torch.optim.lr_scheduler import StepLR\n",
    "from torchsummary import summary\n",
    "\n",
    "import torchvision\n",
    "import torch.nn as nn\n",
    "import torch.nn.functional as F\n",
    "import os \n",
    "import numpy as np\n",
    "import matplotlib.pyplot as plt"
   ]
  },
  {
   "cell_type": "code",
   "execution_count": 4,
   "metadata": {},
   "outputs": [],
   "source": [
    "import albumentations as A"
   ]
  },
  {
   "cell_type": "code",
   "execution_count": null,
   "metadata": {},
   "outputs": [],
   "source": [
    "A.Compose()"
   ]
  },
  {
   "cell_type": "raw",
   "metadata": {},
   "source": [
    "AlbumCompose"
   ]
  },
  {
   "cell_type": "code",
   "execution_count": null,
   "metadata": {},
   "outputs": [],
   "source": [
    "brightness_val =0.13\n",
    "cantrast_val = 0.1\n",
    "saturation_val = 0.10\n",
    "Random_rotation_val = (-7.0, 7.0) \n",
    "fill_val = (1,)\n"
   ]
  },
  {
   "cell_type": "code",
   "execution_count": null,
   "metadata": {},
   "outputs": [],
   "source": [
    "input_size = 32"
   ]
  },
  {
   "cell_type": "code",
   "execution_count": null,
   "metadata": {},
   "outputs": [],
   "source": [
    "path = os.getcwd()"
   ]
  },
  {
   "cell_type": "code",
   "execution_count": null,
   "metadata": {},
   "outputs": [],
   "source": [
    "def get_dataset(train_transforms, test_transforms,path):\n",
    "    trainset = datasets.CIFAR10(path, train=True, download=True, transform=data_transforms)\n",
    "    testset = datasets.CIFAR10(path, train=False, download=True, transform=data_transforms)\n",
    "    return trainset, testset\n",
    "\n",
    "def find_stats():\n",
    "    mean = []\n",
    "    stdev = []\n",
    "    data_transforms = A.Compose([transforms.ToTensor()])\n",
    "    trainset,testset = get_dataset(data_transforms,data_transforms,path)\n",
    "    data = np.concatenate([trainset.data,testset.data],axis = 0,out = None)\n",
    "    data = data.astype(np.float32)/255\n",
    "    for i in range(data.shape[3]):\n",
    "        tmp = data[:,:,:,i].ravel()\n",
    "        print('mean',tmp.mean())\n",
    "        print('standard dev',tmp.std())\n",
    "        mean.append(tmp.mean())\n",
    "#         mean = [i*255 for i in mean]\n",
    "        stdev.append(tmp.std())\n",
    "    return mean,stdev"
   ]
  },
  {
   "cell_type": "code",
   "execution_count": null,
   "metadata": {},
   "outputs": [],
   "source": []
  },
  {
   "cell_type": "code",
   "execution_count": null,
   "metadata": {},
   "outputs": [],
   "source": [
    "trainset = datasets.CIFAR10(path, train=True, download=True, transform=data_transforms)\n",
    "testset = datasets.CIFAR10(path, train=False, download=True, transform=data_transforms)"
   ]
  },
  {
   "cell_type": "code",
   "execution_count": null,
   "metadata": {},
   "outputs": [],
   "source": [
    "trainset.data[5,:,:,:]"
   ]
  },
  {
   "cell_type": "code",
   "execution_count": null,
   "metadata": {},
   "outputs": [],
   "source": [
    "from skimage import io"
   ]
  },
  {
   "cell_type": "code",
   "execution_count": null,
   "metadata": {},
   "outputs": [],
   "source": [
    "type(trainset.data)\n",
    "\n",
    "io.imshow(trainset.data[1,:,:,:])"
   ]
  },
  {
   "cell_type": "code",
   "execution_count": null,
   "metadata": {},
   "outputs": [],
   "source": [
    "data_transforms = A.Compose([transforms.ToTensor()])\n",
    "trainset,testset = get_dataset(data_transforms,data_transforms,path)\n",
    "data = np.concatenate([trainset.data,testset.data],axis = 0,out = None)"
   ]
  },
  {
   "cell_type": "code",
   "execution_count": null,
   "metadata": {},
   "outputs": [],
   "source": [
    "data = data.astype(np.float32)/255"
   ]
  },
  {
   "cell_type": "code",
   "execution_count": null,
   "metadata": {},
   "outputs": [],
   "source": [
    "io.imshow(data[1,:,:,:])"
   ]
  },
  {
   "cell_type": "code",
   "execution_count": null,
   "metadata": {},
   "outputs": [],
   "source": [
    "data.shape[3]"
   ]
  },
  {
   "cell_type": "code",
   "execution_count": null,
   "metadata": {},
   "outputs": [],
   "source": [
    "path =os.getcwd()"
   ]
  },
  {
   "cell_type": "code",
   "execution_count": null,
   "metadata": {},
   "outputs": [],
   "source": [
    "mean = []\n",
    "stdev = []\n",
    "for i in range(data.shape[3]):\n",
    "    tmp = data[:,:,:,1].ravel()\n",
    "    print('mean',tmp.mean())\n",
    "    print('standard dev',tmp.std())\n",
    "    mean.append(tmp.mean())\n",
    "    stdev.append(tmp.std())"
   ]
  },
  {
   "cell_type": "code",
   "execution_count": null,
   "metadata": {},
   "outputs": [],
   "source": []
  },
  {
   "cell_type": "code",
   "execution_count": null,
   "metadata": {},
   "outputs": [],
   "source": []
  },
  {
   "cell_type": "code",
   "execution_count": null,
   "metadata": {},
   "outputs": [],
   "source": [
    "mean = []\n",
    "stdev = []\n",
    "data_transforms = A.Compose([transforms.ToTensor()])\n",
    "trainset,testset = get_dataset(data_transforms,data_transforms,path)\n",
    "data = np.concatenate([trainset.data,testset.data],axis = 0,out = None)\n",
    "data = data.astype(np.float32)/255\n",
    "for i in range(data.shape[3]):\n",
    "    tmp = data[:,:,:,i].ravel()\n",
    "    print('mean',tmp.mean())\n",
    "    print('standard dev',tmp.std())\n",
    "    mean.append(tmp.mean())\n",
    "#         mean = [i*255 for i in mean]\n",
    "    stdev.append(tmp.std())"
   ]
  },
  {
   "cell_type": "code",
   "execution_count": null,
   "metadata": {},
   "outputs": [],
   "source": [
    "def get_dataset(train_transforms, test_transforms,path):\n",
    "    trainset = datasets.CIFAR10(path, train=True, download=True, transform=data_transforms)\n",
    "    testset = datasets.CIFAR10(path, train=False, download=True, transform=data_transforms)\n",
    "    return trainset, testset\n",
    "\n",
    "def find_stats():\n",
    "    mean = []\n",
    "    stdev = []\n",
    "    data_transforms = A.Compose([transforms.ToTensor()])\n",
    "    trainset,testset = get_dataset(data_transforms,data_transforms,path)\n",
    "    data = np.concatenate([trainset.data,testset.data],axis = 0,out = None)\n",
    "    data = data.astype(np.float32)/255\n",
    "    for i in range(data.shape[3]):\n",
    "        tmp = data[:,:,:,i].ravel()\n",
    "        print('mean',tmp.mean())\n",
    "        print('standard dev',tmp.std())\n",
    "        mean.append(tmp.mean())\n",
    "#         mean = [i*255 for i in mean]\n",
    "        stdev.append(tmp.std())\n",
    "    return mean,stdev"
   ]
  },
  {
   "cell_type": "code",
   "execution_count": null,
   "metadata": {},
   "outputs": [],
   "source": [
    "mean,stdev = find_stats()"
   ]
  },
  {
   "cell_type": "code",
   "execution_count": null,
   "metadata": {},
   "outputs": [],
   "source": [
    "[i*255 for i in mean]"
   ]
  },
  {
   "cell_type": "code",
   "execution_count": null,
   "metadata": {},
   "outputs": [],
   "source": [
    "mean"
   ]
  },
  {
   "cell_type": "code",
   "execution_count": null,
   "metadata": {},
   "outputs": [],
   "source": [
    "stdev"
   ]
  },
  {
   "cell_type": "code",
   "execution_count": null,
   "metadata": {},
   "outputs": [],
   "source": [
    "train_albumentation_transform = A.Compose(\n",
    "    [\n",
    "    A.Cutout(num_holes=8,max_h_size=8,max_w_size=8,fill_value=0,always_apply=False,p=0.5,),\n",
    "    A.RandomCrop(height=7,width=7,p=0.005,always_apply=False),\n",
    "    A.HorizontalFlip(p = 0.005,always_apply=False),\n",
    "    A.ElasticTransform(alpha=1,sigma=50,alpha_affine=50,interpolation=1,border_mode=4,value=None,mask_value=None,always_apply=False,approximate=False,p=0.5),\n",
    "    A.CoarseDropout(max_holes=8,max_height=8,max_width=8,min_holes=None,min_height=None,min_width=None,fill_value=0,always_apply=False,p=0.5,),\n",
    "    A.Normalize(mean=tuple(mean),std=tuple(stdev), max_pixel_value=1,always_apply=False, p=1.0,),\n",
    "    A.Resize(input_size,input_size)\n",
    "    ]\n",
    ")"
   ]
  },
  {
   "cell_type": "code",
   "execution_count": null,
   "metadata": {},
   "outputs": [],
   "source": [
    "ain_transforms = A.Compose([\n",
    "        A.RandomRotate90(),\n",
    "        A.Flip(),\n",
    "        A.Transpose(),\n",
    "        A.OneOf([\n",
    "            A.IAAAdditiveGaussianNoise(),\n",
    "            A.GaussNoise(),\n",
    "        ], p=0.2),\n",
    "        A.OneOf([\n",
    "            A.MotionBlur(p=.2),\n",
    "            A.MedianBlur(blur_limit=3, p=0.1),\n",
    "            A.Blur(blur_limit=3, p=0.1),\n",
    "        ], p=0.2),\n",
    "        A.ShiftScaleRotate(shift_limit=0.0625, scale_limit=0, rotate_limit=45, p=0.2),\n",
    "        A.OneOf([\n",
    "            A.OpticalDistortion(p=0.3),\n",
    "            A.GridDistortion(p=.1),\n",
    "            A.IAAPiecewiseAffine(p=0.3),\n",
    "        ], p=0.2),\n",
    "        A.OneOf([\n",
    "            A.CLAHE(clip_limit=2),\n",
    "            A.IAASharpen(),\n",
    "            A.IAAEmboss(),\n",
    "            A.RandomBrightnessContrast(),            \n",
    "        ], p=0.3),\n",
    "        A.HueSaturationValue(p=0.3),\n",
    "#         A.augmentations.transforms.CoarseDropout (max_holes=1, max_height=8, max_width=8, min_holes=None, min_height=None, min_width=None, fill_value=0, always_apply=False, p=0.5),\n",
    "        transforms.ToTensor(),\n",
    "        transforms.Normalize((0.4914, 0.4822, 0.4465), (0.2023, 0.1994, 0.2010))\n",
    "#     ])"
   ]
  }
 ],
 "metadata": {
  "kernelspec": {
   "display_name": "Python 3",
   "language": "python",
   "name": "python3"
  },
  "language_info": {
   "codemirror_mode": {
    "name": "ipython",
    "version": 3
   },
   "file_extension": ".py",
   "mimetype": "text/x-python",
   "name": "python",
   "nbconvert_exporter": "python",
   "pygments_lexer": "ipython3",
   "version": "3.8.5"
  }
 },
 "nbformat": 4,
 "nbformat_minor": 4
}
