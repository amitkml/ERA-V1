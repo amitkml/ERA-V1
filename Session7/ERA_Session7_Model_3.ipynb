{
  "cells": [
    {
      "cell_type": "markdown",
      "metadata": {
        "id": "uIrbfPnDOWc4"
      },
      "source": [
        "# Import libraries"
      ]
    },
    {
      "cell_type": "code",
      "source": [
        "!git clone https://github.com/amitkml/ERA-V1"
      ],
      "metadata": {
        "colab": {
          "base_uri": "https://localhost:8080/"
        },
        "id": "3HmmCXXaYe93",
        "outputId": "73fdf921-6174-4b2b-8bb5-30a1d95efe16"
      },
      "execution_count": null,
      "outputs": [
        {
          "output_type": "stream",
          "name": "stdout",
          "text": [
            "Cloning into 'ERA-V1'...\n",
            "remote: Enumerating objects: 98, done.\u001b[K\n",
            "remote: Counting objects: 100% (72/72), done.\u001b[K\n",
            "remote: Compressing objects: 100% (62/62), done.\u001b[K\n",
            "remote: Total 98 (delta 7), reused 69 (delta 5), pack-reused 26\u001b[K\n",
            "Unpacking objects: 100% (98/98), 85.55 MiB | 10.23 MiB/s, done.\n",
            "Updating files: 100% (81/81), done.\n"
          ]
        }
      ]
    },
    {
      "cell_type": "code",
      "source": [
        "import os"
      ],
      "metadata": {
        "id": "M4YKx4YkYrQd"
      },
      "execution_count": null,
      "outputs": []
    },
    {
      "cell_type": "code",
      "source": [
        "os.chdir(\"/content/ERA-V1/Session7\")"
      ],
      "metadata": {
        "id": "3vEXW2KWYuDx"
      },
      "execution_count": null,
      "outputs": []
    },
    {
      "cell_type": "code",
      "source": [
        "!pwd"
      ],
      "metadata": {
        "colab": {
          "base_uri": "https://localhost:8080/"
        },
        "id": "Epy_yFRWY6cg",
        "outputId": "6d626336-2d82-4938-9e76-1d3acbef75d6"
      },
      "execution_count": null,
      "outputs": [
        {
          "output_type": "stream",
          "name": "stdout",
          "text": [
            "/content/ERA-V1/Session7\n"
          ]
        }
      ]
    },
    {
      "cell_type": "code",
      "execution_count": null,
      "metadata": {
        "colab": {
          "base_uri": "https://localhost:8080/"
        },
        "id": "CHZm8-_t-baq",
        "outputId": "50d009bf-6306-4585-d530-0977a29f119b"
      },
      "outputs": [
        {
          "output_type": "stream",
          "name": "stdout",
          "text": [
            "Looking in indexes: https://pypi.org/simple, https://us-python.pkg.dev/colab-wheels/public/simple/\n",
            "Requirement already satisfied: torchsummary in /usr/local/lib/python3.10/dist-packages (1.5.1)\n"
          ]
        }
      ],
      "source": [
        "from __future__ import print_function\n",
        "# BASE_DIR='/content/drive/MyDrive/regularization'\n",
        "# %cd $BASE_DIR\n",
        "from utils import train, test, model,plot_metrics,helper,data_loader\n",
        "import torch\n",
        "\n",
        "# Let's visualize some of the images\n",
        "%matplotlib inline\n",
        "import matplotlib.pyplot as plt\n",
        "# import torchsummary\n",
        "\n",
        "!pip install torchsummary"
      ]
    },
    {
      "cell_type": "code",
      "execution_count": null,
      "metadata": {
        "colab": {
          "base_uri": "https://localhost:8080/",
          "height": 196
        },
        "id": "T0OIeFkQ3QPY",
        "outputId": "042fb492-835d-4d65-b085-988ad5225c42"
      },
      "outputs": [
        {
          "output_type": "stream",
          "name": "stdout",
          "text": [
            "Looking in indexes: https://pypi.org/simple, https://us-python.pkg.dev/colab-wheels/public/simple/\n",
            "Collecting torch-summary\n",
            "  Downloading torch_summary-1.4.5-py3-none-any.whl (16 kB)\n",
            "Installing collected packages: torch-summary\n",
            "Successfully installed torch-summary-1.4.5\n"
          ]
        },
        {
          "output_type": "display_data",
          "data": {
            "application/vnd.colab-display-data+json": {
              "pip_warning": {
                "packages": [
                  "torchsummary"
                ]
              }
            }
          },
          "metadata": {}
        }
      ],
      "source": [
        "!pip install torch-summary"
      ]
    },
    {
      "cell_type": "code",
      "execution_count": null,
      "metadata": {
        "id": "rsWhPeTu3QPZ"
      },
      "outputs": [],
      "source": [
        "from torchsummary import summary\n"
      ]
    },
    {
      "cell_type": "markdown",
      "metadata": {
        "id": "Z4X8_v_ZOc30"
      },
      "source": [
        "## Set the seed for reproducibility"
      ]
    },
    {
      "cell_type": "code",
      "execution_count": null,
      "metadata": {
        "id": "XzDipZkuCpwd"
      },
      "outputs": [],
      "source": [
        "# Set Seed for reproducibility\n",
        "SEED = 1\n",
        "torch.manual_seed(SEED)\n",
        "\n",
        "cuda = torch.cuda.is_available()\n",
        "if cuda:\n",
        "    torch.cuda.manual_seed(SEED)\n",
        "\n",
        "device = torch.device(\"cuda\" if cuda else \"cpu\")\n"
      ]
    },
    {
      "cell_type": "markdown",
      "metadata": {
        "id": "w03O_mLoOkjK"
      },
      "source": [
        "## Download data"
      ]
    },
    {
      "cell_type": "code",
      "execution_count": null,
      "metadata": {
        "id": "b1wNOWH5AHeo",
        "colab": {
          "base_uri": "https://localhost:8080/"
        },
        "outputId": "4201bf3c-8174-4a4a-d1c2-e1c78c56a54e"
      },
      "outputs": [
        {
          "output_type": "stream",
          "name": "stdout",
          "text": [
            "Downloading http://yann.lecun.com/exdb/mnist/train-images-idx3-ubyte.gz\n",
            "Downloading http://yann.lecun.com/exdb/mnist/train-images-idx3-ubyte.gz to ./data/MNIST/raw/train-images-idx3-ubyte.gz\n"
          ]
        },
        {
          "output_type": "stream",
          "name": "stderr",
          "text": [
            "100%|██████████| 9912422/9912422 [00:00<00:00, 63358485.16it/s]\n"
          ]
        },
        {
          "output_type": "stream",
          "name": "stdout",
          "text": [
            "Extracting ./data/MNIST/raw/train-images-idx3-ubyte.gz to ./data/MNIST/raw\n",
            "\n",
            "Downloading http://yann.lecun.com/exdb/mnist/train-labels-idx1-ubyte.gz\n",
            "Downloading http://yann.lecun.com/exdb/mnist/train-labels-idx1-ubyte.gz to ./data/MNIST/raw/train-labels-idx1-ubyte.gz\n"
          ]
        },
        {
          "output_type": "stream",
          "name": "stderr",
          "text": [
            "100%|██████████| 28881/28881 [00:00<00:00, 116926345.39it/s]"
          ]
        },
        {
          "output_type": "stream",
          "name": "stdout",
          "text": [
            "Extracting ./data/MNIST/raw/train-labels-idx1-ubyte.gz to ./data/MNIST/raw\n",
            "\n",
            "Downloading http://yann.lecun.com/exdb/mnist/t10k-images-idx3-ubyte.gz\n",
            "Downloading http://yann.lecun.com/exdb/mnist/t10k-images-idx3-ubyte.gz to ./data/MNIST/raw/t10k-images-idx3-ubyte.gz\n"
          ]
        },
        {
          "output_type": "stream",
          "name": "stderr",
          "text": [
            "\n",
            "100%|██████████| 1648877/1648877 [00:00<00:00, 67690040.10it/s]\n"
          ]
        },
        {
          "output_type": "stream",
          "name": "stdout",
          "text": [
            "Extracting ./data/MNIST/raw/t10k-images-idx3-ubyte.gz to ./data/MNIST/raw\n",
            "\n",
            "Downloading http://yann.lecun.com/exdb/mnist/t10k-labels-idx1-ubyte.gz\n",
            "Downloading http://yann.lecun.com/exdb/mnist/t10k-labels-idx1-ubyte.gz to ./data/MNIST/raw/t10k-labels-idx1-ubyte.gz\n"
          ]
        },
        {
          "output_type": "stream",
          "name": "stderr",
          "text": [
            "100%|██████████| 4542/4542 [00:00<00:00, 22924824.03it/s]\n"
          ]
        },
        {
          "output_type": "stream",
          "name": "stdout",
          "text": [
            "Extracting ./data/MNIST/raw/t10k-labels-idx1-ubyte.gz to ./data/MNIST/raw\n",
            "\n"
          ]
        }
      ],
      "source": [
        "train_transforms, test_transforms = data_loader.data_augmentation()\n",
        "train,test = data_loader.download_mnist_data(train_transforms, test_transforms)"
      ]
    },
    {
      "cell_type": "markdown",
      "metadata": {
        "id": "KASYo-OiOnXt"
      },
      "source": [
        "## Dataloader"
      ]
    },
    {
      "cell_type": "code",
      "source": [
        "import torch\n",
        "import torch.optim as optim\n",
        "import matplotlib.pyplot as plt\n",
        "from torch.optim.lr_scheduler import StepLR,OneCycleLR\n",
        "from utils import train as trn\n",
        "from utils import test as tst"
      ],
      "metadata": {
        "id": "TTFcpKBR-xLp"
      },
      "execution_count": null,
      "outputs": []
    },
    {
      "cell_type": "code",
      "execution_count": null,
      "metadata": {
        "id": "vpKauEMEMeb4"
      },
      "outputs": [],
      "source": [
        "BATCH_SIZE_GPU = 64\n",
        "BATCH_SIZE_CPU = 64\n",
        "\n",
        "dataloader_args = dict(shuffle=True, batch_size=BATCH_SIZE_GPU, num_workers=1, pin_memory=True) if cuda else dict(shuffle=True, batch_size=BATCH_SIZE_CPU)\n",
        "train_loader, test_loader = data_loader.dataloader(train, test,dataloader_args)"
      ]
    },
    {
      "cell_type": "markdown",
      "metadata": {
        "id": "eBQM8xBKND6S"
      },
      "source": [
        "## Variable Initialization"
      ]
    },
    {
      "cell_type": "code",
      "execution_count": null,
      "metadata": {
        "id": "o3mdsKJpM8Ji"
      },
      "outputs": [],
      "source": [
        "exp_metrics={}\n",
        "EPOCH=15\n",
        "dropout=0.03"
      ]
    },
    {
      "cell_type": "markdown",
      "source": [
        "## Exp -3"
      ],
      "metadata": {
        "id": "qhDJMV4bmtfo"
      }
    },
    {
      "cell_type": "markdown",
      "source": [],
      "metadata": {
        "id": "IOI3CXI_xTzO"
      }
    },
    {
      "cell_type": "code",
      "source": [
        "import torch\n",
        "import torch.nn as nn\n",
        "import torch.nn.functional as F\n",
        "from collections import OrderedDict\n",
        "\n",
        "\n",
        "\n",
        "class NetXX(nn.Module):\n",
        "    def __init__(self,norm_type='BN',dropout_value = 0.01):\n",
        "        super(NetXX, self).__init__()\n",
        "        self.conv1 = self.conv2d(1, 8, 3,norm_type,dropout_value,2)\n",
        "        self.conv2 = self.conv2d(8, 16, 3,norm_type,dropout_value,4)\n",
        "\n",
        "        #Transition Block\n",
        "        self.trans1 = nn.Sequential(\n",
        "\n",
        "            nn.MaxPool2d(2, 2), #  Input 24x24 output 12x12 RF : 6x6\n",
        "            nn.Conv2d(in_channels=16, out_channels=8, kernel_size=(1, 1), padding=0, bias=False)  # Input 12x12 output 12x12 RF : 6x6\n",
        "        )\n",
        "\n",
        "        self.conv3 = self.conv2d(8, 16, 3,norm_type,dropout_value,4) ## op: 10x10\n",
        "        # self.conv4 = self.conv2d(16, 16, 3,norm_type,dropout_value,4) ## op 8x8\n",
        "        self.trans2 = nn.Sequential(\n",
        "\n",
        "            nn.MaxPool2d(2, 2), #  Input 10x10 output 5x5\n",
        "            nn.Conv2d(in_channels=16, out_channels=8, kernel_size=(1, 1), padding=0, bias=False)  # Input 5x5 , op: 5x5\n",
        "        )\n",
        "        # self.conv5 = self.conv2d(16, 16, 3,norm_type,dropout_value,4)\n",
        "        self.avgpool2d = nn.AvgPool2d(kernel_size=5)\n",
        "        self.conv6 =  self.conv2d_last(8, 16, 1,norm_type,dropout_value,4)\n",
        "        self.conv7 = nn.Conv2d(in_channels=16, out_channels=10, kernel_size=(1, 1), padding=0, bias=False)\n",
        "    def conv2d_last(self, in_channels, out_channels, kernel_size, norm_type, dropout,num_of_groups):\n",
        "            conv = nn.Sequential(OrderedDict([\n",
        "                ('conv2d',nn.Conv2d(in_channels=in_channels, out_channels=out_channels, kernel_size=kernel_size, padding=0, bias=False)),\n",
        "                # ('Relu', nn.ReLU()),\n",
        "                ('GroupNorm',nn.GroupNorm(num_of_groups,out_channels)),\n",
        "                # ('Dropout',nn.Dropout(dropout))\n",
        "            ]))\n",
        "            return conv\n",
        "\n",
        "    def conv2d(self, in_channels, out_channels, kernel_size, norm_type, dropout,num_of_groups):\n",
        "        if norm_type == \"BN\":\n",
        "         conv = nn.Sequential(OrderedDict([\n",
        "                ('conv2d', nn.Conv2d(in_channels=in_channels, out_channels=out_channels, kernel_size=kernel_size,padding=0, bias=False)),\n",
        "                ('Relu', nn.ReLU()),\n",
        "                ('BatchNorm',nn.BatchNorm2d(out_channels)),\n",
        "                ('Dropout', nn.Dropout(dropout))\n",
        "         ]))\n",
        "        elif norm_type == \"LN\":\n",
        "            conv = nn.Sequential(OrderedDict([\n",
        "                ('conv2d',nn.Conv2d(in_channels=in_channels, out_channels=out_channels, kernel_size=kernel_size, padding=0, bias=False)),\n",
        "                ('Relu', nn.ReLU()),\n",
        "                ## When number of groups is 1, its layernorm\n",
        "                ('LayerNorm',nn.GroupNorm(1,out_channels)),\n",
        "                ('Dropout',nn.Dropout(dropout))\n",
        "            ]))\n",
        "        elif norm_type == \"GN\":\n",
        "            conv = nn.Sequential(OrderedDict([\n",
        "                ('conv2d',nn.Conv2d(in_channels=in_channels, out_channels=out_channels, kernel_size=kernel_size, padding=0, bias=False)),\n",
        "                ('Relu', nn.ReLU()),\n",
        "                ('GroupNorm',nn.GroupNorm(num_of_groups,out_channels)),\n",
        "                ('Dropout',nn.Dropout(dropout))\n",
        "            ]))\n",
        "        else:\n",
        "            conv = nn.Sequential(\n",
        "                nn.Conv2d(in_channels=in_channels, out_channels=out_channels, kernel_size=kernel_size, padding=0, bias=False),\n",
        "                nn.ReLU(),\n",
        "                nn.Dropout(dropout)\n",
        "            )\n",
        "\n",
        "        return conv\n",
        "\n",
        "    def forward(self, x):\n",
        "        x = self.conv1(x)\n",
        "        x = self.conv2(x)\n",
        "        x = self.trans1(x)\n",
        "        x = self.conv3(x)\n",
        "        # x = self.conv4(x)\n",
        "        x = self.trans1(x)\n",
        "        # x = self.conv5(x)\n",
        "        x = self.avgpool2d(x)\n",
        "        x = self.conv6(x)\n",
        "        x = self.conv7(x)\n",
        "\n",
        "        x = x.view(-1, 10)\n",
        "        return F.log_softmax(x, dim=-1)"
      ],
      "metadata": {
        "id": "ifWudvOymvHf"
      },
      "execution_count": null,
      "outputs": []
    },
    {
      "cell_type": "code",
      "source": [
        "def experimentsXX(train_loader, test_loader, norm_type, l1_factor, l2_factor, dropout, epochs):\n",
        "\n",
        "    train_losses = []\n",
        "    test_losses = []\n",
        "    train_accuracy = []\n",
        "    test_accuracy = []\n",
        "\n",
        "    use_cuda = torch.cuda.is_available()\n",
        "    device = torch.device(\"cuda\" if use_cuda else \"cpu\")\n",
        "\n",
        "    model = NetXX(norm_type, dropout).to(device)\n",
        "    optimizer = optim.SGD(model.parameters(), lr=0.02, momentum=0.95,weight_decay=l2_factor)\n",
        "    scheduler = OneCycleLR(optimizer, max_lr=0.02,epochs=epochs,steps_per_epoch=len(train_loader))\n",
        "    epochs = epochs\n",
        "\n",
        "    for epoch in range(1, epochs + 1):\n",
        "        print(f'Epoch {epoch}:')\n",
        "        trn.train(model, device, train_loader, optimizer, epoch, train_accuracy, train_losses, l1_factor,scheduler)\n",
        "        tst.test(model, device, test_loader,test_accuracy,test_losses)\n",
        "\n",
        "    return (train_accuracy,train_losses,test_accuracy,test_losses),model"
      ],
      "metadata": {
        "id": "3ORfKlGpm4he"
      },
      "execution_count": null,
      "outputs": []
    },
    {
      "cell_type": "code",
      "source": [
        "experiment_name='LayerNorm_xx'\n",
        "norm_type='LN'\n",
        "l1_factor=0\n",
        "l2_factor=0"
      ],
      "metadata": {
        "id": "UenYW6d6m9El"
      },
      "execution_count": null,
      "outputs": []
    },
    {
      "cell_type": "code",
      "source": [],
      "metadata": {
        "id": "m0qAoVnnxwDL"
      },
      "execution_count": null,
      "outputs": []
    },
    {
      "cell_type": "code",
      "source": [
        "(exp_metrics[experiment_name]), modelx  = experimentsXX(train_loader, test_loader,'LN',l1_factor,l2_factor,dropout,EPOCH)"
      ],
      "metadata": {
        "colab": {
          "base_uri": "https://localhost:8080/"
        },
        "id": "omFLNma5nsXV",
        "outputId": "57d8e330-cb0e-45ca-e019-72e5b3631668"
      },
      "execution_count": null,
      "outputs": [
        {
          "output_type": "stream",
          "name": "stdout",
          "text": [
            "Epoch 1:\n"
          ]
        },
        {
          "output_type": "stream",
          "name": "stderr",
          "text": [
            "Loss=0.6980378031730652 Batch_id=937 Accuracy=55.95: 100%|██████████| 938/938 [01:21<00:00, 11.54it/s]\n"
          ]
        },
        {
          "output_type": "stream",
          "name": "stdout",
          "text": [
            "\n",
            "Test set: Average loss: 0.5166, Accuracy: 8322/10000 (83.22%)\n",
            "\n",
            "Epoch 2:\n"
          ]
        },
        {
          "output_type": "stream",
          "name": "stderr",
          "text": [
            "Loss=0.45859527587890625 Batch_id=937 Accuracy=83.18: 100%|██████████| 938/938 [01:15<00:00, 12.46it/s]\n"
          ]
        },
        {
          "output_type": "stream",
          "name": "stdout",
          "text": [
            "\n",
            "Test set: Average loss: 0.3070, Accuracy: 9004/10000 (90.04%)\n",
            "\n",
            "Epoch 3:\n"
          ]
        },
        {
          "output_type": "stream",
          "name": "stderr",
          "text": [
            "Loss=0.1699361354112625 Batch_id=937 Accuracy=88.63: 100%|██████████| 938/938 [01:15<00:00, 12.37it/s]\n"
          ]
        },
        {
          "output_type": "stream",
          "name": "stdout",
          "text": [
            "\n",
            "Test set: Average loss: 0.1704, Accuracy: 9496/10000 (94.96%)\n",
            "\n",
            "Epoch 4:\n"
          ]
        },
        {
          "output_type": "stream",
          "name": "stderr",
          "text": [
            "Loss=0.22669833898544312 Batch_id=937 Accuracy=90.87: 100%|██████████| 938/938 [01:19<00:00, 11.82it/s]\n"
          ]
        },
        {
          "output_type": "stream",
          "name": "stdout",
          "text": [
            "\n",
            "Test set: Average loss: 0.1280, Accuracy: 9608/10000 (96.08%)\n",
            "\n",
            "Epoch 5:\n"
          ]
        },
        {
          "output_type": "stream",
          "name": "stderr",
          "text": [
            "Loss=0.3496478199958801 Batch_id=937 Accuracy=92.03: 100%|██████████| 938/938 [01:11<00:00, 13.03it/s]\n"
          ]
        },
        {
          "output_type": "stream",
          "name": "stdout",
          "text": [
            "\n",
            "Test set: Average loss: 0.1425, Accuracy: 9594/10000 (95.94%)\n",
            "\n",
            "Epoch 6:\n"
          ]
        },
        {
          "output_type": "stream",
          "name": "stderr",
          "text": [
            "Loss=0.39692482352256775 Batch_id=937 Accuracy=92.89: 100%|██████████| 938/938 [01:11<00:00, 13.15it/s]\n"
          ]
        },
        {
          "output_type": "stream",
          "name": "stdout",
          "text": [
            "\n",
            "Test set: Average loss: 0.2241, Accuracy: 9291/10000 (92.91%)\n",
            "\n",
            "Epoch 7:\n"
          ]
        },
        {
          "output_type": "stream",
          "name": "stderr",
          "text": [
            "Loss=0.17821906507015228 Batch_id=937 Accuracy=93.29: 100%|██████████| 938/938 [01:12<00:00, 13.01it/s]\n"
          ]
        },
        {
          "output_type": "stream",
          "name": "stdout",
          "text": [
            "\n",
            "Test set: Average loss: 0.1027, Accuracy: 9689/10000 (96.89%)\n",
            "\n",
            "Epoch 8:\n"
          ]
        },
        {
          "output_type": "stream",
          "name": "stderr",
          "text": [
            "Loss=0.17407023906707764 Batch_id=937 Accuracy=93.69: 100%|██████████| 938/938 [01:15<00:00, 12.35it/s]\n"
          ]
        },
        {
          "output_type": "stream",
          "name": "stdout",
          "text": [
            "\n",
            "Test set: Average loss: 0.1425, Accuracy: 9546/10000 (95.46%)\n",
            "\n",
            "Epoch 9:\n"
          ]
        },
        {
          "output_type": "stream",
          "name": "stderr",
          "text": [
            "Loss=0.08638418465852737 Batch_id=937 Accuracy=94.15: 100%|██████████| 938/938 [01:18<00:00, 12.00it/s]\n"
          ]
        },
        {
          "output_type": "stream",
          "name": "stdout",
          "text": [
            "\n",
            "Test set: Average loss: 0.1040, Accuracy: 9695/10000 (96.95%)\n",
            "\n",
            "Epoch 10:\n"
          ]
        },
        {
          "output_type": "stream",
          "name": "stderr",
          "text": [
            "Loss=0.060287319123744965 Batch_id=937 Accuracy=94.30: 100%|██████████| 938/938 [01:16<00:00, 12.25it/s]\n"
          ]
        },
        {
          "output_type": "stream",
          "name": "stdout",
          "text": [
            "\n",
            "Test set: Average loss: 0.0949, Accuracy: 9699/10000 (96.99%)\n",
            "\n",
            "Epoch 11:\n"
          ]
        },
        {
          "output_type": "stream",
          "name": "stderr",
          "text": [
            "Loss=0.1552901566028595 Batch_id=937 Accuracy=94.78: 100%|██████████| 938/938 [01:20<00:00, 11.63it/s]\n"
          ]
        },
        {
          "output_type": "stream",
          "name": "stdout",
          "text": [
            "\n",
            "Test set: Average loss: 0.0957, Accuracy: 9716/10000 (97.16%)\n",
            "\n",
            "Epoch 12:\n"
          ]
        },
        {
          "output_type": "stream",
          "name": "stderr",
          "text": [
            "Loss=0.029804959893226624 Batch_id=937 Accuracy=94.93: 100%|██████████| 938/938 [01:16<00:00, 12.23it/s]\n"
          ]
        },
        {
          "output_type": "stream",
          "name": "stdout",
          "text": [
            "\n",
            "Test set: Average loss: 0.0937, Accuracy: 9710/10000 (97.10%)\n",
            "\n",
            "Epoch 13:\n"
          ]
        },
        {
          "output_type": "stream",
          "name": "stderr",
          "text": [
            "Loss=0.19966360926628113 Batch_id=937 Accuracy=95.09: 100%|██████████| 938/938 [01:11<00:00, 13.15it/s]\n"
          ]
        },
        {
          "output_type": "stream",
          "name": "stdout",
          "text": [
            "\n",
            "Test set: Average loss: 0.0968, Accuracy: 9703/10000 (97.03%)\n",
            "\n",
            "Epoch 14:\n"
          ]
        },
        {
          "output_type": "stream",
          "name": "stderr",
          "text": [
            "Loss=0.02186168171465397 Batch_id=937 Accuracy=95.53: 100%|██████████| 938/938 [01:11<00:00, 13.12it/s]\n"
          ]
        },
        {
          "output_type": "stream",
          "name": "stdout",
          "text": [
            "\n",
            "Test set: Average loss: 0.0838, Accuracy: 9738/10000 (97.38%)\n",
            "\n",
            "Epoch 15:\n"
          ]
        },
        {
          "output_type": "stream",
          "name": "stderr",
          "text": [
            "Loss=0.16425412893295288 Batch_id=937 Accuracy=95.64: 100%|██████████| 938/938 [01:13<00:00, 12.71it/s]\n"
          ]
        },
        {
          "output_type": "stream",
          "name": "stdout",
          "text": [
            "\n",
            "Test set: Average loss: 0.0832, Accuracy: 9741/10000 (97.41%)\n",
            "\n"
          ]
        }
      ]
    },
    {
      "cell_type": "code",
      "source": [
        "helper.model_summary(modelx,(1,28,28))"
      ],
      "metadata": {
        "colab": {
          "base_uri": "https://localhost:8080/"
        },
        "id": "I3QLK9jnxw2N",
        "outputId": "7d84c121-0c89-40bc-bbcc-5a1043788858"
      },
      "execution_count": null,
      "outputs": [
        {
          "output_type": "stream",
          "name": "stdout",
          "text": [
            "----------------------------------------------------------------\n",
            "        Layer (type)               Output Shape         Param #\n",
            "================================================================\n",
            "            Conv2d-1            [-1, 8, 26, 26]              72\n",
            "              ReLU-2            [-1, 8, 26, 26]               0\n",
            "         GroupNorm-3            [-1, 8, 26, 26]              16\n",
            "           Dropout-4            [-1, 8, 26, 26]               0\n",
            "            Conv2d-5           [-1, 16, 24, 24]           1,152\n",
            "              ReLU-6           [-1, 16, 24, 24]               0\n",
            "         GroupNorm-7           [-1, 16, 24, 24]              32\n",
            "           Dropout-8           [-1, 16, 24, 24]               0\n",
            "         MaxPool2d-9           [-1, 16, 12, 12]               0\n",
            "           Conv2d-10            [-1, 8, 12, 12]             128\n",
            "           Conv2d-11           [-1, 16, 10, 10]           1,152\n",
            "             ReLU-12           [-1, 16, 10, 10]               0\n",
            "        GroupNorm-13           [-1, 16, 10, 10]              32\n",
            "          Dropout-14           [-1, 16, 10, 10]               0\n",
            "        MaxPool2d-15             [-1, 16, 5, 5]               0\n",
            "           Conv2d-16              [-1, 8, 5, 5]             128\n",
            "        AvgPool2d-17              [-1, 8, 1, 1]               0\n",
            "           Conv2d-18             [-1, 16, 1, 1]             128\n",
            "        GroupNorm-19             [-1, 16, 1, 1]              32\n",
            "           Conv2d-20             [-1, 10, 1, 1]             160\n",
            "================================================================\n",
            "Total params: 3,032\n",
            "Trainable params: 3,032\n",
            "Non-trainable params: 0\n",
            "----------------------------------------------------------------\n",
            "Input size (MB): 0.00\n",
            "Forward/backward pass size (MB): 0.53\n",
            "Params size (MB): 0.01\n",
            "Estimated Total Size (MB): 0.54\n",
            "----------------------------------------------------------------\n",
            "None\n"
          ]
        }
      ]
    }
  ],
  "metadata": {
    "accelerator": "GPU",
    "colab": {
      "provenance": []
    },
    "kernelspec": {
      "display_name": "Python 3",
      "name": "python3"
    },
    "language_info": {
      "codemirror_mode": {
        "name": "ipython",
        "version": 3
      },
      "file_extension": ".py",
      "mimetype": "text/x-python",
      "name": "python",
      "nbconvert_exporter": "python",
      "pygments_lexer": "ipython3",
      "version": "3.10.11"
    }
  },
  "nbformat": 4,
  "nbformat_minor": 0
}